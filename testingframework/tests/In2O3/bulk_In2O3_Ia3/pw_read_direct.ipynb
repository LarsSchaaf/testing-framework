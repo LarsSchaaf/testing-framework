{
 "cells": [
  {
   "cell_type": "code",
   "execution_count": null,
   "id": "orange-georgia",
   "metadata": {},
   "outputs": [],
   "source": [
    "workdir='/gpfs/nobackup/projects/quantumchemistry/rom_cq/SOAPML/data/In2O3/espresso_calculations/train_set/'\n",
    "def pw2traj(workdir):\n",
    "from glob import glob\n",
    "all_runs=glob(workdir+'/*.pbs')\n",
    "traj=[]\n",
    "for i in range(len(all_runs)):\n",
    "# run=os.path.basename(fail_runs[i])[:-5]\n",
    "# run_dir=glob(workdir+'/{}_*.pbs'.format(fail_run))[0]\n",
    "\n",
    "\n",
    "\n",
    "run_dir=all_runs[i]\n",
    "prefix=os.path.basename(run_dir)\n",
    "\n",
    "\n",
    "\n",
    "converged= !grep \"convergence has been achieved\" $run_dir/pw.out\n",
    "\n",
    "\n",
    "\n",
    "if len(converged)>0:\n",
    "info={'type':prefix.split('_')[0],'uid':prefix.split('_')[1]}\n",
    "atoms=read(os.path.join(run_dir,'pw.out'))\n",
    "\n",
    "\n",
    "\n",
    "info={**info,**atoms.info}\n",
    "atoms.info=info\n",
    "\n",
    "\n",
    "\n",
    "magmom_dict = {'In': 10, \"O\": 4, \"C\": 3, \"H\": 1, \"N\": 3}\n",
    "\n",
    "\n",
    "\n",
    "# magmoms = []\n",
    "# for i in range(len(atoms)):\n",
    "\n",
    "\n",
    "\n",
    "# magmoms.append(magmom_dict[atoms[i].symbol])\n",
    "\n",
    "\n",
    "\n",
    "# atoms.set_initial_magnetic_moments(magmoms)\n",
    "\n",
    "\n",
    "\n",
    "traj.append(atoms)\n",
    "else:\n",
    "print(\"{} not converged\".format(prefix))\n",
    "return traj"
   ]
  },
  {
   "cell_type": "code",
   "execution_count": 1,
   "id": "extensive-security",
   "metadata": {},
   "outputs": [
    {
     "name": "stderr",
     "output_type": "stream",
     "text": [
      "[data      ] Logging setup was successful.\n"
     ]
    }
   ],
   "source": [
    "from gapalysis.utils.import_standard import *"
   ]
  },
  {
   "cell_type": "code",
   "execution_count": 2,
   "id": "indirect-mirror",
   "metadata": {},
   "outputs": [],
   "source": [
    "workdir='/gpfs/nobackup/projects/quantumchemistry/rom_cq/SOAPML/data/In2O3/espresso_calculations/train_set/'\n",
    "def pw2traj(workdir):\n",
    "    from glob import glob\n",
    "    all_runs=glob(workdir+'/*.pbs')\n",
    "    traj=[]\n",
    "    for i in range(len(all_runs)):\n",
    "    #     run=os.path.basename(fail_runs[i])[:-5]\n",
    "    #     run_dir=glob(workdir+'/{}_*.pbs'.format(fail_run))[0]\n",
    "        run_dir=all_runs[i]\n",
    "        prefix=os.path.basename(run_dir)\n",
    "        converged= !grep \"convergence has been achieved\" $run_dir/pw.out\n",
    "        if len(converged)>0:\n",
    "            info={'type':prefix.split('_')[0],'uid':prefix.split('_')[1]}\n",
    "            atoms=read(os.path.join(run_dir,'pw.out'))\n",
    "            info={**info,**atoms.info}\n",
    "            atoms.info=info\n",
    "            magmom_dict = {'In': 10, \"O\": 4, \"C\": 3, \"H\": 1, \"N\": 3}\n",
    "    #         magmoms = []\n",
    "    #         for i in range(len(atoms)):\n",
    "    #             magmoms.append(magmom_dict[atoms[i].symbol])\n",
    "    #         atoms.set_initial_magnetic_moments(magmoms)\n",
    "            traj.append(atoms)\n",
    "        else:\n",
    "            print(\"{} not converged\".format(prefix))\n",
    "    return traj\n"
   ]
  },
  {
   "cell_type": "code",
   "execution_count": 3,
   "id": "nervous-compact",
   "metadata": {},
   "outputs": [
    {
     "ename": "SyntaxError",
     "evalue": "invalid syntax (<ipython-input-3-a7183bca38cf>, line 1)",
     "output_type": "error",
     "traceback": [
      "\u001b[0;36m  File \u001b[0;32m\"<ipython-input-3-a7183bca38cf>\"\u001b[0;36m, line \u001b[0;32m1\u001b[0m\n\u001b[0;31m    .pbs\u001b[0m\n\u001b[0m    ^\u001b[0m\n\u001b[0;31mSyntaxError\u001b[0m\u001b[0;31m:\u001b[0m invalid syntax\n"
     ]
    }
   ],
   "source": []
  },
  {
   "cell_type": "code",
   "execution_count": 5,
   "id": "understood-valley",
   "metadata": {},
   "outputs": [],
   "source": [
    "at_pw = ase.io.read('/data/lls34/womble0/runs/0000/0094_Run_210608_13:30:00/3_Slab_5f5e8a8ad507dedf0ee10ce9_68946/pw.out')"
   ]
  },
  {
   "cell_type": "code",
   "execution_count": 6,
   "id": "prime-hampton",
   "metadata": {},
   "outputs": [],
   "source": [
    "at_xyz = ase.io.read('/data/lls34/womble0/runs/0000/0094_Run_210608_13:30:00/3_Slab_5f5e8a8ad507dedf0ee10ce9.xyz')"
   ]
  },
  {
   "cell_type": "code",
   "execution_count": 16,
   "id": "loved-spoke",
   "metadata": {},
   "outputs": [
    {
     "data": {
      "text/plain": [
       "array([8.66235109e-08, 8.64410019e-08, 2.65006313e-08, 2.96406003e-08,\n",
       "       5.83580019e-08, 3.04502012e-08, 1.97214860e-07, 1.23263354e-07,\n",
       "       5.04357645e-08, 5.33300819e-08, 2.72442837e-08, 2.42500942e-08,\n",
       "       1.02609927e-08, 1.13042649e-08, 2.72334153e-08, 3.07550652e-08,\n",
       "       2.84253002e-08, 8.82591961e-08, 1.32377945e-08])"
      ]
     },
     "execution_count": 16,
     "metadata": {},
     "output_type": "execute_result"
    }
   ],
   "source": [
    "np.linalg.norm(at_xyz.get_forces()-at_pw.get_forces(), axis=1)"
   ]
  },
  {
   "cell_type": "code",
   "execution_count": 14,
   "id": "allied-imperial",
   "metadata": {},
   "outputs": [
    {
     "data": {
      "text/plain": [
       "(-22001.386715659555, -22001.409870646945)"
      ]
     },
     "execution_count": 14,
     "metadata": {},
     "output_type": "execute_result"
    }
   ],
   "source": [
    "at_xyz.get_potential_energy(),at_pw.get_potential_energy()"
   ]
  },
  {
   "cell_type": "code",
   "execution_count": null,
   "id": "honest-robin",
   "metadata": {},
   "outputs": [],
   "source": []
  }
 ],
 "metadata": {
  "kernelspec": {
   "display_name": "Python 3",
   "language": "python",
   "name": "python3"
  },
  "language_info": {
   "codemirror_mode": {
    "name": "ipython",
    "version": 3
   },
   "file_extension": ".py",
   "mimetype": "text/x-python",
   "name": "python",
   "nbconvert_exporter": "python",
   "pygments_lexer": "ipython3",
   "version": "3.8.5"
  }
 },
 "nbformat": 4,
 "nbformat_minor": 5
}
