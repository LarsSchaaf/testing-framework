{
 "cells": [
  {
   "cell_type": "markdown",
   "id": "brown-venezuela",
   "metadata": {},
   "source": [
    "# Ase calculator qe\n",
    "\n",
    "To add the QE implmentation as a model to the test-framework, the values given to the qe calculator cannot depend on the spcific calculation being run or the atoms object. One solution to this is by including any atom dependent configs into the calculator itself. Ie for the calculator to adjust parameters based on the atoms object its calculating directly. \n",
    "\n",
    "The idea is hence to modify the calculator, such that for the slab systems the kpoints are adjusted inside the calculator function. \n",
    "\n",
    "There are a few QE parameters that currently depend on the specific atoms object which is being calculated. These are \n",
    "\n",
    "1. Surfaces\n",
    "    - stress, kpoints, dipole\n",
    "    ```python\n",
    "    calcstress = False\n",
    "    print(\"type {}: dipole correction on\".format(info[\"type\"]))\n",
    "    dipole = {\"status\": True}\n",
    "    kpts[2] = 1\n",
    "    ```\n",
    "2. Isolated Atoms\n",
    "    - stress, spinpol, \"initial_magmoms\"\n",
    "    ```python\n",
    "    calcstress = False\n",
    "    spinpol = False\n",
    "    kpts = \"gamma\"\n",
    "    atoms.arrays.pop(\"initial_magmoms\")\n",
    "    ```\n",
    "3. General\n",
    "    - kpoints\n",
    "    ```python\n",
    "    kspacing = 0.25 / (2.0 * np.pi)\n",
    "    kpts = kspacing_to_grid(atoms, spacing=kspacing)\n",
    "    ```\n",
    "    - prefix `prefix = \"QE_{}_0\".format(info[\"uid\"])`\n",
    "   \n",
    "\n",
    "    \n",
    "    \n",
    "Proposed fixing: \n",
    "- We add a variable Espresso( ..., slab_config={}), where {} is a dictionary of variables which will overwriten if the configuration is a slab configuration\n",
    "    "
   ]
  },
  {
   "cell_type": "code",
   "execution_count": 13,
   "id": "ready-recycling",
   "metadata": {},
   "outputs": [
    {
     "data": {
      "text/plain": [
       "array([2])"
      ]
     },
     "execution_count": 13,
     "metadata": {},
     "output_type": "execute_result"
    }
   ],
   "source": [
    "import ase.io\n",
    "ats = ase.io.read('/data/lls34/Data/In2O3/In2O3_LS_1/04_QE2/03_Observalbes/01_Surface_Energy/non-symmetric/Original_Surfaces/Ia3_8_8.xyz')\n",
    "\n",
    "atoms = ats.copy()\n",
    "ats.center(vacuum=0)\n",
    "diff = atoms.cell-ats.cell\n",
    "np.arange(3)[np.sum(diff>1, axis=1) != 0]"
   ]
  },
  {
   "cell_type": "code",
   "execution_count": 21,
   "id": "technological-tobago",
   "metadata": {},
   "outputs": [
    {
     "data": {
      "text/plain": [
       "array([2.23606798, 2.        , 1.        ])"
      ]
     },
     "execution_count": 21,
     "metadata": {},
     "output_type": "execute_result"
    }
   ],
   "source": [
    "np.linalg.norm([[1,2,0],[2,0,0], [1,0,0]], axis=1)"
   ]
  },
  {
   "cell_type": "code",
   "execution_count": 15,
   "id": "animated-thumb",
   "metadata": {},
   "outputs": [],
   "source": [
    "a = [0,1,2,3]"
   ]
  },
  {
   "cell_type": "code",
   "execution_count": 16,
   "id": "educational-millennium",
   "metadata": {},
   "outputs": [
    {
     "data": {
      "text/plain": [
       "[0, 10, 2, 10]"
      ]
     },
     "execution_count": 16,
     "metadata": {},
     "output_type": "execute_result"
    }
   ],
   "source": [
    "b = [1,3]\n",
    "for i in b:\n",
    "    a[i] = 10\n",
    "a"
   ]
  },
  {
   "cell_type": "code",
   "execution_count": 18,
   "id": "obvious-asthma",
   "metadata": {},
   "outputs": [
    {
     "data": {
      "text/plain": [
       "array([37.13559891, 14.56578027, 84.93236405])"
      ]
     },
     "execution_count": 18,
     "metadata": {},
     "output_type": "execute_result"
    }
   ],
   "source": [
    "np.max(np.linalg.norm(atoms.cell,axis=1))"
   ]
  },
  {
   "cell_type": "code",
   "execution_count": 22,
   "id": "weighted-showcase",
   "metadata": {},
   "outputs": [
    {
     "data": {
      "text/plain": [
       "37147.97852470845"
      ]
     },
     "execution_count": 22,
     "metadata": {},
     "output_type": "execute_result"
    }
   ],
   "source": [
    "atoms.get_volume()"
   ]
  },
  {
   "cell_type": "markdown",
   "id": "tropical-brick",
   "metadata": {},
   "source": [
    "# Just QE calculator"
   ]
  },
  {
   "cell_type": "code",
   "execution_count": 2,
   "id": "interstate-mobile",
   "metadata": {},
   "outputs": [],
   "source": [
    "from espresso.espresso import Espresso            # Espresso Library\n",
    "from ase import units # Ase Units\n",
    "from espresso.siteconfig import SiteConfig\n",
    "from ase.io import read, write\n",
    "from ase.io.espresso import kspacing_to_grid\n",
    "import sys\n",
    "import os\n",
    "import numpy as np"
   ]
  },
  {
   "cell_type": "code",
   "execution_count": null,
   "id": "corporate-malawi",
   "metadata": {},
   "outputs": [],
   "source": [
    "\"\"\"\n",
    "Python script for running QE with the github calculator\n",
    "\n",
    "This was originally created by Sandip on Feb 2021. The code requires the espresso\n",
    ".esspresso to be installed. This was modified to work on womble0 using the GridEngine\n",
    "\n",
    "The script can be called by\n",
    "\n",
    "`python qe_simple.py traj.xyz 2`\n",
    "\n",
    "where 2 is the configuraiton in traj.xyz that should be calculated\n",
    "\n",
    " - still need to do out directory\n",
    "\"\"\"\n",
    "\n",
    "from espresso.espresso import Espresso            # Espresso Library\n",
    "from ase import units # Ase Units\n",
    "from espresso.siteconfig import SiteConfig\n",
    "from ase.io import read, write\n",
    "from ase.io.espresso import kspacing_to_grid\n",
    "import sys\n",
    "import os\n",
    "import numpy as np\n",
    "\n",
    "\n",
    "# ---- Setting Variables\n",
    "\n",
    "# Environements\n",
    "os.environ[\"SCRATCH\"] = \"/home/lls34/trash/scratch/\"\n",
    "\n",
    "PSP_PATH = (\n",
    "    \"/home/lls34/programs/QuantumExpresso/pseudopotentials/use_pot\"  # Pseudo Potentails\n",
    ")\n",
    "\n",
    "# Sceduling Properties\n",
    "site = SiteConfig(\"GE\", scratchenv=\"SCRATCH\")\n",
    "site = SiteConfig(scheduler=None)\n",
    "\n",
    "\n",
    "\n",
    "# Atom specific properties\n",
    "\n",
    "atoms = atoms\n",
    "\n",
    "info = {\"uid\": atoms.info[\"uid\"], \"type\": atoms.info[\"type\"]}\n",
    "\n",
    "prefix = \"QE_{}_0\".format(info[\"uid\"])\n",
    "\n",
    "j = 0\n",
    "# Make sure unique output file\n",
    "while os.path.exists(os.path.join(prefix)) or os.path.exists(\n",
    "    os.path.join(prefix, \".xyz\")\n",
    "):\n",
    "    prefix = \"QE_{}_{}\".format(info[\"uid\"], j)\n",
    "    j += 1\n",
    "\n",
    "    if j > 1000:\n",
    "        raise ValueError(\"While loop ran too often\")\n",
    "print(f\"New prefix {prefix}\")\n",
    "\n",
    "# Now Properites\n",
    "\n",
    "\n",
    "kspacing = 0.25 / (2.0 * np.pi)\n",
    "\n",
    "kpts = kspacing_to_grid(atoms, spacing=0.25 / (2.0 * np.pi))\n",
    "xc = \"PBE\"\n",
    "dipole = {\"status\": False}\n",
    "calcstress = True\n",
    "spinpol = True\n",
    "\n",
    "convergence = {\n",
    "    \"energy\": 1e-7,\n",
    "    \"mixing\": 0.5,\n",
    "    \"nmix\": 10,\n",
    "    \"maxsteps\": 500,\n",
    "    \"diag\": \"david\",\n",
    "}\n",
    "\n",
    "if \"Slab\" in info[\"type\"]:\n",
    "    calcstress = False\n",
    "    print(\"type {}: dipole correction on\".format(info[\"type\"]))\n",
    "    dipole = {\"status\": True}\n",
    "    kpts[2] = 1\n",
    "\n",
    "print(f\"using kpts: {kpts}\")\n",
    "\n",
    "magmom_dict = {\"In\": 10, \"O\": 4, \"C\": 3, \"H\": 1, \"N\": 3}\n",
    "magmoms = []\n",
    "\n",
    "for i in range(len(atoms)):\n",
    "    magmoms.append(magmom_dict[atoms[i].symbol])\n",
    "\n",
    "atoms.set_initial_magnetic_moments(magmoms)\n",
    "\n",
    "if \"isolated_atom\" in info[\"type\"]:\n",
    "    calcstress = False\n",
    "    spinpol = False\n",
    "    kpts = \"gamma\"\n",
    "    atoms.arrays.pop(\"initial_magmoms\")\n",
    "\n",
    "calc = Espresso(\n",
    "    # pseudopotentials=pseudopotentials,\n",
    "    pw=65 * units.Ry,  # plane-wave cut-off in eV, defaults to 350.0\n",
    "    dw=8 * 65 * units.Ry,  # default 10*pw\n",
    "    xc=xc,\n",
    "    kpts=kpts,\n",
    "    calculation=\"scf\",\n",
    "    psppath=PSP_PATH,\n",
    "    parflags=\"-npool 1\",\n",
    "    nbands=-20,\n",
    "    occupations=\"smearing\",\n",
    "    sigma=0.1,\n",
    "    smearing=\"gaussian\",\n",
    "    convergence=convergence,\n",
    "    dipole=dipole,\n",
    "    calcstress=calcstress,\n",
    "    spinpol=spinpol,\n",
    "    # vdw_corr='D3',\n",
    "    output={\n",
    "        \"removesave\": False,\n",
    "        \"avoidio\": False,\n",
    "        \"removewf\": False,\n",
    "        \"wf_collect\": True,\n",
    "    },\n",
    "    outdir=prefix,\n",
    "    site=site,\n",
    "    txt=\"pw.out\",\n",
    ")\n",
    "\n",
    "try:\n",
    "    atoms.set_calculator(calc)\n",
    "    print(f\"PE: {atoms.get_potential_energy()}\")\n",
    "    atoms.info = info\n",
    "    write(\"{}.xyz\".format(prefix), [atoms], format=\"extxyz\")\n",
    "    atoms = read(\"{}.xyz\".format(prefix))\n",
    "    info = atoms.info\n",
    "    if \"stress\" in atoms.info.keys():\n",
    "        info[\"virial\"] = -atoms.info[\"stress\"] / atoms.get_volume()\n",
    "        atoms.info = info\n",
    "        print(\"writing new\")\n",
    "        write(\"{}.xyz\".format(prefix), [atoms], format=\"extxyz\")\n",
    "\n",
    "except ImportError as e:\n",
    "    open(\"{}.FAIL\".format(prefix), \"w\").close()\n",
    "    print(f\"Error: {prefix}, {e}\")\n"
   ]
  },
  {
   "cell_type": "markdown",
   "id": "permanent-infrastructure",
   "metadata": {},
   "source": [
    "# With new ase-espresso"
   ]
  },
  {
   "cell_type": "code",
   "execution_count": 30,
   "id": "laughing-daisy",
   "metadata": {},
   "outputs": [
    {
     "data": {
      "text/plain": [
       "'/home/lls34/GitHub/01_PhD/PhD_Code/submodules/testing-framework/testing-framework/examples'"
      ]
     },
     "execution_count": 30,
     "metadata": {},
     "output_type": "execute_result"
    },
    {
     "name": "stdout",
     "output_type": "stream",
     "text": [
      "The history saving thread hit an unexpected error (OperationalError('attempt to write a readonly database')).History will not be written to the database.\n"
     ]
    }
   ],
   "source": [
    "pwd"
   ]
  },
  {
   "cell_type": "code",
   "execution_count": 33,
   "id": "national-cause",
   "metadata": {},
   "outputs": [],
   "source": []
  },
  {
   "cell_type": "code",
   "execution_count": 29,
   "id": "invalid-assets",
   "metadata": {},
   "outputs": [
    {
     "ename": "TypeError",
     "evalue": "Invalid initial value for path: None",
     "output_type": "error",
     "traceback": [
      "\u001b[0;31m---------------------------------------------------------------------------\u001b[0m",
      "\u001b[0;31mTypeError\u001b[0m                                 Traceback (most recent call last)",
      "\u001b[0;32m<ipython-input-29-f20bd0642a82>\u001b[0m in \u001b[0;36m<module>\u001b[0;34m\u001b[0m\n\u001b[1;32m     34\u001b[0m \u001b[0;34m\u001b[0m\u001b[0m\n\u001b[1;32m     35\u001b[0m \u001b[0;31m# Sceduling Properties\u001b[0m\u001b[0;34m\u001b[0m\u001b[0;34m\u001b[0m\u001b[0;34m\u001b[0m\u001b[0m\n\u001b[0;32m---> 36\u001b[0;31m \u001b[0msite\u001b[0m \u001b[0;34m=\u001b[0m \u001b[0mSiteConfig\u001b[0m\u001b[0;34m(\u001b[0m\u001b[0;34m\"GE\"\u001b[0m\u001b[0;34m,\u001b[0m \u001b[0mscratchenv\u001b[0m\u001b[0;34m=\u001b[0m\u001b[0;34m\"SCRATCH\"\u001b[0m\u001b[0;34m)\u001b[0m\u001b[0;34m\u001b[0m\u001b[0;34m\u001b[0m\u001b[0m\n\u001b[0m\u001b[1;32m     37\u001b[0m \u001b[0msite\u001b[0m \u001b[0;34m=\u001b[0m \u001b[0mSiteConfig\u001b[0m\u001b[0;34m(\u001b[0m\u001b[0mscheduler\u001b[0m\u001b[0;34m=\u001b[0m\u001b[0;32mNone\u001b[0m\u001b[0;34m)\u001b[0m\u001b[0;34m\u001b[0m\u001b[0;34m\u001b[0m\u001b[0m\n\u001b[1;32m     38\u001b[0m \u001b[0;34m\u001b[0m\u001b[0m\n",
      "\u001b[0;32m~/GitHub/10_QE_Interface/ase-espresso/espresso/siteconfig.py\u001b[0m in \u001b[0;36m__call__\u001b[0;34m(cls, *args, **kwargs)\u001b[0m\n\u001b[1;32m     60\u001b[0m     \u001b[0;32mdef\u001b[0m \u001b[0m__call__\u001b[0m\u001b[0;34m(\u001b[0m\u001b[0mcls\u001b[0m\u001b[0;34m,\u001b[0m \u001b[0;34m*\u001b[0m\u001b[0margs\u001b[0m\u001b[0;34m,\u001b[0m \u001b[0;34m**\u001b[0m\u001b[0mkwargs\u001b[0m\u001b[0;34m)\u001b[0m\u001b[0;34m:\u001b[0m\u001b[0;34m\u001b[0m\u001b[0;34m\u001b[0m\u001b[0m\n\u001b[1;32m     61\u001b[0m         \u001b[0;32mif\u001b[0m \u001b[0mcls\u001b[0m \u001b[0;32mnot\u001b[0m \u001b[0;32min\u001b[0m \u001b[0mSingleton\u001b[0m\u001b[0;34m.\u001b[0m\u001b[0m_instances\u001b[0m\u001b[0;34m:\u001b[0m\u001b[0;34m\u001b[0m\u001b[0;34m\u001b[0m\u001b[0m\n\u001b[0;32m---> 62\u001b[0;31m             \u001b[0mSingleton\u001b[0m\u001b[0;34m.\u001b[0m\u001b[0m_instances\u001b[0m\u001b[0;34m[\u001b[0m\u001b[0mcls\u001b[0m\u001b[0;34m]\u001b[0m \u001b[0;34m=\u001b[0m \u001b[0mtype\u001b[0m\u001b[0;34m.\u001b[0m\u001b[0m__call__\u001b[0m\u001b[0;34m(\u001b[0m\u001b[0mcls\u001b[0m\u001b[0;34m,\u001b[0m \u001b[0;34m*\u001b[0m\u001b[0margs\u001b[0m\u001b[0;34m,\u001b[0m \u001b[0;34m**\u001b[0m\u001b[0mkwargs\u001b[0m\u001b[0;34m)\u001b[0m\u001b[0;34m\u001b[0m\u001b[0;34m\u001b[0m\u001b[0m\n\u001b[0m\u001b[1;32m     63\u001b[0m         \u001b[0;32mreturn\u001b[0m \u001b[0mSingleton\u001b[0m\u001b[0;34m.\u001b[0m\u001b[0m_instances\u001b[0m\u001b[0;34m[\u001b[0m\u001b[0mcls\u001b[0m\u001b[0;34m]\u001b[0m\u001b[0;34m\u001b[0m\u001b[0;34m\u001b[0m\u001b[0m\n\u001b[1;32m     64\u001b[0m \u001b[0;34m\u001b[0m\u001b[0m\n",
      "\u001b[0;32m~/GitHub/10_QE_Interface/ase-espresso/espresso/siteconfig.py\u001b[0m in \u001b[0;36m__init__\u001b[0;34m(self, scheduler, usehostfile, scratchenv)\u001b[0m\n\u001b[1;32m    102\u001b[0m         \u001b[0mself\u001b[0m\u001b[0;34m.\u001b[0m\u001b[0mtpn\u001b[0m \u001b[0;34m=\u001b[0m \u001b[0;32mNone\u001b[0m\u001b[0;34m\u001b[0m\u001b[0;34m\u001b[0m\u001b[0m\n\u001b[1;32m    103\u001b[0m \u001b[0;34m\u001b[0m\u001b[0m\n\u001b[0;32m--> 104\u001b[0;31m         \u001b[0mself\u001b[0m\u001b[0;34m.\u001b[0m\u001b[0mset_variables\u001b[0m\u001b[0;34m(\u001b[0m\u001b[0;34m)\u001b[0m\u001b[0;34m\u001b[0m\u001b[0;34m\u001b[0m\u001b[0m\n\u001b[0m\u001b[1;32m    105\u001b[0m \u001b[0;34m\u001b[0m\u001b[0m\n\u001b[1;32m    106\u001b[0m     \u001b[0;32mdef\u001b[0m \u001b[0mset_variables\u001b[0m\u001b[0;34m(\u001b[0m\u001b[0mself\u001b[0m\u001b[0;34m)\u001b[0m\u001b[0;34m:\u001b[0m\u001b[0;34m\u001b[0m\u001b[0;34m\u001b[0m\u001b[0m\n",
      "\u001b[0;32m~/GitHub/10_QE_Interface/ase-espresso/espresso/siteconfig.py\u001b[0m in \u001b[0;36mset_variables\u001b[0;34m(self)\u001b[0m\n\u001b[1;32m    116\u001b[0m             \u001b[0mself\u001b[0m\u001b[0;34m.\u001b[0m\u001b[0mset_pbs_env\u001b[0m\u001b[0;34m(\u001b[0m\u001b[0;34m)\u001b[0m\u001b[0;34m\u001b[0m\u001b[0;34m\u001b[0m\u001b[0m\n\u001b[1;32m    117\u001b[0m         \u001b[0;32melif\u001b[0m \u001b[0mself\u001b[0m\u001b[0;34m.\u001b[0m\u001b[0mscheduler\u001b[0m\u001b[0;34m.\u001b[0m\u001b[0mlower\u001b[0m\u001b[0;34m(\u001b[0m\u001b[0;34m)\u001b[0m \u001b[0;34m==\u001b[0m \u001b[0;34m\"ge\"\u001b[0m\u001b[0;34m:\u001b[0m  \u001b[0;31m# grid engine\u001b[0m\u001b[0;34m\u001b[0m\u001b[0;34m\u001b[0m\u001b[0m\n\u001b[0;32m--> 118\u001b[0;31m             \u001b[0mself\u001b[0m\u001b[0;34m.\u001b[0m\u001b[0mset_grid_engine_env\u001b[0m\u001b[0;34m(\u001b[0m\u001b[0;34m)\u001b[0m\u001b[0;34m\u001b[0m\u001b[0;34m\u001b[0m\u001b[0m\n\u001b[0m\u001b[1;32m    119\u001b[0m \u001b[0;34m\u001b[0m\u001b[0m\n\u001b[1;32m    120\u001b[0m     \u001b[0;34m@\u001b[0m\u001b[0mclassmethod\u001b[0m\u001b[0;34m\u001b[0m\u001b[0;34m\u001b[0m\u001b[0m\n",
      "\u001b[0;32m~/GitHub/10_QE_Interface/ase-espresso/espresso/siteconfig.py\u001b[0m in \u001b[0;36mset_grid_engine_env\u001b[0;34m(self)\u001b[0m\n\u001b[1;32m    250\u001b[0m \u001b[0;34m\u001b[0m\u001b[0m\n\u001b[1;32m    251\u001b[0m         \u001b[0mself\u001b[0m\u001b[0;34m.\u001b[0m\u001b[0mjobid\u001b[0m \u001b[0;34m=\u001b[0m \u001b[0mos\u001b[0m\u001b[0;34m.\u001b[0m\u001b[0mgetenv\u001b[0m\u001b[0;34m(\u001b[0m\u001b[0;34m\"JOB_ID\"\u001b[0m\u001b[0;34m)\u001b[0m\u001b[0;34m\u001b[0m\u001b[0;34m\u001b[0m\u001b[0m\n\u001b[0;32m--> 252\u001b[0;31m         \u001b[0mself\u001b[0m\u001b[0;34m.\u001b[0m\u001b[0msubmitdir\u001b[0m \u001b[0;34m=\u001b[0m \u001b[0mPath\u001b[0m\u001b[0;34m(\u001b[0m\u001b[0mos\u001b[0m\u001b[0;34m.\u001b[0m\u001b[0mgetenv\u001b[0m\u001b[0;34m(\u001b[0m\u001b[0;34m\"SGE_O_WORKDIR\"\u001b[0m\u001b[0;34m)\u001b[0m\u001b[0;34m)\u001b[0m\u001b[0;34m\u001b[0m\u001b[0;34m\u001b[0m\u001b[0m\n\u001b[0m\u001b[1;32m    253\u001b[0m \u001b[0;34m\u001b[0m\u001b[0m\n\u001b[1;32m    254\u001b[0m         \u001b[0;31m# nodefile = os.getenv('PBS_NODEFILE')\u001b[0m\u001b[0;34m\u001b[0m\u001b[0;34m\u001b[0m\u001b[0;34m\u001b[0m\u001b[0m\n",
      "\u001b[0;32m~/miniconda3/envs/phd-code/lib/python3.8/site-packages/path/__init__.py\u001b[0m in \u001b[0;36m__init__\u001b[0;34m(self, other)\u001b[0m\n\u001b[1;32m    162\u001b[0m     \u001b[0;32mdef\u001b[0m \u001b[0m__init__\u001b[0m\u001b[0;34m(\u001b[0m\u001b[0mself\u001b[0m\u001b[0;34m,\u001b[0m \u001b[0mother\u001b[0m\u001b[0;34m=\u001b[0m\u001b[0;34m''\u001b[0m\u001b[0;34m)\u001b[0m\u001b[0;34m:\u001b[0m\u001b[0;34m\u001b[0m\u001b[0;34m\u001b[0m\u001b[0m\n\u001b[1;32m    163\u001b[0m         \u001b[0;32mif\u001b[0m \u001b[0mother\u001b[0m \u001b[0;32mis\u001b[0m \u001b[0;32mNone\u001b[0m\u001b[0;34m:\u001b[0m\u001b[0;34m\u001b[0m\u001b[0;34m\u001b[0m\u001b[0m\n\u001b[0;32m--> 164\u001b[0;31m             \u001b[0;32mraise\u001b[0m \u001b[0mTypeError\u001b[0m\u001b[0;34m(\u001b[0m\u001b[0;34m\"Invalid initial value for path: None\"\u001b[0m\u001b[0;34m)\u001b[0m\u001b[0;34m\u001b[0m\u001b[0;34m\u001b[0m\u001b[0m\n\u001b[0m\u001b[1;32m    165\u001b[0m \u001b[0;34m\u001b[0m\u001b[0m\n\u001b[1;32m    166\u001b[0m     \u001b[0;34m@\u001b[0m\u001b[0mclassmethod\u001b[0m\u001b[0;34m\u001b[0m\u001b[0;34m\u001b[0m\u001b[0m\n",
      "\u001b[0;31mTypeError\u001b[0m: Invalid initial value for path: None"
     ]
    }
   ],
   "source": [
    "\"\"\"\n",
    "Python script for running QE with the github calculator\n",
    "\n",
    "This was originally created by Sandip on Feb 2021. The code requires the espresso\n",
    ".esspresso to be installed. This was modified to work on womble0 using the GridEngine\n",
    "\n",
    "The script can be called by\n",
    "\n",
    "`python qe_simple.py traj.xyz 2`\n",
    "\n",
    "where 2 is the configuraiton in traj.xyz that should be calculated\n",
    "\n",
    " - still need to do out directory\n",
    "\"\"\"\n",
    "\n",
    "from espresso.espresso import Espresso            # Espresso Library\n",
    "from ase import units # Ase Units\n",
    "from espresso.siteconfig import SiteConfig\n",
    "from ase.io import read, write\n",
    "from ase.io.espresso import kspacing_to_grid\n",
    "import sys\n",
    "import os\n",
    "import numpy as np\n",
    "\n",
    "\n",
    "# ---- Setting Variables\n",
    "\n",
    "# Environements\n",
    "os.environ[\"SCRATCH\"] = \"/home/lls34/trash/scratch/\"\n",
    "\n",
    "atoms = ase.io.read('/home/lls34/GitHub/01_PhD/PhD_Code/submodules/testing-framework/testing-framework/examples/In_mp-1055994_primitive.cif')\n",
    "os.environ['SGE_O_WORKDIR'] = '/home/lls34/GitHub/01_PhD/PhD_Code/submodules/testing-framework/testing-framework/examples'\n",
    "os.environ[\"NSLOTS\"]='1'\n",
    "\n",
    "\n",
    "PSP_PATH = (\n",
    "    \"/home/lls34/programs/QuantumExpresso/pseudopotentials/use_pot\"  # Pseudo Potentails\n",
    ")\n",
    "\n",
    "# Sceduling Properties\n",
    "site = SiteConfig(\"GE\", scratchenv=\"SCRATCH\")\n",
    "site = SiteConfig(scheduler=None)\n",
    "\n",
    "\n",
    "\n",
    "# Atom specific properties\n",
    "\n",
    "atoms = atoms\n",
    "\n",
    "#info = {\"uid\": atoms.info[\"uid\"], \"type\": atoms.info[\"type\"]}\n",
    "\n",
    "prefix = 'test' #\"QE_{}_0\".format(info[\"uid\"])\n",
    "\n",
    "j = 0\n",
    "# Make sure unique output file\n",
    "while os.path.exists(os.path.join(prefix)) or os.path.exists(\n",
    "    os.path.join(prefix, \".xyz\")\n",
    "):\n",
    "    prefix = \"QE_{}_{}\".format(info[\"uid\"], j)\n",
    "    j += 1\n",
    "\n",
    "    if j > 1000:\n",
    "        raise ValueError(\"While loop ran too often\")\n",
    "print(f\"New prefix {prefix}\")\n",
    "\n",
    "# Now Properites\n",
    "\n",
    "\n",
    "kspacing = 0.25 / (2.0 * np.pi)\n",
    "\n",
    "kpts = kspacing_to_grid(atoms, spacing=0.25 / (2.0 * np.pi))\n",
    "xc = \"PBE\"\n",
    "dipole = {\"status\": False}\n",
    "calcstress = True\n",
    "spinpol = True\n",
    "\n",
    "convergence = {\n",
    "    \"energy\": 1e-7,\n",
    "    \"mixing\": 0.5,\n",
    "    \"nmix\": 10,\n",
    "    \"maxsteps\": 500,\n",
    "    \"diag\": \"david\",\n",
    "}\n",
    "\n",
    "# if \"Slab\" in info[\"type\"]:\n",
    "#     calcstress = False\n",
    "#     print(\"type {}: dipole correction on\".format(info[\"type\"]))\n",
    "#     dipole = {\"status\": True}\n",
    "#     kpts[2] = 1\n",
    "\n",
    "print(f\"using kpts: {kpts}\")\n",
    "\n",
    "magmom_dict = {\"In\": 10, \"O\": 4, \"C\": 3, \"H\": 1, \"N\": 3}\n",
    "magmoms = []\n",
    "\n",
    "for i in range(len(atoms)):\n",
    "    magmoms.append(magmom_dict[atoms[i].symbol])\n",
    "\n",
    "atoms.set_initial_magnetic_moments(magmoms)\n",
    "\n",
    "# if \"isolated_atom\" in info[\"type\"]:\n",
    "#     calcstress = False\n",
    "#     spinpol = False\n",
    "#     kpts = \"gamma\"\n",
    "#     atoms.arrays.pop(\"initial_magmoms\")\n",
    "\n",
    "calc = Espresso(\n",
    "    # pseudopotentials=pseudopotentials,\n",
    "    pw=65 * units.Ry,  # plane-wave cut-off in eV, defaults to 350.0\n",
    "    dw=8 * 65 * units.Ry,  # default 10*pw\n",
    "    xc=xc,\n",
    "    kpts=kpts,\n",
    "    calculation=\"scf\",\n",
    "    psppath=PSP_PATH,\n",
    "    parflags=\"-npool 1\",\n",
    "    nbands=-20,\n",
    "    occupations=\"smearing\",\n",
    "    sigma=0.1,\n",
    "    smearing=\"gaussian\",\n",
    "    convergence=convergence,\n",
    "    dipole=dipole,\n",
    "    calcstress=calcstress,\n",
    "    spinpol=spinpol,\n",
    "    # vdw_corr='D3',\n",
    "    output={\n",
    "        \"removesave\": False,\n",
    "        \"avoidio\": False,\n",
    "        \"removewf\": False,\n",
    "        \"wf_collect\": True,\n",
    "    },\n",
    "    outdir=prefix,\n",
    "    site=site,\n",
    "    txt=\"pw.out\",\n",
    ")\n",
    "\n",
    "try:\n",
    "    atoms.set_calculator(calc)\n",
    "    print(f\"PE: {atoms.get_potential_energy()}\")\n",
    "    #atoms.info = info\n",
    "    write(\"{}.xyz\".format(prefix), [atoms], format=\"extxyz\")\n",
    "    atoms = read(\"{}.xyz\".format(prefix))\n",
    "    #info = atoms.info\n",
    "    if \"stress\" in atoms.info.keys():\n",
    "        info[\"virial\"] = -atoms.info[\"stress\"] / atoms.get_volume()\n",
    "        atoms.info = info\n",
    "        print(\"writing new\")\n",
    "        write(\"{}.xyz\".format(prefix), [atoms], format=\"extxyz\")\n",
    "\n",
    "except ImportError as e:\n",
    "    open(\"{}.FAIL\".format(prefix), \"w\").close()\n",
    "    print(f\"Error: {prefix}, {e}\")\n",
    "\n"
   ]
  },
  {
   "cell_type": "code",
   "execution_count": null,
   "id": "twelve-balance",
   "metadata": {},
   "outputs": [],
   "source": []
  }
 ],
 "metadata": {
  "kernelspec": {
   "display_name": "Python 3",
   "language": "python",
   "name": "python3"
  },
  "language_info": {
   "codemirror_mode": {
    "name": "ipython",
    "version": 3
   },
   "file_extension": ".py",
   "mimetype": "text/x-python",
   "name": "python",
   "nbconvert_exporter": "python",
   "pygments_lexer": "ipython3",
   "version": "3.8.5"
  }
 },
 "nbformat": 4,
 "nbformat_minor": 5
}
