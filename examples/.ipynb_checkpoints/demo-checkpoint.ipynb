{
 "cells": [
  {
   "cell_type": "markdown",
   "metadata": {
    "id": "-FgbMdyVHu0t"
   },
   "source": [
    "# Demonstration of Interatomic Potential Testing Framework\n",
    "\n",
    "**James Kermode**\n",
    "<br>\n",
    "March 2021\n",
    "\n",
    "Data and code available from https://github.com/libAtoms/testing-framework\n"
   ]
  },
  {
   "cell_type": "code",
   "execution_count": null,
   "metadata": {
    "id": "nn9ukbPtBHha"
   },
   "outputs": [],
   "source": [
    "import itertools\n",
    "import json\n",
    "import os\n",
    "\n",
    "import numpy as np\n",
    "import pandas as pd\n",
    "import matplotlib.pyplot as plt\n",
    "import seaborn as sns\n",
    "import nglview\n",
    "\n",
    "from ase.io import read\n",
    "\n",
    "sns.set_context('talk')\n",
    "\n",
    "os.chdir(os.path.expanduser('../example_models/Si/run_dir'))\n",
    "! [[ ! -d ../tests ]] && ln -s ~/tests/Si ../tests"
   ]
  },
  {
   "cell_type": "markdown",
   "metadata": {
    "id": "M82uZjB7Hkv9"
   },
   "source": [
    "## Energy-Volume curves\n",
    "\n",
    "We can read in the existing data:"
   ]
  },
  {
   "cell_type": "code",
   "execution_count": null,
   "metadata": {
    "colab": {
     "base_uri": "https://localhost:8080/",
     "height": 518
    },
    "id": "VaLrrZXXBOuH",
    "outputId": "7d12de90-9a8a-4b28-de03-81767c1c4ab5"
   },
   "outputs": [],
   "source": [
    "def read_data(model_names):\n",
    "    data = {}\n",
    "    for model_name in model_names:\n",
    "        json_file = f\"Si-model-{model_name}-test-bulk_Si_diamond-properties.json\"\n",
    "        model_name = os.path.basename(json_file).split('-')[2]\n",
    "        data[model_name] = json.load(open(json_file))\n",
    "    return data\n",
    "    \n",
    "data = read_data(['CASTEP_ASE', 'GAP'])\n",
    "ref_model_name = 'CASTEP_ASE'"
   ]
  },
  {
   "cell_type": "code",
   "execution_count": null,
   "metadata": {},
   "outputs": [],
   "source": [
    "data"
   ]
  },
  {
   "cell_type": "markdown",
   "metadata": {
    "colab": {
     "base_uri": "https://localhost:8080/",
     "height": 521
    },
    "id": "h3mnmdaZKD3v",
    "outputId": "adb1ac29-c90f-488f-8219-f8c7a5c9f155"
   },
   "source": [
    "Now we define some simple functions to plot energy volume curves for the reference DFT and GAP models. Here we fit a quartic polynomial to the data."
   ]
  },
  {
   "cell_type": "code",
   "execution_count": null,
   "metadata": {
    "colab": {
     "base_uri": "https://localhost:8080/",
     "height": 518
    },
    "id": "VaLrrZXXBOuH",
    "outputId": "7d12de90-9a8a-4b28-de03-81767c1c4ab5"
   },
   "outputs": [],
   "source": [
    "def polyplot(ax, V, E, color, label):\n",
    "    p = np.polyfit(V, E - E.min(), 4)\n",
    "    v = np.linspace(V.min(), V.max(), 100)\n",
    "    e = np.polyval(p, v)\n",
    "    ax.plot(V, E - E.min(), color+'.', label=label+' data')\n",
    "    ax.plot(v, e, color+'-', label=label+' fit')\n",
    "\n",
    "def plot_e_vs_v(all_data, ref_model_name, colors=None):\n",
    "    ref_data = all_data[ref_model_name]\n",
    "    ref_E_vs_V = np.array(ref_data['E_vs_V'])\n",
    "    fig, ax = plt.subplots(figsize=(12,8))\n",
    "    polyplot(ax, ref_E_vs_V[:,0], ref_E_vs_V[:,1], 'k', 'DFT')\n",
    "    \n",
    "    if colors is None:\n",
    "        colors = itertools.cycle(['C0', 'C1', 'C2', 'C3', 'C4'])\n",
    "\n",
    "    for model_name, color in zip(all_data, colors):\n",
    "        if model_name == ref_model_name:\n",
    "            continue\n",
    "        data = all_data[model_name]\n",
    "        E_vs_V = np.array(data['E_vs_V'], dtype=object)\n",
    "        V = E_vs_V[:, 0].astype(float)\n",
    "        E = E_vs_V[:, 1].astype(float)\n",
    "        polyplot(ax, V, E - E.min(), color, model_name)        \n",
    "        \n",
    "\n",
    "    ax.set_xlabel(r'Volume / $\\mathrm{\\AA}^3$')\n",
    "    ax.set_ylabel('Energy / eV')\n",
    "    plt.legend()\n",
    "    \n",
    "plot_e_vs_v(data, ref_model_name)"
   ]
  },
  {
   "cell_type": "markdown",
   "metadata": {},
   "source": [
    "## Bulk Properties\n",
    "\n",
    "As well as the energy volume curve, the bulk test computes a number of other bulk properties, which we can tabulate:"
   ]
  },
  {
   "cell_type": "code",
   "execution_count": 85,
   "metadata": {},
   "outputs": [
    {
     "data": {
      "text/html": [
       "<div>\n",
       "<style scoped>\n",
       "    .dataframe tbody tr th:only-of-type {\n",
       "        vertical-align: middle;\n",
       "    }\n",
       "\n",
       "    .dataframe tbody tr th {\n",
       "        vertical-align: top;\n",
       "    }\n",
       "\n",
       "    .dataframe thead th {\n",
       "        text-align: right;\n",
       "    }\n",
       "</style>\n",
       "<table border=\"1\" class=\"dataframe\">\n",
       "  <thead>\n",
       "    <tr style=\"text-align: right;\">\n",
       "      <th></th>\n",
       "      <th>CASTEP_ASE</th>\n",
       "      <th>GAP</th>\n",
       "    </tr>\n",
       "  </thead>\n",
       "  <tbody>\n",
       "    <tr>\n",
       "      <th>B</th>\n",
       "      <td>88.596697</td>\n",
       "      <td>88.810217</td>\n",
       "    </tr>\n",
       "    <tr>\n",
       "      <th>c12</th>\n",
       "      <td>56.25009</td>\n",
       "      <td>57.523404</td>\n",
       "    </tr>\n",
       "    <tr>\n",
       "      <th>c11</th>\n",
       "      <td>153.28991</td>\n",
       "      <td>151.383845</td>\n",
       "    </tr>\n",
       "    <tr>\n",
       "      <th>c44</th>\n",
       "      <td>72.17693</td>\n",
       "      <td>67.863739</td>\n",
       "    </tr>\n",
       "    <tr>\n",
       "      <th>a0</th>\n",
       "      <td>5.461022</td>\n",
       "      <td>5.460805</td>\n",
       "    </tr>\n",
       "  </tbody>\n",
       "</table>\n",
       "</div>"
      ],
      "text/plain": [
       "    CASTEP_ASE         GAP\n",
       "B    88.596697   88.810217\n",
       "c12   56.25009   57.523404\n",
       "c11  153.28991  151.383845\n",
       "c44   72.17693   67.863739\n",
       "a0    5.461022    5.460805"
      ]
     },
     "execution_count": 85,
     "metadata": {},
     "output_type": "execute_result"
    }
   ],
   "source": [
    "df = pd.DataFrame(data)\n",
    "df.drop('E_vs_V')"
   ]
  },
  {
   "cell_type": "markdown",
   "metadata": {
    "id": "HX2OmlmtwKFy"
   },
   "source": [
    "## Adding a new model\n",
    "\n",
    "Let's define a model for the screened Tersoff potential as implemented in `atomistica`. This is as simple as creating a `model.py` file in the `models/TersoffScr` directory."
   ]
  },
  {
   "cell_type": "code",
   "execution_count": 54,
   "metadata": {
    "id": "_JjmJBn4JVt6"
   },
   "outputs": [],
   "source": [
    "![[ ! -d ../models/TersoffScr ]] && mkdir ../models/TersoffScr\n",
    "\n",
    "with open(\"../models/TersoffScr/model.py\", \"w\") as f:\n",
    "    f.write(\"\"\"\n",
    "from atomistica import TersoffScr\n",
    "\n",
    "calculator = TersoffScr()\n",
    "name = 'TersoffScr'\n",
    "no_checkpoint = True\n",
    "\"\"\")"
   ]
  },
  {
   "cell_type": "markdown",
   "metadata": {},
   "source": [
    "## Rerunning a single test with the new model\n",
    "\n",
    "We can rerun an individual test with the `run-model-test.py` script: this takes the name of the model and of the test as arugments, and usually captures the output to a logfile. The `-l` option gives a label for the set of calculations; here we use `\"Si\"` to match with what was done for the GAP and DFT tests."
   ]
  },
  {
   "cell_type": "code",
   "execution_count": 111,
   "metadata": {
    "colab": {
     "base_uri": "https://localhost:8080/",
     "height": 521
    },
    "id": "h3mnmdaZKD3v",
    "outputId": "adb1ac29-c90f-488f-8219-f8c7a5c9f155",
    "scrolled": true
   },
   "outputs": [
    {
     "name": "stdout",
     "output_type": "stream",
     "text": [
      "share_dir /home/jovyan/scripts/../share\n"
     ]
    }
   ],
   "source": [
    " !python ../../../scripts/run-model-test.py -l Si TersoffScr bulk_Si_diamond"
   ]
  },
  {
   "cell_type": "markdown",
   "metadata": {},
   "source": [
    "If we try to run the test again, it notices the `.json` file is present and avoids rerunning - this time we add the `-N` option to turn off capturing of stdout so we can see it directly in the notebook:"
   ]
  },
  {
   "cell_type": "code",
   "execution_count": 112,
   "metadata": {
    "colab": {
     "base_uri": "https://localhost:8080/",
     "height": 521
    },
    "id": "h3mnmdaZKD3v",
    "outputId": "adb1ac29-c90f-488f-8219-f8c7a5c9f155",
    "scrolled": true
   },
   "outputs": [
    {
     "name": "stdout",
     "output_type": "stream",
     "text": [
      "share_dir /home/jovyan/scripts/../share\n",
      "../Si-model-TersoffScr-test-bulk_Si_diamond-properties.json already exists and is not empty, not rerunning test\n"
     ]
    }
   ],
   "source": [
    " !python ../../../scripts/run-model-test.py -N -l Si TersoffScr bulk_Si_diamond"
   ]
  },
  {
   "cell_type": "markdown",
   "metadata": {},
   "source": [
    "## Repeating the postprocessing analysis\n",
    "\n",
    "Now we can go back and add the `TersoffScr` results to our energy-volume plot and data table:"
   ]
  },
  {
   "cell_type": "code",
   "execution_count": 129,
   "metadata": {
    "id": "PEl4Q4zkKL56"
   },
   "outputs": [
    {
     "data": {
      "text/html": [
       "<div>\n",
       "<style scoped>\n",
       "    .dataframe tbody tr th:only-of-type {\n",
       "        vertical-align: middle;\n",
       "    }\n",
       "\n",
       "    .dataframe tbody tr th {\n",
       "        vertical-align: top;\n",
       "    }\n",
       "\n",
       "    .dataframe thead th {\n",
       "        text-align: right;\n",
       "    }\n",
       "</style>\n",
       "<table border=\"1\" class=\"dataframe\">\n",
       "  <thead>\n",
       "    <tr style=\"text-align: right;\">\n",
       "      <th></th>\n",
       "      <th>CASTEP_ASE</th>\n",
       "      <th>GAP</th>\n",
       "      <th>TersoffScr</th>\n",
       "    </tr>\n",
       "  </thead>\n",
       "  <tbody>\n",
       "    <tr>\n",
       "      <th>B</th>\n",
       "      <td>88.596697</td>\n",
       "      <td>88.810217</td>\n",
       "      <td>96.897975</td>\n",
       "    </tr>\n",
       "    <tr>\n",
       "      <th>c12</th>\n",
       "      <td>56.25009</td>\n",
       "      <td>57.523404</td>\n",
       "      <td>74.571981</td>\n",
       "    </tr>\n",
       "    <tr>\n",
       "      <th>c11</th>\n",
       "      <td>153.28991</td>\n",
       "      <td>151.383845</td>\n",
       "      <td>141.549961</td>\n",
       "    </tr>\n",
       "    <tr>\n",
       "      <th>c44</th>\n",
       "      <td>72.17693</td>\n",
       "      <td>67.863739</td>\n",
       "      <td>68.82712</td>\n",
       "    </tr>\n",
       "    <tr>\n",
       "      <th>a0</th>\n",
       "      <td>5.461022</td>\n",
       "      <td>5.460805</td>\n",
       "      <td>NaN</td>\n",
       "    </tr>\n",
       "  </tbody>\n",
       "</table>\n",
       "</div>"
      ],
      "text/plain": [
       "    CASTEP_ASE         GAP  TersoffScr\n",
       "B    88.596697   88.810217   96.897975\n",
       "c12   56.25009   57.523404   74.571981\n",
       "c11  153.28991  151.383845  141.549961\n",
       "c44   72.17693   67.863739    68.82712\n",
       "a0    5.461022    5.460805         NaN"
      ]
     },
     "metadata": {},
     "output_type": "display_data"
    },
    {
     "data": {
      "image/png": "[encoded data removed]",
      "text/plain": [
       "<Figure size 864x576 with 1 Axes>"
      ]
     },
     "metadata": {
      "needs_background": "light"
     },
     "output_type": "display_data"
    }
   ],
   "source": [
    "data = read_data(['CASTEP_ASE', 'GAP', 'TersoffScr'])\n",
    "plot_e_vs_v(data, ref_model_name)\n",
    "\n",
    "display(pd.DataFrame(data).drop('E_vs_V'))"
   ]
  },
  {
   "cell_type": "markdown",
   "metadata": {},
   "source": [
    "The `NaN` for **a0** indicates missing data, not a failure with the test: the `bulk_Si_diamond` test no longer stores the lattice constant, but instead saves the full relaxed cell, which we can read in and visualise:"
   ]
  },
  {
   "cell_type": "code",
   "execution_count": 128,
   "metadata": {
    "scrolled": true
   },
   "outputs": [
    {
     "data": {
      "application/vnd.jupyter.widget-view+json": {
       "model_id": "43abf9e7d9b14a94960834f7154ebd09",
       "version_major": 2,
       "version_minor": 0
      },
      "text/plain": [
       "NGLWidget()"
      ]
     },
     "metadata": {},
     "output_type": "display_data"
    }
   ],
   "source": [
    "atoms = read('Si-model-TersoffScr-test-bulk_Si_diamond-relaxed.xyz')\n",
    "v = nglview.show_ase(atoms * 3, cell=True)\n",
    "v.add_unitcell()\n",
    "v"
   ]
  },
  {
   "cell_type": "markdown",
   "metadata": {},
   "source": [
    "We can update our data table accordingly:"
   ]
  },
  {
   "cell_type": "code",
   "execution_count": 136,
   "metadata": {},
   "outputs": [
    {
     "data": {
      "text/html": [
       "<div>\n",
       "<style scoped>\n",
       "    .dataframe tbody tr th:only-of-type {\n",
       "        vertical-align: middle;\n",
       "    }\n",
       "\n",
       "    .dataframe tbody tr th {\n",
       "        vertical-align: top;\n",
       "    }\n",
       "\n",
       "    .dataframe thead th {\n",
       "        text-align: right;\n",
       "    }\n",
       "</style>\n",
       "<table border=\"1\" class=\"dataframe\">\n",
       "  <thead>\n",
       "    <tr style=\"text-align: right;\">\n",
       "      <th></th>\n",
       "      <th>CASTEP_ASE</th>\n",
       "      <th>GAP</th>\n",
       "      <th>TersoffScr</th>\n",
       "    </tr>\n",
       "  </thead>\n",
       "  <tbody>\n",
       "    <tr>\n",
       "      <th>B</th>\n",
       "      <td>88.596697</td>\n",
       "      <td>88.810217</td>\n",
       "      <td>96.897975</td>\n",
       "    </tr>\n",
       "    <tr>\n",
       "      <th>c12</th>\n",
       "      <td>56.25009</td>\n",
       "      <td>57.523404</td>\n",
       "      <td>74.571981</td>\n",
       "    </tr>\n",
       "    <tr>\n",
       "      <th>c11</th>\n",
       "      <td>153.28991</td>\n",
       "      <td>151.383845</td>\n",
       "      <td>141.549961</td>\n",
       "    </tr>\n",
       "    <tr>\n",
       "      <th>c44</th>\n",
       "      <td>72.17693</td>\n",
       "      <td>67.863739</td>\n",
       "      <td>68.82712</td>\n",
       "    </tr>\n",
       "    <tr>\n",
       "      <th>a0</th>\n",
       "      <td>5.461022</td>\n",
       "      <td>5.460805</td>\n",
       "      <td>5.436147</td>\n",
       "    </tr>\n",
       "  </tbody>\n",
       "</table>\n",
       "</div>"
      ],
      "text/plain": [
       "    CASTEP_ASE         GAP  TersoffScr\n",
       "B    88.596697   88.810217   96.897975\n",
       "c12   56.25009   57.523404   74.571981\n",
       "c11  153.28991  151.383845  141.549961\n",
       "c44   72.17693   67.863739    68.82712\n",
       "a0    5.461022    5.460805    5.436147"
      ]
     },
     "metadata": {},
     "output_type": "display_data"
    }
   ],
   "source": [
    "data['TersoffScr']['a0'] = atoms.cell[0, 0] * 2.0\n",
    "display(pd.DataFrame(data).drop('E_vs_V'))"
   ]
  },
  {
   "cell_type": "markdown",
   "metadata": {},
   "source": [
    "## Running all model/test pairs\n",
    "\n",
    "To fill in results for missing model/test pairs, we could use the `run-all.py` script. By default this would run all pairs, but here we restrict to our new model to fill in the remainder of the tests with the `TersoffScr` potential.\n",
    "\n",
    "This takes a few minutes to complete."
   ]
  },
  {
   "cell_type": "code",
   "execution_count": 59,
   "metadata": {},
   "outputs": [
    {
     "name": "stdout",
     "output_type": "stream",
     "text": [
      "Models asked for:  ['TersoffScr']\n",
      "Models path:  /home/jovyan/example_models/Si/run_dir/../models\n",
      "Models found:  ['/home/jovyan/example_models/Si/run_dir/../models/TersoffScr/model.py']\n",
      "Models: ['/home/jovyan/example_models/Si/run_dir/../models/TersoffScr']\n",
      "Tests: [('/home/jovyan/scripts/../tests/Si/qha_diamond', 'Si'), ('/home/jovyan/scripts/../tests/Si/bulk_Si_simple_hexagonal', 'Si'), ('/home/jovyan/scripts/../tests/Si/surface-decohesion-111-unrelaxed', 'Si'), ('/home/jovyan/scripts/../tests/Si/bulk_Si_bc8', 'Si'), ('/home/jovyan/scripts/../tests/Si/bulk_Si_hcp', 'Si'), ('/home/jovyan/scripts/../tests/Si/surface-decohesion-110-unrelaxed', 'Si'), ('/home/jovyan/scripts/../tests/Si/phonon_bulks', 'Si'), ('/home/jovyan/scripts/../tests/Si/bulk_Si_fcc', 'Si'), ('/home/jovyan/scripts/../tests/Si/bulk_Si_hexagonal_diamond', 'Si'), ('/home/jovyan/scripts/../tests/Si/surface-decohesion-100-unrelaxed', 'Si'), ('/home/jovyan/scripts/../tests/Si/bulk_Si_hcp_sf', 'Si'), ('/home/jovyan/scripts/../tests/Si/point_defect_Si_diamond_vacancy', 'Si'), ('/home/jovyan/scripts/../tests/Si/RSS', 'Si'), ('/home/jovyan/scripts/../tests/Si/surface-energy-110-relaxed', 'Si'), ('/home/jovyan/scripts/../tests/Si/surface_Si_diamond_110', 'Si'), ('/home/jovyan/scripts/../tests/Si/point_defect_Si_diamond_interstitial_tetr', 'Si'), ('/home/jovyan/scripts/../tests/Si/point_defect_Si_diamond_interstitial_dumb', 'Si'), ('/home/jovyan/scripts/../tests/Si/bulk_Si_diamond', 'Si'), ('/home/jovyan/scripts/../tests/Si/surface_Si_diamond_100', 'Si'), ('/home/jovyan/scripts/../tests/Si/surface_Si_diamond_111', 'Si'), ('/home/jovyan/scripts/../tests/Si/bulk_Si_beta-Sn', 'Si'), ('/home/jovyan/scripts/../tests/Si/bulk_Si_st12', 'Si'), ('/home/jovyan/scripts/../tests/Si/bulk_Si_bcc', 'Si'), ('/home/jovyan/scripts/../tests/Si/gap_6_rss_like_open_ended_minima_rerelax_sd2', 'Si'), ('/home/jovyan/scripts/../tests/Si/point_defect_Si_diamond_interstitial_hex', 'Si')]\n",
      "['python', '/home/jovyan/scripts/run-model-test.py', '/home/jovyan/example_models/Si/run_dir/../models/TersoffScr', '/home/jovyan/scripts/../tests/Si/qha_diamond', '--system_label', 'Si']\n",
      "share_dir /home/jovyan/scripts/../share\n",
      "['python', '/home/jovyan/scripts/run-model-test.py', '/home/jovyan/example_models/Si/run_dir/../models/TersoffScr', '/home/jovyan/scripts/../tests/Si/bulk_Si_simple_hexagonal', '--system_label', 'Si']\n",
      "share_dir /home/jovyan/scripts/../share\n",
      "['python', '/home/jovyan/scripts/run-model-test.py', '/home/jovyan/example_models/Si/run_dir/../models/TersoffScr', '/home/jovyan/scripts/../tests/Si/surface-decohesion-111-unrelaxed', '--system_label', 'Si']\n",
      "share_dir /home/jovyan/scripts/../share\n",
      "['python', '/home/jovyan/scripts/run-model-test.py', '/home/jovyan/example_models/Si/run_dir/../models/TersoffScr', '/home/jovyan/scripts/../tests/Si/bulk_Si_bc8', '--system_label', 'Si']\n",
      "share_dir /home/jovyan/scripts/../share\n",
      "['python', '/home/jovyan/scripts/run-model-test.py', '/home/jovyan/example_models/Si/run_dir/../models/TersoffScr', '/home/jovyan/scripts/../tests/Si/bulk_Si_hcp', '--system_label', 'Si']\n",
      "share_dir /home/jovyan/scripts/../share\n",
      "['python', '/home/jovyan/scripts/run-model-test.py', '/home/jovyan/example_models/Si/run_dir/../models/TersoffScr', '/home/jovyan/scripts/../tests/Si/surface-decohesion-110-unrelaxed', '--system_label', 'Si']\n",
      "share_dir /home/jovyan/scripts/../share\n",
      "['python', '/home/jovyan/scripts/run-model-test.py', '/home/jovyan/example_models/Si/run_dir/../models/TersoffScr', '/home/jovyan/scripts/../tests/Si/phonon_bulks', '--system_label', 'Si']\n",
      "share_dir /home/jovyan/scripts/../share\n",
      "['python', '/home/jovyan/scripts/run-model-test.py', '/home/jovyan/example_models/Si/run_dir/../models/TersoffScr', '/home/jovyan/scripts/../tests/Si/bulk_Si_fcc', '--system_label', 'Si']\n",
      "share_dir /home/jovyan/scripts/../share\n",
      "['python', '/home/jovyan/scripts/run-model-test.py', '/home/jovyan/example_models/Si/run_dir/../models/TersoffScr', '/home/jovyan/scripts/../tests/Si/bulk_Si_hexagonal_diamond', '--system_label', 'Si']\n",
      "share_dir /home/jovyan/scripts/../share\n",
      "['python', '/home/jovyan/scripts/run-model-test.py', '/home/jovyan/example_models/Si/run_dir/../models/TersoffScr', '/home/jovyan/scripts/../tests/Si/surface-decohesion-100-unrelaxed', '--system_label', 'Si']\n",
      "share_dir /home/jovyan/scripts/../share\n",
      "['python', '/home/jovyan/scripts/run-model-test.py', '/home/jovyan/example_models/Si/run_dir/../models/TersoffScr', '/home/jovyan/scripts/../tests/Si/bulk_Si_hcp_sf', '--system_label', 'Si']\n",
      "share_dir /home/jovyan/scripts/../share\n",
      "['python', '/home/jovyan/scripts/run-model-test.py', '/home/jovyan/example_models/Si/run_dir/../models/TersoffScr', '/home/jovyan/scripts/../tests/Si/point_defect_Si_diamond_vacancy', '--system_label', 'Si']\n",
      "share_dir /home/jovyan/scripts/../share\n",
      "['python', '/home/jovyan/scripts/run-model-test.py', '/home/jovyan/example_models/Si/run_dir/../models/TersoffScr', '/home/jovyan/scripts/../tests/Si/RSS', '--system_label', 'Si']\n",
      "share_dir /home/jovyan/scripts/../share\n",
      "['python', '/home/jovyan/scripts/run-model-test.py', '/home/jovyan/example_models/Si/run_dir/../models/TersoffScr', '/home/jovyan/scripts/../tests/Si/surface-energy-110-relaxed', '--system_label', 'Si']\n",
      "share_dir /home/jovyan/scripts/../share\n",
      "['python', '/home/jovyan/scripts/run-model-test.py', '/home/jovyan/example_models/Si/run_dir/../models/TersoffScr', '/home/jovyan/scripts/../tests/Si/surface_Si_diamond_110', '--system_label', 'Si']\n",
      "share_dir /home/jovyan/scripts/../share\n",
      "['python', '/home/jovyan/scripts/run-model-test.py', '/home/jovyan/example_models/Si/run_dir/../models/TersoffScr', '/home/jovyan/scripts/../tests/Si/point_defect_Si_diamond_interstitial_tetr', '--system_label', 'Si']\n",
      "share_dir /home/jovyan/scripts/../share\n",
      "['python', '/home/jovyan/scripts/run-model-test.py', '/home/jovyan/example_models/Si/run_dir/../models/TersoffScr', '/home/jovyan/scripts/../tests/Si/point_defect_Si_diamond_interstitial_dumb', '--system_label', 'Si']\n",
      "share_dir /home/jovyan/scripts/../share\n",
      "['python', '/home/jovyan/scripts/run-model-test.py', '/home/jovyan/example_models/Si/run_dir/../models/TersoffScr', '/home/jovyan/scripts/../tests/Si/bulk_Si_diamond', '--system_label', 'Si']\n",
      "share_dir /home/jovyan/scripts/../share\n",
      "../Si-model-TersoffScr-test-bulk_Si_diamond-properties.json already exists and is not empty, not rerunning test\n",
      "['python', '/home/jovyan/scripts/run-model-test.py', '/home/jovyan/example_models/Si/run_dir/../models/TersoffScr', '/home/jovyan/scripts/../tests/Si/surface_Si_diamond_100', '--system_label', 'Si']\n",
      "share_dir /home/jovyan/scripts/../share\n",
      "['python', '/home/jovyan/scripts/run-model-test.py', '/home/jovyan/example_models/Si/run_dir/../models/TersoffScr', '/home/jovyan/scripts/../tests/Si/surface_Si_diamond_111', '--system_label', 'Si']\n",
      "share_dir /home/jovyan/scripts/../share\n",
      "['python', '/home/jovyan/scripts/run-model-test.py', '/home/jovyan/example_models/Si/run_dir/../models/TersoffScr', '/home/jovyan/scripts/../tests/Si/bulk_Si_beta-Sn', '--system_label', 'Si']\n",
      "share_dir /home/jovyan/scripts/../share\n",
      "['python', '/home/jovyan/scripts/run-model-test.py', '/home/jovyan/example_models/Si/run_dir/../models/TersoffScr', '/home/jovyan/scripts/../tests/Si/bulk_Si_st12', '--system_label', 'Si']\n",
      "share_dir /home/jovyan/scripts/../share\n",
      "['python', '/home/jovyan/scripts/run-model-test.py', '/home/jovyan/example_models/Si/run_dir/../models/TersoffScr', '/home/jovyan/scripts/../tests/Si/bulk_Si_bcc', '--system_label', 'Si']\n",
      "share_dir /home/jovyan/scripts/../share\n",
      "['python', '/home/jovyan/scripts/run-model-test.py', '/home/jovyan/example_models/Si/run_dir/../models/TersoffScr', '/home/jovyan/scripts/../tests/Si/gap_6_rss_like_open_ended_minima_rerelax_sd2', '--system_label', 'Si']\n",
      "share_dir /home/jovyan/scripts/../share\n",
      "['python', '/home/jovyan/scripts/run-model-test.py', '/home/jovyan/example_models/Si/run_dir/../models/TersoffScr', '/home/jovyan/scripts/../tests/Si/point_defect_Si_diamond_interstitial_hex', '--system_label', 'Si']\n",
      "share_dir /home/jovyan/scripts/../share\n"
     ]
    }
   ],
   "source": [
    " !python ../../../scripts/run-all.py -s Si --models TersoffScr"
   ]
  }
 ],
 "metadata": {
  "colab": {
   "collapsed_sections": [],
   "name": "Potential Testing Framework Demo.ipynb",
   "provenance": []
  },
  "kernelspec": {
   "display_name": "Python 3",
   "language": "python",
   "name": "python3"
  },
  "language_info": {
   "codemirror_mode": {
    "name": "ipython",
    "version": 3
   },
   "file_extension": ".py",
   "mimetype": "text/x-python",
   "name": "python",
   "nbconvert_exporter": "python",
   "pygments_lexer": "ipython3",
   "version": "3.8.5"
  }
 },
 "nbformat": 4,
 "nbformat_minor": 4
}
