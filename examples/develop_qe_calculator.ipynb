{
 "cells": [
  {
   "cell_type": "markdown",
   "id": "spatial-bidder",
   "metadata": {},
   "source": [
    "# Ase calculator qe\n",
    "\n",
    "To add the QE implmentation as a model to the test-framework, the values given to the qe calculator cannot depend on the spcific calculation being run or the atoms object. One solution to this is by including any atom dependent configs into the calculator itself. Ie for the calculator to adjust parameters based on the atoms object its calculating directly. \n",
    "\n",
    "The idea is hence to modify the calculator, such that for the slab systems the kpoints are adjusted inside the calculator function. \n",
    "\n",
    "There are a few QE parameters that currently depend on the specific atoms object which is being calculated. These are \n",
    "\n",
    "1. Surfaces\n",
    "    - stress, kpoints, dipole\n",
    "    ```python\n",
    "    calcstress = False\n",
    "    print(\"type {}: dipole correction on\".format(info[\"type\"]))\n",
    "    dipole = {\"status\": True}\n",
    "    kpts[2] = 1\n",
    "    ```\n",
    "2. Isolated Atoms\n",
    "    - stress, spinpol, \"initial_magmoms\"\n",
    "    ```python\n",
    "    calcstress = False\n",
    "    spinpol = False\n",
    "    kpts = \"gamma\"\n",
    "    atoms.arrays.pop(\"initial_magmoms\")\n",
    "    ```\n",
    "3. General\n",
    "    - kpoints\n",
    "    ```python\n",
    "    kspacing = 0.25 / (2.0 * np.pi)\n",
    "    kpts = kspacing_to_grid(atoms, spacing=kspacing)\n",
    "    ```\n",
    "    - prefix `prefix = \"QE_{}_0\".format(info[\"uid\"])`\n",
    "   \n",
    "\n",
    "    \n",
    "    \n",
    "Proposed fixing: \n",
    "- We add a variable Espresso( ..., slab_config={}), where {} is a dictionary of variables which will overwriten if the configuration is a slab configuration\n",
    "    "
   ]
  },
  {
   "cell_type": "code",
   "execution_count": 6,
   "id": "early-height",
   "metadata": {},
   "outputs": [
    {
     "data": {
      "text/plain": [
       "array([2])"
      ]
     },
     "execution_count": 6,
     "metadata": {},
     "output_type": "execute_result"
    }
   ],
   "source": [
    "import ase.io\n",
    "import numpy as np\n",
    "ats = ase.io.read('/data/lls34/Data/In2O3/In2O3_LS_1/04_QE2/03_Observalbes/01_Surface_Energy/non-symmetric/Original_Surfaces/Ia3_8_8.xyz')\n",
    "\n",
    "atoms = ats.copy()\n",
    "ats.center(vacuum=0)\n",
    "diff = atoms.cell-ats.cell\n",
    "np.arange(3)[np.sum(diff>1, axis=1) != 0]"
   ]
  },
  {
   "cell_type": "code",
   "execution_count": 7,
   "id": "corrected-weekly",
   "metadata": {},
   "outputs": [
    {
     "data": {
      "text/plain": [
       "array([2.23606798, 2.        , 1.        ])"
      ]
     },
     "execution_count": 7,
     "metadata": {},
     "output_type": "execute_result"
    }
   ],
   "source": [
    "np.linalg.norm([[1,2,0],[2,0,0], [1,0,0]], axis=1)"
   ]
  },
  {
   "cell_type": "code",
   "execution_count": 8,
   "id": "bound-actor",
   "metadata": {},
   "outputs": [],
   "source": [
    "a = [0,1,2,3]"
   ]
  },
  {
   "cell_type": "code",
   "execution_count": 9,
   "id": "sustained-tuition",
   "metadata": {},
   "outputs": [
    {
     "data": {
      "text/plain": [
       "[0, 10, 2, 10]"
      ]
     },
     "execution_count": 9,
     "metadata": {},
     "output_type": "execute_result"
    }
   ],
   "source": [
    "b = [1,3]\n",
    "for i in b:\n",
    "    a[i] = 10\n",
    "a"
   ]
  },
  {
   "cell_type": "code",
   "execution_count": 10,
   "id": "adverse-afternoon",
   "metadata": {},
   "outputs": [
    {
     "data": {
      "text/plain": [
       "84.93236404719576"
      ]
     },
     "execution_count": 10,
     "metadata": {},
     "output_type": "execute_result"
    }
   ],
   "source": [
    "np.max(np.linalg.norm(atoms.cell,axis=1))"
   ]
  },
  {
   "cell_type": "code",
   "execution_count": 11,
   "id": "affiliated-occasions",
   "metadata": {},
   "outputs": [
    {
     "data": {
      "text/plain": [
       "37147.97852470845"
      ]
     },
     "execution_count": 11,
     "metadata": {},
     "output_type": "execute_result"
    }
   ],
   "source": [
    "atoms.get_volume()"
   ]
  },
  {
   "cell_type": "markdown",
   "id": "taken-norfolk",
   "metadata": {},
   "source": [
    "# Just QE calculator"
   ]
  },
  {
   "cell_type": "code",
   "execution_count": 12,
   "id": "piano-bridges",
   "metadata": {},
   "outputs": [],
   "source": [
    "from espresso.espresso import Espresso            # Espresso Library\n",
    "from ase import units # Ase Units\n",
    "from espresso.siteconfig import SiteConfig\n",
    "from ase.io import read, write\n",
    "from ase.io.espresso import kspacing_to_grid\n",
    "import sys\n",
    "import os\n",
    "import numpy as np"
   ]
  },
  {
   "cell_type": "code",
   "execution_count": 15,
   "id": "welcome-burns",
   "metadata": {},
   "outputs": [
    {
     "name": "stdout",
     "output_type": "stream",
     "text": [
      "New prefix QE_599afbca03b14e7bbd6a9f7eb00e5c09_0\n",
      "using kpts: [1, 3, 1]\n"
     ]
    }
   ],
   "source": [
    "\"\"\"\n",
    "Python script for running QE with the github calculator\n",
    "\n",
    "This was originally created by Sandip on Feb 2021. The code requires the espresso\n",
    ".esspresso to be installed. This was modified to work on womble0 using the GridEngine\n",
    "\n",
    "The script can be called by\n",
    "\n",
    "`python qe_simple.py traj.xyz 2`\n",
    "\n",
    "where 2 is the configuraiton in traj.xyz that should be calculated\n",
    "\n",
    " - still need to do out directory\n",
    "\"\"\"\n",
    "\n",
    "from espresso.espresso import Espresso            # Espresso Library\n",
    "from ase import units # Ase Units\n",
    "from espresso.siteconfig import SiteConfig\n",
    "from ase.io import read, write\n",
    "from ase.io.espresso import kspacing_to_grid\n",
    "import sys\n",
    "import os\n",
    "import numpy as np\n",
    "\n",
    "\n",
    "# ---- Setting Variables\n",
    "\n",
    "# Environements\n",
    "os.environ[\"SCRATCH\"] = \"/home/lls34/trash/scratch/\"\n",
    "\n",
    "PSP_PATH = (\n",
    "    \"/home/lls34/programs/QuantumExpresso/pseudopotentials/use_pot\"  # Pseudo Potentails\n",
    ")\n",
    "\n",
    "# Sceduling Properties\n",
    "#site = SiteConfig(\"GE\", scratchenv=\"SCRATCH\")\n",
    "#site = SiteConfig(scheduler=None)\n",
    "\n",
    "\n",
    "\n",
    "# Atom specific properties\n",
    "\n",
    "atoms = atoms\n",
    "\n",
    "info = {\"uid\": atoms.info[\"uid\"], \"type\": atoms.info[\"type\"]}\n",
    "\n",
    "prefix = \"QE_{}_0\".format(info[\"uid\"])\n",
    "\n",
    "j = 0\n",
    "# Make sure unique output file\n",
    "while os.path.exists(os.path.join(prefix)) or os.path.exists(\n",
    "    os.path.join(prefix, \".xyz\")\n",
    "):\n",
    "    prefix = \"QE_{}_{}\".format(info[\"uid\"], j)\n",
    "    j += 1\n",
    "\n",
    "    if j > 1000:\n",
    "        raise ValueError(\"While loop ran too often\")\n",
    "print(f\"New prefix {prefix}\")\n",
    "\n",
    "# Now Properites\n",
    "\n",
    "\n",
    "kspacing = 0.25 / (2.0 * np.pi)\n",
    "\n",
    "kpts = kspacing_to_grid(atoms, spacing=0.25 / (2.0 * np.pi))\n",
    "xc = \"PBE\"\n",
    "dipole = {\"status\": False}\n",
    "calcstress = True\n",
    "spinpol = True\n",
    "\n",
    "convergence = {\n",
    "    \"energy\": 1e-7,\n",
    "    \"mixing\": 0.5,\n",
    "    \"nmix\": 10,\n",
    "    \"maxsteps\": 500,\n",
    "    \"diag\": \"david\",\n",
    "}\n",
    "\n",
    "if \"Slab\" in info[\"type\"]:\n",
    "    calcstress = False\n",
    "    print(\"type {}: dipole correction on\".format(info[\"type\"]))\n",
    "    dipole = {\"status\": True}\n",
    "    kpts[2] = 1\n",
    "\n",
    "print(f\"using kpts: {kpts}\")\n",
    "\n",
    "magmom_dict = {\"In\": 10, \"O\": 4, \"C\": 3, \"H\": 1, \"N\": 3}\n",
    "magmoms = []\n",
    "\n",
    "for i in range(len(atoms)):\n",
    "    magmoms.append(magmom_dict[atoms[i].symbol])\n",
    "\n",
    "atoms.set_initial_magnetic_moments(magmoms)\n",
    "\n",
    "if \"isolated_atom\" in info[\"type\"]:\n",
    "    calcstress = False\n",
    "    spinpol = False\n",
    "    kpts = \"gamma\"\n",
    "    atoms.arrays.pop(\"initial_magmoms\")\n",
    "\n",
    "calc = Espresso(\n",
    "    # pseudopotentials=pseudopotentials,\n",
    "    pw=65 * units.Ry,  # plane-wave cut-off in eV, defaults to 350.0\n",
    "    dw=8 * 65 * units.Ry,  # default 10*pw\n",
    "    xc=xc,\n",
    "    kpts=kpts,\n",
    "    calculation=\"scf\",\n",
    "    psppath=PSP_PATH,\n",
    "    parflags=\"-npool 1\",\n",
    "    nbands=-20,\n",
    "    occupations=\"smearing\",\n",
    "    sigma=0.1,\n",
    "    smearing=\"gaussian\",\n",
    "    convergence=convergence,\n",
    "    dipole=dipole,\n",
    "    calcstress=calcstress,\n",
    "    spinpol=spinpol,\n",
    "    # vdw_corr='D3',\n",
    "    output={\n",
    "        \"removesave\": False,\n",
    "        \"avoidio\": False,\n",
    "        \"removewf\": False,\n",
    "        \"wf_collect\": True,\n",
    "    },\n",
    "    outdir=prefix,\n",
    "    site=None,#site,\n",
    "    txt=\"pw.out\",\n",
    ")\n",
    "\n"
   ]
  },
  {
   "cell_type": "code",
   "execution_count": 16,
   "id": "precious-genesis",
   "metadata": {},
   "outputs": [
    {
     "name": "stdout",
     "output_type": "stream",
     "text": [
      "check type config\n",
      "Dipol correction on\n",
      "kpts[[2]] = 1\n",
      "2\n",
      "['             z_valence', '\"1.300000000000000E+001\"\\n']\n",
      "2\n",
      "['             z_valence', '\"6.000000000000000E+000\"\\n']\n",
      "2\n",
      "['             z_valence', '\"1.300000000000000E+001\"\\n']\n",
      "2\n",
      "['             z_valence', '\"6.000000000000000E+000\"\\n']\n",
      "2 (array([13, 13, 13, ...,  6,  6,  6]), {'In': 13, 'O': 6})\n",
      "2\n",
      "['             z_valence', '\"1.300000000000000E+001\"\\n']\n",
      "2\n",
      "['             z_valence', '\"6.000000000000000E+000\"\\n']\n"
     ]
    },
    {
     "ename": "KeyboardInterrupt",
     "evalue": "",
     "output_type": "error",
     "traceback": [
      "\u001b[0;31m---------------------------------------------------------------------------\u001b[0m",
      "\u001b[0;31mKeyboardInterrupt\u001b[0m                         Traceback (most recent call last)",
      "\u001b[0;32m<ipython-input-16-a304618be2e3>\u001b[0m in \u001b[0;36m<module>\u001b[0;34m\u001b[0m\n\u001b[1;32m      1\u001b[0m \u001b[0;32mtry\u001b[0m\u001b[0;34m:\u001b[0m\u001b[0;34m\u001b[0m\u001b[0;34m\u001b[0m\u001b[0m\n\u001b[1;32m      2\u001b[0m     \u001b[0matoms\u001b[0m\u001b[0;34m.\u001b[0m\u001b[0mset_calculator\u001b[0m\u001b[0;34m(\u001b[0m\u001b[0mcalc\u001b[0m\u001b[0;34m)\u001b[0m\u001b[0;34m\u001b[0m\u001b[0;34m\u001b[0m\u001b[0m\n\u001b[0;32m----> 3\u001b[0;31m     \u001b[0mprint\u001b[0m\u001b[0;34m(\u001b[0m\u001b[0;34mf\"PE: {atoms.get_potential_energy()}\"\u001b[0m\u001b[0;34m)\u001b[0m\u001b[0;34m\u001b[0m\u001b[0;34m\u001b[0m\u001b[0m\n\u001b[0m\u001b[1;32m      4\u001b[0m     \u001b[0matoms\u001b[0m\u001b[0;34m.\u001b[0m\u001b[0minfo\u001b[0m \u001b[0;34m=\u001b[0m \u001b[0minfo\u001b[0m\u001b[0;34m\u001b[0m\u001b[0;34m\u001b[0m\u001b[0m\n\u001b[1;32m      5\u001b[0m     \u001b[0mwrite\u001b[0m\u001b[0;34m(\u001b[0m\u001b[0;34m\"{}.xyz\"\u001b[0m\u001b[0;34m.\u001b[0m\u001b[0mformat\u001b[0m\u001b[0;34m(\u001b[0m\u001b[0mprefix\u001b[0m\u001b[0;34m)\u001b[0m\u001b[0;34m,\u001b[0m \u001b[0;34m[\u001b[0m\u001b[0matoms\u001b[0m\u001b[0;34m]\u001b[0m\u001b[0;34m,\u001b[0m \u001b[0mformat\u001b[0m\u001b[0;34m=\u001b[0m\u001b[0;34m\"extxyz\"\u001b[0m\u001b[0;34m)\u001b[0m\u001b[0;34m\u001b[0m\u001b[0;34m\u001b[0m\u001b[0m\n",
      "\u001b[0;32m~/miniconda3/envs/phd-code/lib/python3.8/site-packages/ase/atoms.py\u001b[0m in \u001b[0;36mget_potential_energy\u001b[0;34m(self, force_consistent, apply_constraint)\u001b[0m\n\u001b[1;32m    731\u001b[0m                 self, force_consistent=force_consistent)\n\u001b[1;32m    732\u001b[0m         \u001b[0;32melse\u001b[0m\u001b[0;34m:\u001b[0m\u001b[0;34m\u001b[0m\u001b[0;34m\u001b[0m\u001b[0m\n\u001b[0;32m--> 733\u001b[0;31m             \u001b[0menergy\u001b[0m \u001b[0;34m=\u001b[0m \u001b[0mself\u001b[0m\u001b[0;34m.\u001b[0m\u001b[0m_calc\u001b[0m\u001b[0;34m.\u001b[0m\u001b[0mget_potential_energy\u001b[0m\u001b[0;34m(\u001b[0m\u001b[0mself\u001b[0m\u001b[0;34m)\u001b[0m\u001b[0;34m\u001b[0m\u001b[0;34m\u001b[0m\u001b[0m\n\u001b[0m\u001b[1;32m    734\u001b[0m         \u001b[0;32mif\u001b[0m \u001b[0mapply_constraint\u001b[0m\u001b[0;34m:\u001b[0m\u001b[0;34m\u001b[0m\u001b[0;34m\u001b[0m\u001b[0m\n\u001b[1;32m    735\u001b[0m             \u001b[0;32mfor\u001b[0m \u001b[0mconstraint\u001b[0m \u001b[0;32min\u001b[0m \u001b[0mself\u001b[0m\u001b[0;34m.\u001b[0m\u001b[0mconstraints\u001b[0m\u001b[0;34m:\u001b[0m\u001b[0;34m\u001b[0m\u001b[0;34m\u001b[0m\u001b[0m\n",
      "\u001b[0;32m~/GitHub/10_QE_Interface/ase-espresso/espresso/espresso.py\u001b[0m in \u001b[0;36mget_potential_energy\u001b[0;34m(self, atoms, force_consistent)\u001b[0m\n\u001b[1;32m   2527\u001b[0m \u001b[0;34m\u001b[0m\u001b[0m\n\u001b[1;32m   2528\u001b[0m     \u001b[0;32mdef\u001b[0m \u001b[0mget_potential_energy\u001b[0m\u001b[0;34m(\u001b[0m\u001b[0mself\u001b[0m\u001b[0;34m,\u001b[0m \u001b[0matoms\u001b[0m\u001b[0;34m=\u001b[0m\u001b[0;32mNone\u001b[0m\u001b[0;34m,\u001b[0m \u001b[0mforce_consistent\u001b[0m\u001b[0;34m=\u001b[0m\u001b[0;32mFalse\u001b[0m\u001b[0;34m)\u001b[0m\u001b[0;34m:\u001b[0m\u001b[0;34m\u001b[0m\u001b[0;34m\u001b[0m\u001b[0m\n\u001b[0;32m-> 2529\u001b[0;31m         \u001b[0mself\u001b[0m\u001b[0;34m.\u001b[0m\u001b[0mupdate\u001b[0m\u001b[0;34m(\u001b[0m\u001b[0matoms\u001b[0m\u001b[0;34m)\u001b[0m\u001b[0;34m\u001b[0m\u001b[0;34m\u001b[0m\u001b[0m\n\u001b[0m\u001b[1;32m   2530\u001b[0m         \u001b[0;32mif\u001b[0m \u001b[0mforce_consistent\u001b[0m\u001b[0;34m:\u001b[0m\u001b[0;34m\u001b[0m\u001b[0;34m\u001b[0m\u001b[0m\n\u001b[1;32m   2531\u001b[0m             \u001b[0;32mreturn\u001b[0m \u001b[0mself\u001b[0m\u001b[0;34m.\u001b[0m\u001b[0menergy_free\u001b[0m\u001b[0;34m\u001b[0m\u001b[0;34m\u001b[0m\u001b[0m\n",
      "\u001b[0;32m~/GitHub/10_QE_Interface/ase-espresso/espresso/espresso.py\u001b[0m in \u001b[0;36mupdate\u001b[0;34m(self, atoms)\u001b[0m\n\u001b[1;32m    979\u001b[0m \u001b[0;34m\u001b[0m\u001b[0m\n\u001b[1;32m    980\u001b[0m         \u001b[0;32mif\u001b[0m \u001b[0mself\u001b[0m\u001b[0;34m.\u001b[0m\u001b[0mcalculation_required\u001b[0m\u001b[0;34m(\u001b[0m\u001b[0matoms\u001b[0m\u001b[0;34m,\u001b[0m \u001b[0;34m[\u001b[0m\u001b[0;34m\"energy\"\u001b[0m\u001b[0;34m]\u001b[0m\u001b[0;34m)\u001b[0m\u001b[0;34m:\u001b[0m\u001b[0;34m\u001b[0m\u001b[0;34m\u001b[0m\u001b[0m\n\u001b[0;32m--> 981\u001b[0;31m             \u001b[0mself\u001b[0m\u001b[0;34m.\u001b[0m\u001b[0mcalculate\u001b[0m\u001b[0;34m(\u001b[0m\u001b[0matoms\u001b[0m\u001b[0;34m)\u001b[0m\u001b[0;34m\u001b[0m\u001b[0;34m\u001b[0m\u001b[0m\n\u001b[0m\u001b[1;32m    982\u001b[0m             \u001b[0mself\u001b[0m\u001b[0;34m.\u001b[0m\u001b[0mrecalculate\u001b[0m \u001b[0;34m=\u001b[0m \u001b[0;32mFalse\u001b[0m\u001b[0;34m\u001b[0m\u001b[0;34m\u001b[0m\u001b[0m\n\u001b[1;32m    983\u001b[0m \u001b[0;34m\u001b[0m\u001b[0m\n",
      "\u001b[0;32m~/GitHub/10_QE_Interface/ase-espresso/espresso/espresso.py\u001b[0m in \u001b[0;36mcalculate\u001b[0;34m(self, atoms, properties)\u001b[0m\n\u001b[1;32m    919\u001b[0m \u001b[0;34m\u001b[0m\u001b[0m\n\u001b[1;32m    920\u001b[0m         \u001b[0;31m# run\u001b[0m\u001b[0;34m\u001b[0m\u001b[0;34m\u001b[0m\u001b[0;34m\u001b[0m\u001b[0m\n\u001b[0;32m--> 921\u001b[0;31m         \u001b[0mself\u001b[0m\u001b[0;34m.\u001b[0m\u001b[0mrun\u001b[0m\u001b[0;34m(\u001b[0m\u001b[0;34m)\u001b[0m\u001b[0;34m\u001b[0m\u001b[0;34m\u001b[0m\u001b[0m\n\u001b[0m\u001b[1;32m    922\u001b[0m \u001b[0;34m\u001b[0m\u001b[0m\n\u001b[1;32m    923\u001b[0m         \u001b[0mself\u001b[0m\u001b[0;34m.\u001b[0m\u001b[0mrecalculate\u001b[0m \u001b[0;34m=\u001b[0m \u001b[0;32mTrue\u001b[0m\u001b[0;34m\u001b[0m\u001b[0;34m\u001b[0m\u001b[0m\n",
      "\u001b[0;32m~/GitHub/10_QE_Interface/ase-espresso/espresso/siteconfig.py\u001b[0m in \u001b[0;36mdecorator\u001b[0;34m(*args, **kwargs)\u001b[0m\n\u001b[1;32m     32\u001b[0m         \u001b[0mcwd\u001b[0m \u001b[0;34m=\u001b[0m \u001b[0mos\u001b[0m\u001b[0;34m.\u001b[0m\u001b[0mgetcwd\u001b[0m\u001b[0;34m(\u001b[0m\u001b[0;34m)\u001b[0m\u001b[0;34m\u001b[0m\u001b[0;34m\u001b[0m\u001b[0m\n\u001b[1;32m     33\u001b[0m         \u001b[0;32mtry\u001b[0m\u001b[0;34m:\u001b[0m\u001b[0;34m\u001b[0m\u001b[0;34m\u001b[0m\u001b[0m\n\u001b[0;32m---> 34\u001b[0;31m             \u001b[0;32mreturn\u001b[0m \u001b[0mfunction\u001b[0m\u001b[0;34m(\u001b[0m\u001b[0;34m*\u001b[0m\u001b[0margs\u001b[0m\u001b[0;34m,\u001b[0m \u001b[0;34m**\u001b[0m\u001b[0mkwargs\u001b[0m\u001b[0;34m)\u001b[0m\u001b[0;34m\u001b[0m\u001b[0;34m\u001b[0m\u001b[0m\n\u001b[0m\u001b[1;32m     35\u001b[0m         \u001b[0;32mfinally\u001b[0m\u001b[0;34m:\u001b[0m\u001b[0;34m\u001b[0m\u001b[0;34m\u001b[0m\u001b[0m\n\u001b[1;32m     36\u001b[0m             \u001b[0mos\u001b[0m\u001b[0;34m.\u001b[0m\u001b[0mchdir\u001b[0m\u001b[0;34m(\u001b[0m\u001b[0mcwd\u001b[0m\u001b[0;34m)\u001b[0m\u001b[0;34m\u001b[0m\u001b[0;34m\u001b[0m\u001b[0m\n",
      "\u001b[0;32m~/GitHub/10_QE_Interface/ase-espresso/espresso/espresso.py\u001b[0m in \u001b[0;36mrun\u001b[0;34m(self)\u001b[0m\n\u001b[1;32m   1158\u001b[0m                 \u001b[0;32mwith\u001b[0m \u001b[0mopen\u001b[0m\u001b[0;34m(\u001b[0m\u001b[0mself\u001b[0m\u001b[0;34m.\u001b[0m\u001b[0mlog\u001b[0m\u001b[0;34m,\u001b[0m \u001b[0;34m\"ab\"\u001b[0m\u001b[0;34m)\u001b[0m \u001b[0;32mas\u001b[0m \u001b[0mflog\u001b[0m\u001b[0;34m:\u001b[0m\u001b[0;34m\u001b[0m\u001b[0;34m\u001b[0m\u001b[0m\n\u001b[1;32m   1159\u001b[0m                     \u001b[0mflog\u001b[0m\u001b[0;34m.\u001b[0m\u001b[0mwrite\u001b[0m\u001b[0;34m(\u001b[0m\u001b[0mself\u001b[0m\u001b[0;34m.\u001b[0m\u001b[0mget_output_header\u001b[0m\u001b[0;34m(\u001b[0m\u001b[0;34m)\u001b[0m\u001b[0;34m.\u001b[0m\u001b[0mencode\u001b[0m\u001b[0;34m(\u001b[0m\u001b[0;34m\"utf-8\"\u001b[0m\u001b[0;34m)\u001b[0m\u001b[0;34m)\u001b[0m\u001b[0;34m\u001b[0m\u001b[0;34m\u001b[0m\u001b[0m\n\u001b[0;32m-> 1160\u001b[0;31m                     \u001b[0mexitcode\u001b[0m \u001b[0;34m=\u001b[0m \u001b[0msubprocess\u001b[0m\u001b[0;34m.\u001b[0m\u001b[0mcall\u001b[0m\u001b[0;34m(\u001b[0m\u001b[0mcommand\u001b[0m\u001b[0;34m,\u001b[0m \u001b[0mstdout\u001b[0m\u001b[0;34m=\u001b[0m\u001b[0mflog\u001b[0m\u001b[0;34m)\u001b[0m\u001b[0;34m\u001b[0m\u001b[0;34m\u001b[0m\u001b[0m\n\u001b[0m\u001b[1;32m   1161\u001b[0m \u001b[0;34m\u001b[0m\u001b[0m\n\u001b[1;32m   1162\u001b[0m             \u001b[0;32melse\u001b[0m\u001b[0;34m:\u001b[0m\u001b[0;34m\u001b[0m\u001b[0;34m\u001b[0m\u001b[0m\n",
      "\u001b[0;32m~/miniconda3/envs/phd-code/lib/python3.8/subprocess.py\u001b[0m in \u001b[0;36mcall\u001b[0;34m(timeout, *popenargs, **kwargs)\u001b[0m\n\u001b[1;32m    340\u001b[0m     \u001b[0;32mwith\u001b[0m \u001b[0mPopen\u001b[0m\u001b[0;34m(\u001b[0m\u001b[0;34m*\u001b[0m\u001b[0mpopenargs\u001b[0m\u001b[0;34m,\u001b[0m \u001b[0;34m**\u001b[0m\u001b[0mkwargs\u001b[0m\u001b[0;34m)\u001b[0m \u001b[0;32mas\u001b[0m \u001b[0mp\u001b[0m\u001b[0;34m:\u001b[0m\u001b[0;34m\u001b[0m\u001b[0;34m\u001b[0m\u001b[0m\n\u001b[1;32m    341\u001b[0m         \u001b[0;32mtry\u001b[0m\u001b[0;34m:\u001b[0m\u001b[0;34m\u001b[0m\u001b[0;34m\u001b[0m\u001b[0m\n\u001b[0;32m--> 342\u001b[0;31m             \u001b[0;32mreturn\u001b[0m \u001b[0mp\u001b[0m\u001b[0;34m.\u001b[0m\u001b[0mwait\u001b[0m\u001b[0;34m(\u001b[0m\u001b[0mtimeout\u001b[0m\u001b[0;34m=\u001b[0m\u001b[0mtimeout\u001b[0m\u001b[0;34m)\u001b[0m\u001b[0;34m\u001b[0m\u001b[0;34m\u001b[0m\u001b[0m\n\u001b[0m\u001b[1;32m    343\u001b[0m         \u001b[0;32mexcept\u001b[0m\u001b[0;34m:\u001b[0m  \u001b[0;31m# Including KeyboardInterrupt, wait handled that.\u001b[0m\u001b[0;34m\u001b[0m\u001b[0;34m\u001b[0m\u001b[0m\n\u001b[1;32m    344\u001b[0m             \u001b[0mp\u001b[0m\u001b[0;34m.\u001b[0m\u001b[0mkill\u001b[0m\u001b[0;34m(\u001b[0m\u001b[0;34m)\u001b[0m\u001b[0;34m\u001b[0m\u001b[0;34m\u001b[0m\u001b[0m\n",
      "\u001b[0;32m~/miniconda3/envs/phd-code/lib/python3.8/subprocess.py\u001b[0m in \u001b[0;36mwait\u001b[0;34m(self, timeout)\u001b[0m\n\u001b[1;32m   1077\u001b[0m             \u001b[0mendtime\u001b[0m \u001b[0;34m=\u001b[0m \u001b[0m_time\u001b[0m\u001b[0;34m(\u001b[0m\u001b[0;34m)\u001b[0m \u001b[0;34m+\u001b[0m \u001b[0mtimeout\u001b[0m\u001b[0;34m\u001b[0m\u001b[0;34m\u001b[0m\u001b[0m\n\u001b[1;32m   1078\u001b[0m         \u001b[0;32mtry\u001b[0m\u001b[0;34m:\u001b[0m\u001b[0;34m\u001b[0m\u001b[0;34m\u001b[0m\u001b[0m\n\u001b[0;32m-> 1079\u001b[0;31m             \u001b[0;32mreturn\u001b[0m \u001b[0mself\u001b[0m\u001b[0;34m.\u001b[0m\u001b[0m_wait\u001b[0m\u001b[0;34m(\u001b[0m\u001b[0mtimeout\u001b[0m\u001b[0;34m=\u001b[0m\u001b[0mtimeout\u001b[0m\u001b[0;34m)\u001b[0m\u001b[0;34m\u001b[0m\u001b[0;34m\u001b[0m\u001b[0m\n\u001b[0m\u001b[1;32m   1080\u001b[0m         \u001b[0;32mexcept\u001b[0m \u001b[0mKeyboardInterrupt\u001b[0m\u001b[0;34m:\u001b[0m\u001b[0;34m\u001b[0m\u001b[0;34m\u001b[0m\u001b[0m\n\u001b[1;32m   1081\u001b[0m             \u001b[0;31m# https://bugs.python.org/issue25942\u001b[0m\u001b[0;34m\u001b[0m\u001b[0;34m\u001b[0m\u001b[0;34m\u001b[0m\u001b[0m\n",
      "\u001b[0;32m~/miniconda3/envs/phd-code/lib/python3.8/subprocess.py\u001b[0m in \u001b[0;36m_wait\u001b[0;34m(self, timeout)\u001b[0m\n\u001b[1;32m   1802\u001b[0m                         \u001b[0;32mif\u001b[0m \u001b[0mself\u001b[0m\u001b[0;34m.\u001b[0m\u001b[0mreturncode\u001b[0m \u001b[0;32mis\u001b[0m \u001b[0;32mnot\u001b[0m \u001b[0;32mNone\u001b[0m\u001b[0;34m:\u001b[0m\u001b[0;34m\u001b[0m\u001b[0;34m\u001b[0m\u001b[0m\n\u001b[1;32m   1803\u001b[0m                             \u001b[0;32mbreak\u001b[0m  \u001b[0;31m# Another thread waited.\u001b[0m\u001b[0;34m\u001b[0m\u001b[0;34m\u001b[0m\u001b[0m\n\u001b[0;32m-> 1804\u001b[0;31m                         \u001b[0;34m(\u001b[0m\u001b[0mpid\u001b[0m\u001b[0;34m,\u001b[0m \u001b[0msts\u001b[0m\u001b[0;34m)\u001b[0m \u001b[0;34m=\u001b[0m \u001b[0mself\u001b[0m\u001b[0;34m.\u001b[0m\u001b[0m_try_wait\u001b[0m\u001b[0;34m(\u001b[0m\u001b[0;36m0\u001b[0m\u001b[0;34m)\u001b[0m\u001b[0;34m\u001b[0m\u001b[0;34m\u001b[0m\u001b[0m\n\u001b[0m\u001b[1;32m   1805\u001b[0m                         \u001b[0;31m# Check the pid and loop as waitpid has been known to\u001b[0m\u001b[0;34m\u001b[0m\u001b[0;34m\u001b[0m\u001b[0;34m\u001b[0m\u001b[0m\n\u001b[1;32m   1806\u001b[0m                         \u001b[0;31m# return 0 even without WNOHANG in odd situations.\u001b[0m\u001b[0;34m\u001b[0m\u001b[0;34m\u001b[0m\u001b[0;34m\u001b[0m\u001b[0m\n",
      "\u001b[0;32m~/miniconda3/envs/phd-code/lib/python3.8/subprocess.py\u001b[0m in \u001b[0;36m_try_wait\u001b[0;34m(self, wait_flags)\u001b[0m\n\u001b[1;32m   1760\u001b[0m             \u001b[0;34m\"\"\"All callers to this function MUST hold self._waitpid_lock.\"\"\"\u001b[0m\u001b[0;34m\u001b[0m\u001b[0;34m\u001b[0m\u001b[0m\n\u001b[1;32m   1761\u001b[0m             \u001b[0;32mtry\u001b[0m\u001b[0;34m:\u001b[0m\u001b[0;34m\u001b[0m\u001b[0;34m\u001b[0m\u001b[0m\n\u001b[0;32m-> 1762\u001b[0;31m                 \u001b[0;34m(\u001b[0m\u001b[0mpid\u001b[0m\u001b[0;34m,\u001b[0m \u001b[0msts\u001b[0m\u001b[0;34m)\u001b[0m \u001b[0;34m=\u001b[0m \u001b[0mos\u001b[0m\u001b[0;34m.\u001b[0m\u001b[0mwaitpid\u001b[0m\u001b[0;34m(\u001b[0m\u001b[0mself\u001b[0m\u001b[0;34m.\u001b[0m\u001b[0mpid\u001b[0m\u001b[0;34m,\u001b[0m \u001b[0mwait_flags\u001b[0m\u001b[0;34m)\u001b[0m\u001b[0;34m\u001b[0m\u001b[0;34m\u001b[0m\u001b[0m\n\u001b[0m\u001b[1;32m   1763\u001b[0m             \u001b[0;32mexcept\u001b[0m \u001b[0mChildProcessError\u001b[0m\u001b[0;34m:\u001b[0m\u001b[0;34m\u001b[0m\u001b[0;34m\u001b[0m\u001b[0m\n\u001b[1;32m   1764\u001b[0m                 \u001b[0;31m# This happens if SIGCLD is set to be ignored or waiting\u001b[0m\u001b[0;34m\u001b[0m\u001b[0;34m\u001b[0m\u001b[0;34m\u001b[0m\u001b[0m\n",
      "\u001b[0;31mKeyboardInterrupt\u001b[0m: "
     ]
    }
   ],
   "source": [
    "try:\n",
    "    atoms.set_calculator(calc)\n",
    "    print(f\"PE: {atoms.get_potential_energy()}\")\n",
    "    atoms.info = info\n",
    "    write(\"{}.xyz\".format(prefix), [atoms], format=\"extxyz\")\n",
    "    atoms = read(\"{}.xyz\".format(prefix))\n",
    "    info = atoms.info\n",
    "    if \"stress\" in atoms.info.keys():\n",
    "        info[\"virial\"] = -atoms.info[\"stress\"] / atoms.get_volume()\n",
    "        atoms.info = info\n",
    "        print(\"writing new\")\n",
    "        write(\"{}.xyz\".format(prefix), [atoms], format=\"extxyz\")\n",
    "\n",
    "except ImportError as e:\n",
    "    open(\"{}.FAIL\".format(prefix), \"w\").close()\n",
    "    print(f\"Error: {prefix}, {e}\")\n"
   ]
  },
  {
   "cell_type": "markdown",
   "id": "horizontal-florence",
   "metadata": {},
   "source": [
    "## Writing to json file"
   ]
  },
  {
   "cell_type": "code",
   "execution_count": 30,
   "id": "optimum-kentucky",
   "metadata": {},
   "outputs": [
    {
     "ename": "NameError",
     "evalue": "name '__file__' is not defined",
     "output_type": "error",
     "traceback": [
      "\u001b[0;31m---------------------------------------------------------------------------\u001b[0m",
      "\u001b[0;31mNameError\u001b[0m                                 Traceback (most recent call last)",
      "\u001b[0;32m<ipython-input-30-0611b26c8b17>\u001b[0m in \u001b[0;36m<module>\u001b[0;34m\u001b[0m\n\u001b[1;32m      1\u001b[0m \u001b[0;32mimport\u001b[0m \u001b[0mjson\u001b[0m\u001b[0;34m\u001b[0m\u001b[0;34m\u001b[0m\u001b[0m\n\u001b[0;32m----> 2\u001b[0;31m \u001b[0mos\u001b[0m\u001b[0;34m.\u001b[0m\u001b[0mpath\u001b[0m\u001b[0;34m.\u001b[0m\u001b[0mabspath\u001b[0m\u001b[0;34m(\u001b[0m\u001b[0mos\u001b[0m\u001b[0;34m.\u001b[0m\u001b[0mpath\u001b[0m\u001b[0;34m.\u001b[0m\u001b[0mdirname\u001b[0m\u001b[0;34m(\u001b[0m\u001b[0m__file__\u001b[0m\u001b[0;34m)\u001b[0m\u001b[0;34m)\u001b[0m\u001b[0;34m\u001b[0m\u001b[0;34m\u001b[0m\u001b[0m\n\u001b[0m",
      "\u001b[0;31mNameError\u001b[0m: name '__file__' is not defined"
     ]
    }
   ],
   "source": [
    "import json\n"
   ]
  },
  {
   "cell_type": "code",
   "execution_count": 31,
   "id": "wireless-aggregate",
   "metadata": {},
   "outputs": [],
   "source": [
    "# Environements\n",
    "os.environ[\"SCRATCH\"] = \"/home/lls34/trash/scratch/\"\n",
    "\n",
    "PSP_PATH = (\n",
    "    \"/home/lls34/programs/QuantumExpresso/pseudopotentials/use_pot\"  # Pseudo Potentails\n",
    ")\n",
    "\n",
    "config = {\n",
    "    'SCRATCH': \"/home/lls34/trash/scratch/\",\n",
    "    'PSP_PATH': '/home/lls34/programs/QuantumExpresso/pseudopotentials/use_pot',\n",
    "    'test':None\n",
    "}\n",
    "\n",
    "with open('config.yml', 'w') as outfile:\n",
    "    json.dump(config, outfile)"
   ]
  },
  {
   "cell_type": "code",
   "execution_count": 32,
   "id": "based-mobile",
   "metadata": {},
   "outputs": [
    {
     "data": {
      "text/plain": [
       "{'SCRATCH': '/home/lls34/trash/scratch/',\n",
       " 'PSP_PATH': '/home/lls34/programs/QuantumExpresso/pseudopotentials/use_pot',\n",
       " 'test': None}"
      ]
     },
     "execution_count": 32,
     "metadata": {},
     "output_type": "execute_result"
    }
   ],
   "source": [
    "json.load(open('config.yml'))"
   ]
  },
  {
   "cell_type": "code",
   "execution_count": 33,
   "id": "studied-palace",
   "metadata": {},
   "outputs": [
    {
     "name": "stdout",
     "output_type": "stream",
     "text": [
      "{\"SCRATCH\": \"/home/lls34/trash/scratch/\", \"PSP_PATH\": \"/home/lls34/programs/QuantumExpresso/pseudopotentials/use_pot\", \"test\": null}"
     ]
    }
   ],
   "source": [
    "!cat config.yml"
   ]
  },
  {
   "cell_type": "code",
   "execution_count": null,
   "id": "physical-bones",
   "metadata": {},
   "outputs": [],
   "source": [
    "def read_data(model_names):\n",
    "    data = {}\n",
    "    for model_name in model_names:\n",
    "        json_file = f\"Si-model-{model_name}-test-bulk_Si_diamond-properties.json\"\n",
    "        model_name = os.path.basename(json_file).split('-')[2]\n",
    "        data[model_name] = json.load(open(json_file))\n",
    "    return data\n",
    "    \n",
    "data = read_data(['CASTEP_ASE', 'GAP'])\n",
    "ref_model_name = 'CASTEP_ASE'"
   ]
  },
  {
   "cell_type": "markdown",
   "id": "duplicate-fighter",
   "metadata": {},
   "source": [
    "# With new ase-espresso"
   ]
  },
  {
   "cell_type": "code",
   "execution_count": 30,
   "id": "comic-consistency",
   "metadata": {},
   "outputs": [
    {
     "data": {
      "text/plain": [
       "'/home/lls34/GitHub/01_PhD/PhD_Code/submodules/testing-framework/testing-framework/examples'"
      ]
     },
     "execution_count": 30,
     "metadata": {},
     "output_type": "execute_result"
    },
    {
     "name": "stdout",
     "output_type": "stream",
     "text": [
      "The history saving thread hit an unexpected error (OperationalError('attempt to write a readonly database')).History will not be written to the database.\n"
     ]
    }
   ],
   "source": [
    "pwd"
   ]
  },
  {
   "cell_type": "code",
   "execution_count": 33,
   "id": "brave-hamburg",
   "metadata": {},
   "outputs": [],
   "source": []
  },
  {
   "cell_type": "code",
   "execution_count": 29,
   "id": "false-medium",
   "metadata": {},
   "outputs": [
    {
     "ename": "TypeError",
     "evalue": "Invalid initial value for path: None",
     "output_type": "error",
     "traceback": [
      "\u001b[0;31m---------------------------------------------------------------------------\u001b[0m",
      "\u001b[0;31mTypeError\u001b[0m                                 Traceback (most recent call last)",
      "\u001b[0;32m<ipython-input-29-f20bd0642a82>\u001b[0m in \u001b[0;36m<module>\u001b[0;34m\u001b[0m\n\u001b[1;32m     34\u001b[0m \u001b[0;34m\u001b[0m\u001b[0m\n\u001b[1;32m     35\u001b[0m \u001b[0;31m# Sceduling Properties\u001b[0m\u001b[0;34m\u001b[0m\u001b[0;34m\u001b[0m\u001b[0;34m\u001b[0m\u001b[0m\n\u001b[0;32m---> 36\u001b[0;31m \u001b[0msite\u001b[0m \u001b[0;34m=\u001b[0m \u001b[0mSiteConfig\u001b[0m\u001b[0;34m(\u001b[0m\u001b[0;34m\"GE\"\u001b[0m\u001b[0;34m,\u001b[0m \u001b[0mscratchenv\u001b[0m\u001b[0;34m=\u001b[0m\u001b[0;34m\"SCRATCH\"\u001b[0m\u001b[0;34m)\u001b[0m\u001b[0;34m\u001b[0m\u001b[0;34m\u001b[0m\u001b[0m\n\u001b[0m\u001b[1;32m     37\u001b[0m \u001b[0msite\u001b[0m \u001b[0;34m=\u001b[0m \u001b[0mSiteConfig\u001b[0m\u001b[0;34m(\u001b[0m\u001b[0mscheduler\u001b[0m\u001b[0;34m=\u001b[0m\u001b[0;32mNone\u001b[0m\u001b[0;34m)\u001b[0m\u001b[0;34m\u001b[0m\u001b[0;34m\u001b[0m\u001b[0m\n\u001b[1;32m     38\u001b[0m \u001b[0;34m\u001b[0m\u001b[0m\n",
      "\u001b[0;32m~/GitHub/10_QE_Interface/ase-espresso/espresso/siteconfig.py\u001b[0m in \u001b[0;36m__call__\u001b[0;34m(cls, *args, **kwargs)\u001b[0m\n\u001b[1;32m     60\u001b[0m     \u001b[0;32mdef\u001b[0m \u001b[0m__call__\u001b[0m\u001b[0;34m(\u001b[0m\u001b[0mcls\u001b[0m\u001b[0;34m,\u001b[0m \u001b[0;34m*\u001b[0m\u001b[0margs\u001b[0m\u001b[0;34m,\u001b[0m \u001b[0;34m**\u001b[0m\u001b[0mkwargs\u001b[0m\u001b[0;34m)\u001b[0m\u001b[0;34m:\u001b[0m\u001b[0;34m\u001b[0m\u001b[0;34m\u001b[0m\u001b[0m\n\u001b[1;32m     61\u001b[0m         \u001b[0;32mif\u001b[0m \u001b[0mcls\u001b[0m \u001b[0;32mnot\u001b[0m \u001b[0;32min\u001b[0m \u001b[0mSingleton\u001b[0m\u001b[0;34m.\u001b[0m\u001b[0m_instances\u001b[0m\u001b[0;34m:\u001b[0m\u001b[0;34m\u001b[0m\u001b[0;34m\u001b[0m\u001b[0m\n\u001b[0;32m---> 62\u001b[0;31m             \u001b[0mSingleton\u001b[0m\u001b[0;34m.\u001b[0m\u001b[0m_instances\u001b[0m\u001b[0;34m[\u001b[0m\u001b[0mcls\u001b[0m\u001b[0;34m]\u001b[0m \u001b[0;34m=\u001b[0m \u001b[0mtype\u001b[0m\u001b[0;34m.\u001b[0m\u001b[0m__call__\u001b[0m\u001b[0;34m(\u001b[0m\u001b[0mcls\u001b[0m\u001b[0;34m,\u001b[0m \u001b[0;34m*\u001b[0m\u001b[0margs\u001b[0m\u001b[0;34m,\u001b[0m \u001b[0;34m**\u001b[0m\u001b[0mkwargs\u001b[0m\u001b[0;34m)\u001b[0m\u001b[0;34m\u001b[0m\u001b[0;34m\u001b[0m\u001b[0m\n\u001b[0m\u001b[1;32m     63\u001b[0m         \u001b[0;32mreturn\u001b[0m \u001b[0mSingleton\u001b[0m\u001b[0;34m.\u001b[0m\u001b[0m_instances\u001b[0m\u001b[0;34m[\u001b[0m\u001b[0mcls\u001b[0m\u001b[0;34m]\u001b[0m\u001b[0;34m\u001b[0m\u001b[0;34m\u001b[0m\u001b[0m\n\u001b[1;32m     64\u001b[0m \u001b[0;34m\u001b[0m\u001b[0m\n",
      "\u001b[0;32m~/GitHub/10_QE_Interface/ase-espresso/espresso/siteconfig.py\u001b[0m in \u001b[0;36m__init__\u001b[0;34m(self, scheduler, usehostfile, scratchenv)\u001b[0m\n\u001b[1;32m    102\u001b[0m         \u001b[0mself\u001b[0m\u001b[0;34m.\u001b[0m\u001b[0mtpn\u001b[0m \u001b[0;34m=\u001b[0m \u001b[0;32mNone\u001b[0m\u001b[0;34m\u001b[0m\u001b[0;34m\u001b[0m\u001b[0m\n\u001b[1;32m    103\u001b[0m \u001b[0;34m\u001b[0m\u001b[0m\n\u001b[0;32m--> 104\u001b[0;31m         \u001b[0mself\u001b[0m\u001b[0;34m.\u001b[0m\u001b[0mset_variables\u001b[0m\u001b[0;34m(\u001b[0m\u001b[0;34m)\u001b[0m\u001b[0;34m\u001b[0m\u001b[0;34m\u001b[0m\u001b[0m\n\u001b[0m\u001b[1;32m    105\u001b[0m \u001b[0;34m\u001b[0m\u001b[0m\n\u001b[1;32m    106\u001b[0m     \u001b[0;32mdef\u001b[0m \u001b[0mset_variables\u001b[0m\u001b[0;34m(\u001b[0m\u001b[0mself\u001b[0m\u001b[0;34m)\u001b[0m\u001b[0;34m:\u001b[0m\u001b[0;34m\u001b[0m\u001b[0;34m\u001b[0m\u001b[0m\n",
      "\u001b[0;32m~/GitHub/10_QE_Interface/ase-espresso/espresso/siteconfig.py\u001b[0m in \u001b[0;36mset_variables\u001b[0;34m(self)\u001b[0m\n\u001b[1;32m    116\u001b[0m             \u001b[0mself\u001b[0m\u001b[0;34m.\u001b[0m\u001b[0mset_pbs_env\u001b[0m\u001b[0;34m(\u001b[0m\u001b[0;34m)\u001b[0m\u001b[0;34m\u001b[0m\u001b[0;34m\u001b[0m\u001b[0m\n\u001b[1;32m    117\u001b[0m         \u001b[0;32melif\u001b[0m \u001b[0mself\u001b[0m\u001b[0;34m.\u001b[0m\u001b[0mscheduler\u001b[0m\u001b[0;34m.\u001b[0m\u001b[0mlower\u001b[0m\u001b[0;34m(\u001b[0m\u001b[0;34m)\u001b[0m \u001b[0;34m==\u001b[0m \u001b[0;34m\"ge\"\u001b[0m\u001b[0;34m:\u001b[0m  \u001b[0;31m# grid engine\u001b[0m\u001b[0;34m\u001b[0m\u001b[0;34m\u001b[0m\u001b[0m\n\u001b[0;32m--> 118\u001b[0;31m             \u001b[0mself\u001b[0m\u001b[0;34m.\u001b[0m\u001b[0mset_grid_engine_env\u001b[0m\u001b[0;34m(\u001b[0m\u001b[0;34m)\u001b[0m\u001b[0;34m\u001b[0m\u001b[0;34m\u001b[0m\u001b[0m\n\u001b[0m\u001b[1;32m    119\u001b[0m \u001b[0;34m\u001b[0m\u001b[0m\n\u001b[1;32m    120\u001b[0m     \u001b[0;34m@\u001b[0m\u001b[0mclassmethod\u001b[0m\u001b[0;34m\u001b[0m\u001b[0;34m\u001b[0m\u001b[0m\n",
      "\u001b[0;32m~/GitHub/10_QE_Interface/ase-espresso/espresso/siteconfig.py\u001b[0m in \u001b[0;36mset_grid_engine_env\u001b[0;34m(self)\u001b[0m\n\u001b[1;32m    250\u001b[0m \u001b[0;34m\u001b[0m\u001b[0m\n\u001b[1;32m    251\u001b[0m         \u001b[0mself\u001b[0m\u001b[0;34m.\u001b[0m\u001b[0mjobid\u001b[0m \u001b[0;34m=\u001b[0m \u001b[0mos\u001b[0m\u001b[0;34m.\u001b[0m\u001b[0mgetenv\u001b[0m\u001b[0;34m(\u001b[0m\u001b[0;34m\"JOB_ID\"\u001b[0m\u001b[0;34m)\u001b[0m\u001b[0;34m\u001b[0m\u001b[0;34m\u001b[0m\u001b[0m\n\u001b[0;32m--> 252\u001b[0;31m         \u001b[0mself\u001b[0m\u001b[0;34m.\u001b[0m\u001b[0msubmitdir\u001b[0m \u001b[0;34m=\u001b[0m \u001b[0mPath\u001b[0m\u001b[0;34m(\u001b[0m\u001b[0mos\u001b[0m\u001b[0;34m.\u001b[0m\u001b[0mgetenv\u001b[0m\u001b[0;34m(\u001b[0m\u001b[0;34m\"SGE_O_WORKDIR\"\u001b[0m\u001b[0;34m)\u001b[0m\u001b[0;34m)\u001b[0m\u001b[0;34m\u001b[0m\u001b[0;34m\u001b[0m\u001b[0m\n\u001b[0m\u001b[1;32m    253\u001b[0m \u001b[0;34m\u001b[0m\u001b[0m\n\u001b[1;32m    254\u001b[0m         \u001b[0;31m# nodefile = os.getenv('PBS_NODEFILE')\u001b[0m\u001b[0;34m\u001b[0m\u001b[0;34m\u001b[0m\u001b[0;34m\u001b[0m\u001b[0m\n",
      "\u001b[0;32m~/miniconda3/envs/phd-code/lib/python3.8/site-packages/path/__init__.py\u001b[0m in \u001b[0;36m__init__\u001b[0;34m(self, other)\u001b[0m\n\u001b[1;32m    162\u001b[0m     \u001b[0;32mdef\u001b[0m \u001b[0m__init__\u001b[0m\u001b[0;34m(\u001b[0m\u001b[0mself\u001b[0m\u001b[0;34m,\u001b[0m \u001b[0mother\u001b[0m\u001b[0;34m=\u001b[0m\u001b[0;34m''\u001b[0m\u001b[0;34m)\u001b[0m\u001b[0;34m:\u001b[0m\u001b[0;34m\u001b[0m\u001b[0;34m\u001b[0m\u001b[0m\n\u001b[1;32m    163\u001b[0m         \u001b[0;32mif\u001b[0m \u001b[0mother\u001b[0m \u001b[0;32mis\u001b[0m \u001b[0;32mNone\u001b[0m\u001b[0;34m:\u001b[0m\u001b[0;34m\u001b[0m\u001b[0;34m\u001b[0m\u001b[0m\n\u001b[0;32m--> 164\u001b[0;31m             \u001b[0;32mraise\u001b[0m \u001b[0mTypeError\u001b[0m\u001b[0;34m(\u001b[0m\u001b[0;34m\"Invalid initial value for path: None\"\u001b[0m\u001b[0;34m)\u001b[0m\u001b[0;34m\u001b[0m\u001b[0;34m\u001b[0m\u001b[0m\n\u001b[0m\u001b[1;32m    165\u001b[0m \u001b[0;34m\u001b[0m\u001b[0m\n\u001b[1;32m    166\u001b[0m     \u001b[0;34m@\u001b[0m\u001b[0mclassmethod\u001b[0m\u001b[0;34m\u001b[0m\u001b[0;34m\u001b[0m\u001b[0m\n",
      "\u001b[0;31mTypeError\u001b[0m: Invalid initial value for path: None"
     ]
    }
   ],
   "source": [
    "\"\"\"\n",
    "Python script for running QE with the github calculator\n",
    "\n",
    "This was originally created by Sandip on Feb 2021. The code requires the espresso\n",
    ".esspresso to be installed. This was modified to work on womble0 using the GridEngine\n",
    "\n",
    "The script can be called by\n",
    "\n",
    "`python qe_simple.py traj.xyz 2`\n",
    "\n",
    "where 2 is the configuraiton in traj.xyz that should be calculated\n",
    "\n",
    " - still need to do out directory\n",
    "\"\"\"\n",
    "\n",
    "from espresso.espresso import Espresso            # Espresso Library\n",
    "from ase import units # Ase Units\n",
    "from espresso.siteconfig import SiteConfig\n",
    "from ase.io import read, write\n",
    "from ase.io.espresso import kspacing_to_grid\n",
    "import sys\n",
    "import os\n",
    "import numpy as np\n",
    "\n",
    "\n",
    "# ---- Setting Variables\n",
    "\n",
    "# Environements\n",
    "os.environ[\"SCRATCH\"] = \"/home/lls34/trash/scratch/\"\n",
    "\n",
    "atoms = ase.io.read('/home/lls34/GitHub/01_PhD/PhD_Code/submodules/testing-framework/testing-framework/examples/In_mp-1055994_primitive.cif')\n",
    "os.environ['SGE_O_WORKDIR'] = '/home/lls34/GitHub/01_PhD/PhD_Code/submodules/testing-framework/testing-framework/examples'\n",
    "os.environ[\"NSLOTS\"]='1'\n",
    "\n",
    "\n",
    "PSP_PATH = (\n",
    "    \"/home/lls34/programs/QuantumExpresso/pseudopotentials/use_pot\"  # Pseudo Potentails\n",
    ")\n",
    "\n",
    "# Sceduling Properties\n",
    "site = SiteConfig(\"GE\", scratchenv=\"SCRATCH\")\n",
    "site = SiteConfig(scheduler=None)\n",
    "\n",
    "\n",
    "\n",
    "# Atom specific properties\n",
    "\n",
    "atoms = atoms\n",
    "\n",
    "#info = {\"uid\": atoms.info[\"uid\"], \"type\": atoms.info[\"type\"]}\n",
    "\n",
    "prefix = 'test' #\"QE_{}_0\".format(info[\"uid\"])\n",
    "\n",
    "j = 0\n",
    "# Make sure unique output file\n",
    "while os.path.exists(os.path.join(prefix)) or os.path.exists(\n",
    "    os.path.join(prefix, \".xyz\")\n",
    "):\n",
    "    prefix = \"QE_{}_{}\".format(info[\"uid\"], j)\n",
    "    j += 1\n",
    "\n",
    "    if j > 1000:\n",
    "        raise ValueError(\"While loop ran too often\")\n",
    "print(f\"New prefix {prefix}\")\n",
    "\n",
    "# Now Properites\n",
    "\n",
    "\n",
    "kspacing = 0.25 / (2.0 * np.pi)\n",
    "\n",
    "kpts = kspacing_to_grid(atoms, spacing=0.25 / (2.0 * np.pi))\n",
    "xc = \"PBE\"\n",
    "dipole = {\"status\": False}\n",
    "calcstress = True\n",
    "spinpol = True\n",
    "\n",
    "convergence = {\n",
    "    \"energy\": 1e-7,\n",
    "    \"mixing\": 0.5,\n",
    "    \"nmix\": 10,\n",
    "    \"maxsteps\": 500,\n",
    "    \"diag\": \"david\",\n",
    "}\n",
    "\n",
    "# if \"Slab\" in info[\"type\"]:\n",
    "#     calcstress = False\n",
    "#     print(\"type {}: dipole correction on\".format(info[\"type\"]))\n",
    "#     dipole = {\"status\": True}\n",
    "#     kpts[2] = 1\n",
    "\n",
    "print(f\"using kpts: {kpts}\")\n",
    "\n",
    "magmom_dict = {\"In\": 10, \"O\": 4, \"C\": 3, \"H\": 1, \"N\": 3}\n",
    "magmoms = []\n",
    "\n",
    "for i in range(len(atoms)):\n",
    "    magmoms.append(magmom_dict[atoms[i].symbol])\n",
    "\n",
    "atoms.set_initial_magnetic_moments(magmoms)\n",
    "\n",
    "# if \"isolated_atom\" in info[\"type\"]:\n",
    "#     calcstress = False\n",
    "#     spinpol = False\n",
    "#     kpts = \"gamma\"\n",
    "#     atoms.arrays.pop(\"initial_magmoms\")\n",
    "\n",
    "calc = Espresso(\n",
    "    # pseudopotentials=pseudopotentials,\n",
    "    pw=65 * units.Ry,  # plane-wave cut-off in eV, defaults to 350.0\n",
    "    dw=8 * 65 * units.Ry,  # default 10*pw\n",
    "    xc=xc,\n",
    "    kpts=kpts,\n",
    "    calculation=\"scf\",\n",
    "    psppath=PSP_PATH,\n",
    "    parflags=\"-npool 1\",\n",
    "    nbands=-20,\n",
    "    occupations=\"smearing\",\n",
    "    sigma=0.1,\n",
    "    smearing=\"gaussian\",\n",
    "    convergence=convergence,\n",
    "    dipole=dipole,\n",
    "    calcstress=calcstress,\n",
    "    spinpol=spinpol,\n",
    "    # vdw_corr='D3',\n",
    "    output={\n",
    "        \"removesave\": False,\n",
    "        \"avoidio\": False,\n",
    "        \"removewf\": False,\n",
    "        \"wf_collect\": True,\n",
    "    },\n",
    "    outdir=prefix,\n",
    "    site=site,\n",
    "    txt=\"pw.out\",\n",
    ")\n",
    "\n",
    "try:\n",
    "    atoms.set_calculator(calc)\n",
    "    print(f\"PE: {atoms.get_potential_energy()}\")\n",
    "    #atoms.info = info\n",
    "    write(\"{}.xyz\".format(prefix), [atoms], format=\"extxyz\")\n",
    "    atoms = read(\"{}.xyz\".format(prefix))\n",
    "    #info = atoms.info\n",
    "    if \"stress\" in atoms.info.keys():\n",
    "        info[\"virial\"] = -atoms.info[\"stress\"] / atoms.get_volume()\n",
    "        atoms.info = info\n",
    "        print(\"writing new\")\n",
    "        write(\"{}.xyz\".format(prefix), [atoms], format=\"extxyz\")\n",
    "\n",
    "except ImportError as e:\n",
    "    open(\"{}.FAIL\".format(prefix), \"w\").close()\n",
    "    print(f\"Error: {prefix}, {e}\")\n",
    "\n"
   ]
  },
  {
   "cell_type": "code",
   "execution_count": null,
   "id": "deluxe-office",
   "metadata": {},
   "outputs": [],
   "source": []
  }
 ],
 "metadata": {
  "kernelspec": {
   "display_name": "Python 3",
   "language": "python",
   "name": "python3"
  },
  "language_info": {
   "codemirror_mode": {
    "name": "ipython",
    "version": 3
   },
   "file_extension": ".py",
   "mimetype": "text/x-python",
   "name": "python",
   "nbconvert_exporter": "python",
   "pygments_lexer": "ipython3",
   "version": "3.8.5"
  }
 },
 "nbformat": 4,
 "nbformat_minor": 5
}
