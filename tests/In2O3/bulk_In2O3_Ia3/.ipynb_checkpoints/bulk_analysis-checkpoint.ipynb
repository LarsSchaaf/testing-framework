{
 "cells": [
  {
   "cell_type": "markdown",
   "metadata": {
    "id": "-FgbMdyVHu0t"
   },
   "source": [
    "# Demonstration of Interatomic Potential Testing Framework\n",
    "\n",
    "**James Kermode**\n",
    "<br>\n",
    "March 2021\n",
    "\n",
    "Data and code available from https://github.com/libAtoms/testing-framework\n",
    "\n",
    "Running Model:\n",
    "```bash\n",
    "\n",
    "```\n"
   ]
  },
  {
   "cell_type": "code",
   "execution_count": 182,
   "metadata": {
    "id": "nn9ukbPtBHha"
   },
   "outputs": [
    {
     "name": "stdout",
     "output_type": "stream",
     "text": [
      "ln: failed to create symbolic link '../tests': File exists\n"
     ]
    }
   ],
   "source": [
    "import itertools\n",
    "import json\n",
    "import os\n",
    "\n",
    "import numpy as np\n",
    "import pandas as pd\n",
    "import matplotlib.pyplot as plt\n",
    "import seaborn as sns\n",
    "import nglview\n",
    "import matplotlib.pyplot as plt\n",
    "import seaborn as sns\n",
    "\n",
    "from ase.io import read\n",
    "\n",
    "sns.set_context('talk')\n",
    "\n",
    "os.chdir(os.path.expanduser('/home/lls34/GitHub/01_PhD/PhD_Code/submodules/testing-framework/testing-framework/example_models/In2O3/run_dir'))\n",
    "! [[ ! -d ../tests ]] && ln -s ~/tests/Si ../tests"
   ]
  },
  {
   "cell_type": "code",
   "execution_count": 181,
   "metadata": {},
   "outputs": [],
   "source": [
    "import seaborn as sns"
   ]
  },
  {
   "cell_type": "markdown",
   "metadata": {
    "id": "M82uZjB7Hkv9"
   },
   "source": [
    "## Energy-Volume curves\n",
    "\n",
    "We can read in the existing data:\n",
    "\n",
    "In2O3-model-DFT_QE-test-bulk_In2O3_Ia3-properties"
   ]
  },
  {
   "cell_type": "code",
   "execution_count": 66,
   "metadata": {
    "colab": {
     "base_uri": "https://localhost:8080/",
     "height": 518
    },
    "id": "VaLrrZXXBOuH",
    "outputId": "7d12de90-9a8a-4b28-de03-81767c1c4ab5"
   },
   "outputs": [],
   "source": [
    "def read_data(model_names, sym='Ia3', raise_error=True):\n",
    "    data = {}\n",
    "    for model_name in model_names:\n",
    "        json_file = f\"In2O3-model-{model_name}-test-bulk_In2O3_{sym}-properties.json\"\n",
    "        #model_name = os.path.basename(json_file).split('-')[2]\n",
    "        \n",
    "        if not os.path.exists(json_file):\n",
    "            print(f'Json file for model and test doesnt exist: {json_file}')\n",
    "            if raise_error:\n",
    "                raise FileNotFoundError(f'Json file doesnt exist: {fname}')\n",
    "            else:\n",
    "                # Move on to next model \n",
    "                continue\n",
    "                \n",
    "        data[model_name] = json.load(open(json_file))\n",
    "    return data"
   ]
  },
  {
   "cell_type": "markdown",
   "metadata": {
    "colab": {
     "base_uri": "https://localhost:8080/",
     "height": 521
    },
    "id": "h3mnmdaZKD3v",
    "outputId": "adb1ac29-c90f-488f-8219-f8c7a5c9f155"
   },
   "source": [
    "Now we define some simple functions to plot energy volume curves for the reference DFT and GAP models. Here we fit a quartic polynomial to the data."
   ]
  },
  {
   "cell_type": "code",
   "execution_count": 67,
   "metadata": {},
   "outputs": [],
   "source": [
    "#data\n"
   ]
  },
  {
   "cell_type": "code",
   "execution_count": 196,
   "metadata": {
    "colab": {
     "base_uri": "https://localhost:8080/",
     "height": 518
    },
    "id": "VaLrrZXXBOuH",
    "outputId": "7d12de90-9a8a-4b28-de03-81767c1c4ab5"
   },
   "outputs": [],
   "source": [
    "def polyplot(ax, V, E, color, label):\n",
    "    p = np.polyfit(np.array(V, dtype=float), np.array(E - E.min(),dtype=float), 4)\n",
    "    v = np.linspace(V.min(), V.max(), 100)\n",
    "    e = np.polyval(p, v)\n",
    "    ax.plot(V, E - E.min(), color+'.', label=label+' data')\n",
    "    ax.plot(v, e, color+'-', label=label+' fit')\n",
    "\n",
    "def plot_e_vs_v(all_data, ref_model_name, colors=None, ax=None):\n",
    "    if ax is None:\n",
    "        fig, ax = plt.subplots(figsize=(12,8))\n",
    "    #polyplot(ax, ref_E_vs_V[:,0], ref_E_vs_V[:,1], 'k', ref_model_name)\n",
    "    \n",
    "    if colors is None:\n",
    "        colors = ['C0', 'C1', 'C2', 'C3', 'C4']\n",
    "        \n",
    "    for i, model_name in enumerate(all_data): \n",
    "        color =  colors[i%len(colors)]\n",
    "        if model_name == ref_model_name:\n",
    "            color='k'\n",
    "        data = all_data[model_name]\n",
    "        E_vs_V = np.array(data['E_vs_V'], dtype=object)\n",
    "        V = E_vs_V[:, 0].astype(float)\n",
    "        E = E_vs_V[:, 1].astype(float)\n",
    "        polyplot(ax, V, \n",
    "                 E ,#- E.min(), \n",
    "                 color, model_name)        \n",
    "    \n",
    "\n",
    "    ax.set_xlabel(r'Volume / $\\mathrm{\\AA}^3$')\n",
    "    ax.set_ylabel('Energy / eV')\n",
    "    plt.legend()\n",
    "    \n",
    "    return ax\n",
    "\n"
   ]
  },
  {
   "cell_type": "code",
   "execution_count": 136,
   "metadata": {},
   "outputs": [
    {
     "name": "stdout",
     "output_type": "stream",
     "text": [
      "GAP_it1_50s C0\n",
      "GAP_itB_1_a C1\n",
      "GAP_itB_1_b C2\n",
      "GAP_itB_1_c C3\n"
     ]
    }
   ],
   "source": [
    "colors = ['C0', 'C1', 'C2', 'C3', 'C4']\n",
    "for i, model_name in enumerate(data): \n",
    "    print(model_name, colors[i%len(colors)])"
   ]
  },
  {
   "cell_type": "markdown",
   "metadata": {},
   "source": [
    "# Running analysis"
   ]
  },
  {
   "cell_type": "code",
   "execution_count": 202,
   "metadata": {},
   "outputs": [
    {
     "name": "stderr",
     "output_type": "stream",
     "text": [
      "No handles with labels found to put in legend.\n"
     ]
    },
    {
     "name": "stdout",
     "output_type": "stream",
     "text": [
      "Trying Symetry: Ia3\n",
      "DFT_QE\n"
     ]
    },
    {
     "data": {
      "image/png": "[encoded data removed]",
      "text/plain": [
       "<Figure size 864x576 with 2 Axes>"
      ]
     },
     "metadata": {
      "needs_background": "light"
     },
     "output_type": "display_data"
    },
    {
     "name": "stderr",
     "output_type": "stream",
     "text": [
      "No handles with labels found to put in legend.\n"
     ]
    },
    {
     "name": "stdout",
     "output_type": "stream",
     "text": [
      "Trying Symetry: R3c\n",
      "Json file for model and test doesnt exist: In2O3-model-GAP_itB_1_c-test-bulk_In2O3_R3c-properties.json\n",
      "DFT_QE\n"
     ]
    },
    {
     "data": {
      "image/png": "[encoded data removed]",
      "text/plain": [
       "<Figure size 864x576 with 2 Axes>"
      ]
     },
     "metadata": {
      "needs_background": "light"
     },
     "output_type": "display_data"
    },
    {
     "name": "stderr",
     "output_type": "stream",
     "text": [
      "No handles with labels found to put in legend.\n"
     ]
    },
    {
     "name": "stdout",
     "output_type": "stream",
     "text": [
      "Trying Symetry: Pbca\n",
      "Json file for model and test doesnt exist: In2O3-model-DFT_QE-test-bulk_In2O3_Pbca-properties.json\n",
      "DFT_QE\n"
     ]
    },
    {
     "data": {
      "image/png": "[encoded data removed]",
      "text/plain": [
       "<Figure size 864x576 with 2 Axes>"
      ]
     },
     "metadata": {
      "needs_background": "light"
     },
     "output_type": "display_data"
    },
    {
     "name": "stderr",
     "output_type": "stream",
     "text": [
      "No handles with labels found to put in legend.\n"
     ]
    },
    {
     "name": "stdout",
     "output_type": "stream",
     "text": [
      "Trying Symetry: Pbcn\n",
      "Json file for model and test doesnt exist: In2O3-model-DFT_QE-test-bulk_In2O3_Pbcn-properties.json\n",
      "DFT_QE\n"
     ]
    },
    {
     "data": {
      "image/png": "[encoded data removed]",
      "text/plain": [
       "<Figure size 864x576 with 2 Axes>"
      ]
     },
     "metadata": {
      "needs_background": "light"
     },
     "output_type": "display_data"
    }
   ],
   "source": [
    "syms = ['Ia3', 'R3c','Pbca', 'Pbcn']\n",
    "models = ['DFT_QE', \n",
    "          'GAP_it1_50s', \n",
    "          'GAP_itB_1_a','GAP_itB_1_b', 'GAP_itB_1_c',\n",
    "         ]\n",
    "for sym in syms:\n",
    "    fig, axs = plt.subplots(2,1, figsize=(12,8), gridspec_kw={'height_ratios':[2,1]})\n",
    "    \n",
    "    print(f'Trying Symetry: {sym}')\n",
    "    data = read_data(models, sym=sym, raise_error=False) \n",
    "    models_sym = [i for i in models if np.isin(i, list(data.keys())) ]\n",
    "    ref_model_name = 'DFT_QE'\n",
    "    print(ref_model_name)\n",
    "    axs[0] = plot_e_vs_v(data, ref_model_name,ax=ax[0])\n",
    "    axs[0].set(title=f'Bulk Investigation: {sym}')\n",
    "    plt.show()"
   ]
  },
  {
   "cell_type": "markdown",
   "metadata": {},
   "source": [
    "# Volume density analysis"
   ]
  },
  {
   "cell_type": "code",
   "execution_count": 184,
   "metadata": {},
   "outputs": [],
   "source": [
    "ats = read('/data/lls34/Data/In2O3/In2O3_LS_1/04_QE2/02_Ameliorate_GAP/02_Itterative/03_Bulk/Volume_Curves/It1/Train/Data_c_DFT_train.xyz', ':')\n"
   ]
  },
  {
   "cell_type": "code",
   "execution_count": 185,
   "metadata": {},
   "outputs": [],
   "source": [
    "vols = []\n",
    "for at in ats:\n",
    "    if at.info['type'] == 'bulk':\n",
    "        vols.append(at.get_volume()/at.get_global_number_of_atoms())\n",
    "    "
   ]
  },
  {
   "cell_type": "code",
   "execution_count": 186,
   "metadata": {},
   "outputs": [
    {
     "data": {
      "image/png": "[encoded data removed]",
      "text/plain": [
       "<Figure size 432x288 with 1 Axes>"
      ]
     },
     "metadata": {
      "needs_background": "light"
     },
     "output_type": "display_data"
    }
   ],
   "source": [
    "plt.hist(vols, bins=100);"
   ]
  },
  {
   "cell_type": "code",
   "execution_count": 173,
   "metadata": {},
   "outputs": [
    {
     "data": {
      "text/plain": [
       "[10.85597124514686,\n",
       " 10.177473042325335,\n",
       " 12.891465853611958,\n",
       " 12.212967650790342,\n",
       " 11.534469447968597]"
      ]
     },
     "execution_count": 173,
     "metadata": {},
     "output_type": "execute_result"
    }
   ],
   "source": [
    "vols"
   ]
  },
  {
   "cell_type": "code",
   "execution_count": 176,
   "metadata": {},
   "outputs": [],
   "source": [
    "df = pd.DataFrame({\n",
    "    'ItB_1_b': [11.60606197758448,\n",
    "     10.24064292139812,\n",
    "     12.288771505677735,\n",
    "     10.923352449491286,\n",
    "     12.971481033770953],\n",
    "    'ItB_1_a': [11.534469447968618,\n",
    " 12.21296765079032,\n",
    " 10.177473042325264,\n",
    " 12.891465853611994,\n",
    " 10.855971245146947],\n",
    "    'ItB_1_c': [10.85597124514686,\n",
    " 10.177473042325335,\n",
    " 12.891465853611958,\n",
    " 12.212967650790342,\n",
    " 11.534469447968597],\n",
    "    \n",
    "})"
   ]
  },
  {
   "cell_type": "code",
   "execution_count": 180,
   "metadata": {},
   "outputs": [
    {
     "data": {
      "text/plain": [
       "<AxesSubplot:>"
      ]
     },
     "execution_count": 180,
     "metadata": {},
     "output_type": "execute_result"
    },
    {
     "data": {
      "image/png": "[encoded data removed]",
      "text/plain": [
       "<Figure size 432x288 with 1 Axes>"
      ]
     },
     "metadata": {
      "needs_background": "light"
     },
     "output_type": "display_data"
    }
   ],
   "source": [
    "df.plot(kind='box')"
   ]
  },
  {
   "cell_type": "code",
   "execution_count": 195,
   "metadata": {},
   "outputs": [
    {
     "data": {
      "image/png": "[encoded data removed]",
      "text/plain": [
       "<Figure size 432x288 with 1 Axes>"
      ]
     },
     "metadata": {
      "needs_background": "light"
     },
     "output_type": "display_data"
    }
   ],
   "source": [
    "ax = sns.boxplot(data=df, boxprops=dict(alpha=.6))\n",
    "ax = sns.swarmplot(data=df, color='.25')"
   ]
  },
  {
   "cell_type": "code",
   "execution_count": 79,
   "metadata": {},
   "outputs": [
    {
     "data": {
      "text/plain": [
       "dict_keys(['DFT_QE', 'GAP_it1_50s'])"
      ]
     },
     "execution_count": 79,
     "metadata": {},
     "output_type": "execute_result"
    }
   ],
   "source": [
    "data.keys()"
   ]
  },
  {
   "cell_type": "code",
   "execution_count": 84,
   "metadata": {},
   "outputs": [
    {
     "name": "stdout",
     "output_type": "stream",
     "text": [
      "DFT_QE dict_keys(['DFT_QE', 'GAP_it1_50s']) False\n",
      "GAP_it1_50s dict_keys(['DFT_QE', 'GAP_it1_50s']) False\n"
     ]
    }
   ],
   "source": [
    "for i in models:\n",
    "    print(i, data.keys(), np.isin(i, np.array(data.keys())))"
   ]
  },
  {
   "cell_type": "code",
   "execution_count": 100,
   "metadata": {},
   "outputs": [
    {
     "data": {
      "text/plain": [
       "array(True)"
      ]
     },
     "execution_count": 100,
     "metadata": {},
     "output_type": "execute_result"
    }
   ],
   "source": [
    "np.isin(i, list(data.keys()))"
   ]
  },
  {
   "cell_type": "code",
   "execution_count": 89,
   "metadata": {},
   "outputs": [
    {
     "data": {
      "text/plain": [
       "'GAP_it1_50s'"
      ]
     },
     "execution_count": 89,
     "metadata": {},
     "output_type": "execute_result"
    }
   ],
   "source": []
  },
  {
   "cell_type": "code",
   "execution_count": 94,
   "metadata": {},
   "outputs": [
    {
     "data": {
      "text/plain": [
       "array(\"dict_keys(['DFT_QE', 'GAP_it1_50s'])\", dtype='<U64')"
      ]
     },
     "execution_count": 94,
     "metadata": {},
     "output_type": "execute_result"
    }
   ],
   "source": [
    "np.array(data.keys(), dtype=str)"
   ]
  },
  {
   "attachments": {
    "f1dcf3a5-b8b1-4742-b92f-8e4db63ff408.png": {
     "image/png": "[encoded data removed]"
    }
   },
   "cell_type": "markdown",
   "metadata": {},
   "source": [
    "## Bulk Properties\n",
    "```\n",
    "![image.png](attachment:f1dcf3a5-b8b1-4742-b92f-8e4db63ff408.png)\n",
    "```\n",
    "As well as the energy volume curve, the bulk test computes a number of other bulk properties, which we can tabulate:"
   ]
  },
  {
   "cell_type": "code",
   "execution_count": 60,
   "metadata": {},
   "outputs": [
    {
     "data": {
      "text/html": [
       "<div>\n",
       "<style scoped>\n",
       "    .dataframe tbody tr th:only-of-type {\n",
       "        vertical-align: middle;\n",
       "    }\n",
       "\n",
       "    .dataframe tbody tr th {\n",
       "        vertical-align: top;\n",
       "    }\n",
       "\n",
       "    .dataframe thead th {\n",
       "        text-align: right;\n",
       "    }\n",
       "</style>\n",
       "<table border=\"1\" class=\"dataframe\">\n",
       "  <thead>\n",
       "    <tr style=\"text-align: right;\">\n",
       "      <th></th>\n",
       "      <th>GAP_it1_50s</th>\n",
       "    </tr>\n",
       "  </thead>\n",
       "  <tbody>\n",
       "    <tr>\n",
       "      <th>c11</th>\n",
       "      <td>167.440418</td>\n",
       "    </tr>\n",
       "    <tr>\n",
       "      <th>c12</th>\n",
       "      <td>70.843958</td>\n",
       "    </tr>\n",
       "    <tr>\n",
       "      <th>c13</th>\n",
       "      <td>40.789197</td>\n",
       "    </tr>\n",
       "    <tr>\n",
       "      <th>c22</th>\n",
       "      <td>184.776555</td>\n",
       "    </tr>\n",
       "    <tr>\n",
       "      <th>c23</th>\n",
       "      <td>60.981165</td>\n",
       "    </tr>\n",
       "    <tr>\n",
       "      <th>c33</th>\n",
       "      <td>140.147565</td>\n",
       "    </tr>\n",
       "    <tr>\n",
       "      <th>c44</th>\n",
       "      <td>51.734007</td>\n",
       "    </tr>\n",
       "    <tr>\n",
       "      <th>c55</th>\n",
       "      <td>61.211408</td>\n",
       "    </tr>\n",
       "    <tr>\n",
       "      <th>c66</th>\n",
       "      <td>40.346927</td>\n",
       "    </tr>\n",
       "  </tbody>\n",
       "</table>\n",
       "</div>"
      ],
      "text/plain": [
       "    GAP_it1_50s\n",
       "c11  167.440418\n",
       "c12   70.843958\n",
       "c13   40.789197\n",
       "c22  184.776555\n",
       "c23   60.981165\n",
       "c33  140.147565\n",
       "c44   51.734007\n",
       "c55   61.211408\n",
       "c66   40.346927"
      ]
     },
     "execution_count": 60,
     "metadata": {},
     "output_type": "execute_result"
    }
   ],
   "source": [
    "df = pd.DataFrame(data)\n",
    "df.drop('E_vs_V')"
   ]
  },
  {
   "cell_type": "markdown",
   "metadata": {
    "id": "HX2OmlmtwKFy"
   },
   "source": [
    "## Adding a new model\n",
    "\n",
    "Let's define a model for the screened Tersoff potential as implemented in `atomistica`. This is as simple as creating a `model.py` file in the `models/TersoffScr` directory."
   ]
  },
  {
   "cell_type": "code",
   "execution_count": 54,
   "metadata": {
    "id": "_JjmJBn4JVt6"
   },
   "outputs": [],
   "source": [
    "![[ ! -d ../models/TersoffScr ]] && mkdir ../models/TersoffScr\n",
    "\n",
    "with open(\"../models/TersoffScr/model.py\", \"w\") as f:\n",
    "    f.write(\"\"\"\n",
    "from atomistica import TersoffScr\n",
    "\n",
    "calculator = TersoffScr()\n",
    "name = 'TersoffScr'\n",
    "no_checkpoint = True\n",
    "\"\"\")"
   ]
  },
  {
   "cell_type": "markdown",
   "metadata": {},
   "source": [
    "## Rerunning a single test with the new model\n",
    "\n",
    "We can rerun an individual test with the `run-model-test.py` script: this takes the name of the model and of the test as arugments, and usually captures the output to a logfile. The `-l` option gives a label for the set of calculations; here we use `\"Si\"` to match with what was done for the GAP and DFT tests."
   ]
  },
  {
   "cell_type": "code",
   "execution_count": 111,
   "metadata": {
    "colab": {
     "base_uri": "https://localhost:8080/",
     "height": 521
    },
    "id": "h3mnmdaZKD3v",
    "outputId": "adb1ac29-c90f-488f-8219-f8c7a5c9f155",
    "scrolled": true
   },
   "outputs": [
    {
     "name": "stdout",
     "output_type": "stream",
     "text": [
      "share_dir /home/jovyan/scripts/../share\n"
     ]
    }
   ],
   "source": [
    " !python ../../../scripts/run-model-test.py -l Si TersoffScr bulk_Si_diamond"
   ]
  },
  {
   "cell_type": "markdown",
   "metadata": {},
   "source": [
    "If we try to run the test again, it notices the `.json` file is present and avoids rerunning - this time we add the `-N` option to turn off capturing of stdout so we can see it directly in the notebook:"
   ]
  },
  {
   "cell_type": "code",
   "execution_count": 112,
   "metadata": {
    "colab": {
     "base_uri": "https://localhost:8080/",
     "height": 521
    },
    "id": "h3mnmdaZKD3v",
    "outputId": "adb1ac29-c90f-488f-8219-f8c7a5c9f155",
    "scrolled": true
   },
   "outputs": [
    {
     "name": "stdout",
     "output_type": "stream",
     "text": [
      "share_dir /home/jovyan/scripts/../share\n",
      "../Si-model-TersoffScr-test-bulk_Si_diamond-properties.json already exists and is not empty, not rerunning test\n"
     ]
    }
   ],
   "source": [
    " !python ../../../scripts/run-model-test.py -N -l Si TersoffScr bulk_Si_diamond"
   ]
  },
  {
   "cell_type": "markdown",
   "metadata": {},
   "source": [
    "## Repeating the postprocessing analysis\n",
    "\n",
    "Now we can go back and add the `TersoffScr` results to our energy-volume plot and data table:"
   ]
  },
  {
   "cell_type": "code",
   "execution_count": 129,
   "metadata": {
    "id": "PEl4Q4zkKL56"
   },
   "outputs": [
    {
     "data": {
      "text/html": [
       "<div>\n",
       "<style scoped>\n",
       "    .dataframe tbody tr th:only-of-type {\n",
       "        vertical-align: middle;\n",
       "    }\n",
       "\n",
       "    .dataframe tbody tr th {\n",
       "        vertical-align: top;\n",
       "    }\n",
       "\n",
       "    .dataframe thead th {\n",
       "        text-align: right;\n",
       "    }\n",
       "</style>\n",
       "<table border=\"1\" class=\"dataframe\">\n",
       "  <thead>\n",
       "    <tr style=\"text-align: right;\">\n",
       "      <th></th>\n",
       "      <th>CASTEP_ASE</th>\n",
       "      <th>GAP</th>\n",
       "      <th>TersoffScr</th>\n",
       "    </tr>\n",
       "  </thead>\n",
       "  <tbody>\n",
       "    <tr>\n",
       "      <th>B</th>\n",
       "      <td>88.596697</td>\n",
       "      <td>88.810217</td>\n",
       "      <td>96.897975</td>\n",
       "    </tr>\n",
       "    <tr>\n",
       "      <th>c12</th>\n",
       "      <td>56.25009</td>\n",
       "      <td>57.523404</td>\n",
       "      <td>74.571981</td>\n",
       "    </tr>\n",
       "    <tr>\n",
       "      <th>c11</th>\n",
       "      <td>153.28991</td>\n",
       "      <td>151.383845</td>\n",
       "      <td>141.549961</td>\n",
       "    </tr>\n",
       "    <tr>\n",
       "      <th>c44</th>\n",
       "      <td>72.17693</td>\n",
       "      <td>67.863739</td>\n",
       "      <td>68.82712</td>\n",
       "    </tr>\n",
       "    <tr>\n",
       "      <th>a0</th>\n",
       "      <td>5.461022</td>\n",
       "      <td>5.460805</td>\n",
       "      <td>NaN</td>\n",
       "    </tr>\n",
       "  </tbody>\n",
       "</table>\n",
       "</div>"
      ],
      "text/plain": [
       "    CASTEP_ASE         GAP  TersoffScr\n",
       "B    88.596697   88.810217   96.897975\n",
       "c12   56.25009   57.523404   74.571981\n",
       "c11  153.28991  151.383845  141.549961\n",
       "c44   72.17693   67.863739    68.82712\n",
       "a0    5.461022    5.460805         NaN"
      ]
     },
     "metadata": {},
     "output_type": "display_data"
    },
    {
     "data": {
      "image/png": "[encoded data removed]",
      "text/plain": [
       "<Figure size 864x576 with 1 Axes>"
      ]
     },
     "metadata": {
      "needs_background": "light"
     },
     "output_type": "display_data"
    }
   ],
   "source": [
    "data = read_data(['CASTEP_ASE', 'GAP', 'TersoffScr'])\n",
    "plot_e_vs_v(data, ref_model_name)\n",
    "\n",
    "display(pd.DataFrame(data).drop('E_vs_V'))"
   ]
  },
  {
   "cell_type": "markdown",
   "metadata": {},
   "source": [
    "The `NaN` for **a0** indicates missing data, not a failure with the test: the `bulk_Si_diamond` test no longer stores the lattice constant, but instead saves the full relaxed cell, which we can read in and visualise:"
   ]
  },
  {
   "cell_type": "code",
   "execution_count": 128,
   "metadata": {
    "scrolled": true
   },
   "outputs": [
    {
     "data": {
      "application/vnd.jupyter.widget-view+json": {
       "model_id": "43abf9e7d9b14a94960834f7154ebd09",
       "version_major": 2,
       "version_minor": 0
      },
      "text/plain": [
       "NGLWidget()"
      ]
     },
     "metadata": {},
     "output_type": "display_data"
    }
   ],
   "source": [
    "atoms = read('Si-model-TersoffScr-test-bulk_Si_diamond-relaxed.xyz')\n",
    "v = nglview.show_ase(atoms * 3, cell=True)\n",
    "v.add_unitcell()\n",
    "v"
   ]
  },
  {
   "cell_type": "markdown",
   "metadata": {},
   "source": [
    "We can update our data table accordingly:"
   ]
  },
  {
   "cell_type": "code",
   "execution_count": 136,
   "metadata": {},
   "outputs": [
    {
     "data": {
      "text/html": [
       "<div>\n",
       "<style scoped>\n",
       "    .dataframe tbody tr th:only-of-type {\n",
       "        vertical-align: middle;\n",
       "    }\n",
       "\n",
       "    .dataframe tbody tr th {\n",
       "        vertical-align: top;\n",
       "    }\n",
       "\n",
       "    .dataframe thead th {\n",
       "        text-align: right;\n",
       "    }\n",
       "</style>\n",
       "<table border=\"1\" class=\"dataframe\">\n",
       "  <thead>\n",
       "    <tr style=\"text-align: right;\">\n",
       "      <th></th>\n",
       "      <th>CASTEP_ASE</th>\n",
       "      <th>GAP</th>\n",
       "      <th>TersoffScr</th>\n",
       "    </tr>\n",
       "  </thead>\n",
       "  <tbody>\n",
       "    <tr>\n",
       "      <th>B</th>\n",
       "      <td>88.596697</td>\n",
       "      <td>88.810217</td>\n",
       "      <td>96.897975</td>\n",
       "    </tr>\n",
       "    <tr>\n",
       "      <th>c12</th>\n",
       "      <td>56.25009</td>\n",
       "      <td>57.523404</td>\n",
       "      <td>74.571981</td>\n",
       "    </tr>\n",
       "    <tr>\n",
       "      <th>c11</th>\n",
       "      <td>153.28991</td>\n",
       "      <td>151.383845</td>\n",
       "      <td>141.549961</td>\n",
       "    </tr>\n",
       "    <tr>\n",
       "      <th>c44</th>\n",
       "      <td>72.17693</td>\n",
       "      <td>67.863739</td>\n",
       "      <td>68.82712</td>\n",
       "    </tr>\n",
       "    <tr>\n",
       "      <th>a0</th>\n",
       "      <td>5.461022</td>\n",
       "      <td>5.460805</td>\n",
       "      <td>5.436147</td>\n",
       "    </tr>\n",
       "  </tbody>\n",
       "</table>\n",
       "</div>"
      ],
      "text/plain": [
       "    CASTEP_ASE         GAP  TersoffScr\n",
       "B    88.596697   88.810217   96.897975\n",
       "c12   56.25009   57.523404   74.571981\n",
       "c11  153.28991  151.383845  141.549961\n",
       "c44   72.17693   67.863739    68.82712\n",
       "a0    5.461022    5.460805    5.436147"
      ]
     },
     "metadata": {},
     "output_type": "display_data"
    }
   ],
   "source": [
    "data['TersoffScr']['a0'] = atoms.cell[0, 0] * 2.0\n",
    "display(pd.DataFrame(data).drop('E_vs_V'))"
   ]
  },
  {
   "cell_type": "markdown",
   "metadata": {},
   "source": [
    "## Running all model/test pairs\n",
    "\n",
    "To fill in results for missing model/test pairs, we could use the `run-all.py` script. By default this would run all pairs, but here we restrict to our new model to fill in the remainder of the tests with the `TersoffScr` potential.\n",
    "\n",
    "This takes a few minutes to complete."
   ]
  },
  {
   "cell_type": "code",
   "execution_count": 59,
   "metadata": {},
   "outputs": [
    {
     "name": "stdout",
     "output_type": "stream",
     "text": [
      "Models asked for:  ['TersoffScr']\n",
      "Models path:  /home/jovyan/example_models/Si/run_dir/../models\n",
      "Models found:  ['/home/jovyan/example_models/Si/run_dir/../models/TersoffScr/model.py']\n",
      "Models: ['/home/jovyan/example_models/Si/run_dir/../models/TersoffScr']\n",
      "Tests: [('/home/jovyan/scripts/../tests/Si/qha_diamond', 'Si'), ('/home/jovyan/scripts/../tests/Si/bulk_Si_simple_hexagonal', 'Si'), ('/home/jovyan/scripts/../tests/Si/surface-decohesion-111-unrelaxed', 'Si'), ('/home/jovyan/scripts/../tests/Si/bulk_Si_bc8', 'Si'), ('/home/jovyan/scripts/../tests/Si/bulk_Si_hcp', 'Si'), ('/home/jovyan/scripts/../tests/Si/surface-decohesion-110-unrelaxed', 'Si'), ('/home/jovyan/scripts/../tests/Si/phonon_bulks', 'Si'), ('/home/jovyan/scripts/../tests/Si/bulk_Si_fcc', 'Si'), ('/home/jovyan/scripts/../tests/Si/bulk_Si_hexagonal_diamond', 'Si'), ('/home/jovyan/scripts/../tests/Si/surface-decohesion-100-unrelaxed', 'Si'), ('/home/jovyan/scripts/../tests/Si/bulk_Si_hcp_sf', 'Si'), ('/home/jovyan/scripts/../tests/Si/point_defect_Si_diamond_vacancy', 'Si'), ('/home/jovyan/scripts/../tests/Si/RSS', 'Si'), ('/home/jovyan/scripts/../tests/Si/surface-energy-110-relaxed', 'Si'), ('/home/jovyan/scripts/../tests/Si/surface_Si_diamond_110', 'Si'), ('/home/jovyan/scripts/../tests/Si/point_defect_Si_diamond_interstitial_tetr', 'Si'), ('/home/jovyan/scripts/../tests/Si/point_defect_Si_diamond_interstitial_dumb', 'Si'), ('/home/jovyan/scripts/../tests/Si/bulk_Si_diamond', 'Si'), ('/home/jovyan/scripts/../tests/Si/surface_Si_diamond_100', 'Si'), ('/home/jovyan/scripts/../tests/Si/surface_Si_diamond_111', 'Si'), ('/home/jovyan/scripts/../tests/Si/bulk_Si_beta-Sn', 'Si'), ('/home/jovyan/scripts/../tests/Si/bulk_Si_st12', 'Si'), ('/home/jovyan/scripts/../tests/Si/bulk_Si_bcc', 'Si'), ('/home/jovyan/scripts/../tests/Si/gap_6_rss_like_open_ended_minima_rerelax_sd2', 'Si'), ('/home/jovyan/scripts/../tests/Si/point_defect_Si_diamond_interstitial_hex', 'Si')]\n",
      "['python', '/home/jovyan/scripts/run-model-test.py', '/home/jovyan/example_models/Si/run_dir/../models/TersoffScr', '/home/jovyan/scripts/../tests/Si/qha_diamond', '--system_label', 'Si']\n",
      "share_dir /home/jovyan/scripts/../share\n",
      "['python', '/home/jovyan/scripts/run-model-test.py', '/home/jovyan/example_models/Si/run_dir/../models/TersoffScr', '/home/jovyan/scripts/../tests/Si/bulk_Si_simple_hexagonal', '--system_label', 'Si']\n",
      "share_dir /home/jovyan/scripts/../share\n",
      "['python', '/home/jovyan/scripts/run-model-test.py', '/home/jovyan/example_models/Si/run_dir/../models/TersoffScr', '/home/jovyan/scripts/../tests/Si/surface-decohesion-111-unrelaxed', '--system_label', 'Si']\n",
      "share_dir /home/jovyan/scripts/../share\n",
      "['python', '/home/jovyan/scripts/run-model-test.py', '/home/jovyan/example_models/Si/run_dir/../models/TersoffScr', '/home/jovyan/scripts/../tests/Si/bulk_Si_bc8', '--system_label', 'Si']\n",
      "share_dir /home/jovyan/scripts/../share\n",
      "['python', '/home/jovyan/scripts/run-model-test.py', '/home/jovyan/example_models/Si/run_dir/../models/TersoffScr', '/home/jovyan/scripts/../tests/Si/bulk_Si_hcp', '--system_label', 'Si']\n",
      "share_dir /home/jovyan/scripts/../share\n",
      "['python', '/home/jovyan/scripts/run-model-test.py', '/home/jovyan/example_models/Si/run_dir/../models/TersoffScr', '/home/jovyan/scripts/../tests/Si/surface-decohesion-110-unrelaxed', '--system_label', 'Si']\n",
      "share_dir /home/jovyan/scripts/../share\n",
      "['python', '/home/jovyan/scripts/run-model-test.py', '/home/jovyan/example_models/Si/run_dir/../models/TersoffScr', '/home/jovyan/scripts/../tests/Si/phonon_bulks', '--system_label', 'Si']\n",
      "share_dir /home/jovyan/scripts/../share\n",
      "['python', '/home/jovyan/scripts/run-model-test.py', '/home/jovyan/example_models/Si/run_dir/../models/TersoffScr', '/home/jovyan/scripts/../tests/Si/bulk_Si_fcc', '--system_label', 'Si']\n",
      "share_dir /home/jovyan/scripts/../share\n",
      "['python', '/home/jovyan/scripts/run-model-test.py', '/home/jovyan/example_models/Si/run_dir/../models/TersoffScr', '/home/jovyan/scripts/../tests/Si/bulk_Si_hexagonal_diamond', '--system_label', 'Si']\n",
      "share_dir /home/jovyan/scripts/../share\n",
      "['python', '/home/jovyan/scripts/run-model-test.py', '/home/jovyan/example_models/Si/run_dir/../models/TersoffScr', '/home/jovyan/scripts/../tests/Si/surface-decohesion-100-unrelaxed', '--system_label', 'Si']\n",
      "share_dir /home/jovyan/scripts/../share\n",
      "['python', '/home/jovyan/scripts/run-model-test.py', '/home/jovyan/example_models/Si/run_dir/../models/TersoffScr', '/home/jovyan/scripts/../tests/Si/bulk_Si_hcp_sf', '--system_label', 'Si']\n",
      "share_dir /home/jovyan/scripts/../share\n",
      "['python', '/home/jovyan/scripts/run-model-test.py', '/home/jovyan/example_models/Si/run_dir/../models/TersoffScr', '/home/jovyan/scripts/../tests/Si/point_defect_Si_diamond_vacancy', '--system_label', 'Si']\n",
      "share_dir /home/jovyan/scripts/../share\n",
      "['python', '/home/jovyan/scripts/run-model-test.py', '/home/jovyan/example_models/Si/run_dir/../models/TersoffScr', '/home/jovyan/scripts/../tests/Si/RSS', '--system_label', 'Si']\n",
      "share_dir /home/jovyan/scripts/../share\n",
      "['python', '/home/jovyan/scripts/run-model-test.py', '/home/jovyan/example_models/Si/run_dir/../models/TersoffScr', '/home/jovyan/scripts/../tests/Si/surface-energy-110-relaxed', '--system_label', 'Si']\n",
      "share_dir /home/jovyan/scripts/../share\n",
      "['python', '/home/jovyan/scripts/run-model-test.py', '/home/jovyan/example_models/Si/run_dir/../models/TersoffScr', '/home/jovyan/scripts/../tests/Si/surface_Si_diamond_110', '--system_label', 'Si']\n",
      "share_dir /home/jovyan/scripts/../share\n",
      "['python', '/home/jovyan/scripts/run-model-test.py', '/home/jovyan/example_models/Si/run_dir/../models/TersoffScr', '/home/jovyan/scripts/../tests/Si/point_defect_Si_diamond_interstitial_tetr', '--system_label', 'Si']\n",
      "share_dir /home/jovyan/scripts/../share\n",
      "['python', '/home/jovyan/scripts/run-model-test.py', '/home/jovyan/example_models/Si/run_dir/../models/TersoffScr', '/home/jovyan/scripts/../tests/Si/point_defect_Si_diamond_interstitial_dumb', '--system_label', 'Si']\n",
      "share_dir /home/jovyan/scripts/../share\n",
      "['python', '/home/jovyan/scripts/run-model-test.py', '/home/jovyan/example_models/Si/run_dir/../models/TersoffScr', '/home/jovyan/scripts/../tests/Si/bulk_Si_diamond', '--system_label', 'Si']\n",
      "share_dir /home/jovyan/scripts/../share\n",
      "../Si-model-TersoffScr-test-bulk_Si_diamond-properties.json already exists and is not empty, not rerunning test\n",
      "['python', '/home/jovyan/scripts/run-model-test.py', '/home/jovyan/example_models/Si/run_dir/../models/TersoffScr', '/home/jovyan/scripts/../tests/Si/surface_Si_diamond_100', '--system_label', 'Si']\n",
      "share_dir /home/jovyan/scripts/../share\n",
      "['python', '/home/jovyan/scripts/run-model-test.py', '/home/jovyan/example_models/Si/run_dir/../models/TersoffScr', '/home/jovyan/scripts/../tests/Si/surface_Si_diamond_111', '--system_label', 'Si']\n",
      "share_dir /home/jovyan/scripts/../share\n",
      "['python', '/home/jovyan/scripts/run-model-test.py', '/home/jovyan/example_models/Si/run_dir/../models/TersoffScr', '/home/jovyan/scripts/../tests/Si/bulk_Si_beta-Sn', '--system_label', 'Si']\n",
      "share_dir /home/jovyan/scripts/../share\n",
      "['python', '/home/jovyan/scripts/run-model-test.py', '/home/jovyan/example_models/Si/run_dir/../models/TersoffScr', '/home/jovyan/scripts/../tests/Si/bulk_Si_st12', '--system_label', 'Si']\n",
      "share_dir /home/jovyan/scripts/../share\n",
      "['python', '/home/jovyan/scripts/run-model-test.py', '/home/jovyan/example_models/Si/run_dir/../models/TersoffScr', '/home/jovyan/scripts/../tests/Si/bulk_Si_bcc', '--system_label', 'Si']\n",
      "share_dir /home/jovyan/scripts/../share\n",
      "['python', '/home/jovyan/scripts/run-model-test.py', '/home/jovyan/example_models/Si/run_dir/../models/TersoffScr', '/home/jovyan/scripts/../tests/Si/gap_6_rss_like_open_ended_minima_rerelax_sd2', '--system_label', 'Si']\n",
      "share_dir /home/jovyan/scripts/../share\n",
      "['python', '/home/jovyan/scripts/run-model-test.py', '/home/jovyan/example_models/Si/run_dir/../models/TersoffScr', '/home/jovyan/scripts/../tests/Si/point_defect_Si_diamond_interstitial_hex', '--system_label', 'Si']\n",
      "share_dir /home/jovyan/scripts/../share\n"
     ]
    }
   ],
   "source": [
    " !python ../../../scripts/run-all.py -s Si --models TersoffScr"
   ]
  }
 ],
 "metadata": {
  "colab": {
   "collapsed_sections": [],
   "name": "Potential Testing Framework Demo.ipynb",
   "provenance": []
  },
  "kernelspec": {
   "display_name": "Python 3",
   "language": "python",
   "name": "python3"
  },
  "language_info": {
   "codemirror_mode": {
    "name": "ipython",
    "version": 3
   },
   "file_extension": ".py",
   "mimetype": "text/x-python",
   "name": "python",
   "nbconvert_exporter": "python",
   "pygments_lexer": "ipython3",
   "version": "3.8.5"
  }
 },
 "nbformat": 4,
 "nbformat_minor": 4
}
