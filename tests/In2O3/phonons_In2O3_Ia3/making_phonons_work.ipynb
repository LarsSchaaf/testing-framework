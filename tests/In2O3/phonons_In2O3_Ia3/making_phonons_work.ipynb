{
 "cells": [
  {
   "cell_type": "markdown",
   "id": "superb-harris",
   "metadata": {},
   "source": [
    "# Checking Volume"
   ]
  },
  {
   "cell_type": "code",
   "execution_count": 1,
   "id": "understanding-nerve",
   "metadata": {},
   "outputs": [],
   "source": [
    "import ase \n",
    "import ase.io\n",
    "import numpy as np"
   ]
  },
  {
   "cell_type": "code",
   "execution_count": 2,
   "id": "magnetic-truck",
   "metadata": {},
   "outputs": [],
   "source": [
    "org_struct = ase.io.read('/home/lls34/GitHub/01_PhD/PhD_Code/submodules/testing-framework/testing-framework/tests/In2O3/bulk_In2O3_Ia3_relaxed/bulk.xyz')\n",
    "qe_rel = ase.io.read('/home/lls34/GitHub/01_PhD/PhD_Code/submodules/testing-framework/testing-framework/example_models/In2O3/run_dir/In2O3-model-DFT_QE-test-bulk_In2O3_Ia3-relaxed.xyz')\n",
    "gap_rel = ase.io.read('/home/lls34/GitHub/01_PhD/PhD_Code/submodules/testing-framework/testing-framework/example_models/In2O3/run_dir/In2O3-model-GAP_it1_50s-test-bulk_In2O3_Ia3-relaxed.xyz')"
   ]
  },
  {
   "cell_type": "code",
   "execution_count": 4,
   "id": "authorized-ireland",
   "metadata": {},
   "outputs": [
    {
     "data": {
      "text/plain": [
       "(520.9100516266718, 542.7985622573473, 546.1676224745663)"
      ]
     },
     "execution_count": 4,
     "metadata": {},
     "output_type": "execute_result"
    }
   ],
   "source": [
    "org_struct.get_volume(), qe_rel.get_volume(), gap_rel.get_volume()"
   ]
  },
  {
   "cell_type": "code",
   "execution_count": null,
   "id": "collaborative-oakland",
   "metadata": {},
   "outputs": [],
   "source": []
  }
 ],
 "metadata": {
  "kernelspec": {
   "display_name": "Python 3",
   "language": "python",
   "name": "python3"
  },
  "language_info": {
   "codemirror_mode": {
    "name": "ipython",
    "version": 3
   },
   "file_extension": ".py",
   "mimetype": "text/x-python",
   "name": "python",
   "nbconvert_exporter": "python",
   "pygments_lexer": "ipython3",
   "version": "3.8.5"
  }
 },
 "nbformat": 4,
 "nbformat_minor": 5
}
