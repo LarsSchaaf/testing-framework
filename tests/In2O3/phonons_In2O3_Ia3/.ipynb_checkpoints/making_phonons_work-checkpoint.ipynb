{
 "cells": [
  {
   "cell_type": "markdown",
   "id": "other-remainder",
   "metadata": {},
   "source": [
    "# Checking Volume"
   ]
  },
  {
   "cell_type": "code",
   "execution_count": 9,
   "id": "tough-vegetable",
   "metadata": {},
   "outputs": [],
   "source": [
    "import ase \n",
    "import ase.io\n",
    "import numpy as np\n",
    "import pandas as pd"
   ]
  },
  {
   "cell_type": "code",
   "execution_count": 7,
   "id": "bored-lithuania",
   "metadata": {},
   "outputs": [],
   "source": [
    "org_struct = ase.io.read('/home/lls34/GitHub/01_PhD/PhD_Code/submodules/testing-framework/testing-framework/tests/In2O3/bulk_In2O3_Ia3_relaxed/bulk.xyz')\n",
    "qe_rel = ase.io.read('/home/lls34/GitHub/01_PhD/PhD_Code/submodules/testing-framework/testing-framework/example_models/In2O3/run_dir/In2O3-model-DFT_QE-test-bulk_In2O3_Ia3-relaxed.xyz')\n",
    "gap_rel = ase.io.read('/home/lls34/GitHub/01_PhD/PhD_Code/submodules/testing-framework/testing-framework/example_models/In2O3/run_dir/In2O3-model-GAP_it1_50s-test-bulk_In2O3_Ia3-relaxed.xyz')"
   ]
  },
  {
   "cell_type": "code",
   "execution_count": 12,
   "id": "better-dispute",
   "metadata": {},
   "outputs": [
    {
     "data": {
      "text/html": [
       "<div>\n",
       "<style scoped>\n",
       "    .dataframe tbody tr th:only-of-type {\n",
       "        vertical-align: middle;\n",
       "    }\n",
       "\n",
       "    .dataframe tbody tr th {\n",
       "        vertical-align: top;\n",
       "    }\n",
       "\n",
       "    .dataframe thead th {\n",
       "        text-align: right;\n",
       "    }\n",
       "</style>\n",
       "<table border=\"1\" class=\"dataframe\">\n",
       "  <thead>\n",
       "    <tr style=\"text-align: right;\">\n",
       "      <th></th>\n",
       "      <th>method</th>\n",
       "      <th>Volume/atom</th>\n",
       "    </tr>\n",
       "  </thead>\n",
       "  <tbody>\n",
       "    <tr>\n",
       "      <th>0</th>\n",
       "      <td>Material Porject</td>\n",
       "      <td>13.022751</td>\n",
       "    </tr>\n",
       "    <tr>\n",
       "      <th>1</th>\n",
       "      <td>QE relaxed</td>\n",
       "      <td>13.569964</td>\n",
       "    </tr>\n",
       "    <tr>\n",
       "      <th>2</th>\n",
       "      <td>GAP relaxed</td>\n",
       "      <td>13.654191</td>\n",
       "    </tr>\n",
       "  </tbody>\n",
       "</table>\n",
       "</div>"
      ],
      "text/plain": [
       "             method  Volume/atom\n",
       "0  Material Porject    13.022751\n",
       "1        QE relaxed    13.569964\n",
       "2       GAP relaxed    13.654191"
      ]
     },
     "execution_count": 12,
     "metadata": {},
     "output_type": "execute_result"
    }
   ],
   "source": [
    "pd.DataFrame({\n",
    "    'method':['Material Porject', 'QE relaxed', 'GAP relaxed'],  \n",
    "    'Volume/atom': np.array([org_struct.get_volume(), qe_rel.get_volume(), gap_rel.get_volume()])/gap_rel.get_global_number_of_atoms()\n",
    "})"
   ]
  },
  {
   "cell_type": "markdown",
   "id": "educational-macintosh",
   "metadata": {},
   "source": [
    "# How to relax cell aswells!!"
   ]
  },
  {
   "cell_type": "markdown",
   "id": "incredible-rocket",
   "metadata": {},
   "source": [
    "The unit cell isminimised in the ase-espresso framework using the `relax_config` funciton in `utilities.py`\n",
    "\n",
    "```python\n",
    "if relax_cell:\n",
    "    atoms_cell = ExpCellFilter(\n",
    "        atoms,\n",
    "        mask=strain_mask,\n",
    "        constant_volume=constant_volume,\n",
    "        scalar_pressure=applied_P * GPa,\n",
    "        hydrostatic_strain=hydrostatic_strain,\n",
    "    )\n",
    "```\n",
    "\n",
    "In the ase documentaiton it is recommended to use: `ase.constraints.StrainFilter(atoms, mask=None, include_ideal_gas=False)`\n",
    "\n",
    "The strain filter is for optimizing the unit cell while keeping scaled positions fixed. An example of which is here https://wiki.fysik.dtu.dk/ase/tutorials/lattice_constant.html\n",
    "\n"
   ]
  },
  {
   "cell_type": "code",
   "execution_count": 14,
   "id": "english-graduation",
   "metadata": {},
   "outputs": [
    {
     "data": {
      "text/plain": [
       "0.08422650543047716"
      ]
     },
     "execution_count": 14,
     "metadata": {},
     "output_type": "execute_result"
    }
   ],
   "source": [
    "a= np.array([org_struct.get_volume(), qe_rel.get_volume(), gap_rel.get_volume()])/gap_rel.get_global_number_of_atoms()\n",
    "a[2]-a[1]"
   ]
  },
  {
   "cell_type": "code",
   "execution_count": 15,
   "id": "russian-pepper",
   "metadata": {},
   "outputs": [
    {
     "data": {
      "text/plain": [
       "40"
      ]
     },
     "execution_count": 15,
     "metadata": {},
     "output_type": "execute_result"
    }
   ],
   "source": [
    "gap_rel.get_global_number_of_atoms()"
   ]
  },
  {
   "cell_type": "markdown",
   "id": "cultural-virginia",
   "metadata": {},
   "source": [
    "# Creating Training set "
   ]
  },
  {
   "cell_type": "code",
   "execution_count": 30,
   "id": "naughty-proposition",
   "metadata": {},
   "outputs": [],
   "source": [
    "import uuid"
   ]
  },
  {
   "cell_type": "code",
   "execution_count": 60,
   "id": "chicken-kennedy",
   "metadata": {},
   "outputs": [
    {
     "name": "stdout",
     "output_type": "stream",
     "text": [
      "/data/lls34/Data/In2O3/In2O3_LS_1/04_QE2/02_Ameliorate_GAP/02_Itterative/03_Bulk/Volume_Curves/It2/Training/Data_b_GAP/QE_In2O3-model-GAP_itB_1_b-test-bulk_In2O3_Ia3-E_vs_V_-08-relaxed_0.xyz\n",
      "/data/lls34/Data/In2O3/In2O3_LS_1/04_QE2/02_Ameliorate_GAP/02_Itterative/03_Bulk/Volume_Curves/It2/Training/Data_b_GAP/QE_In2O3-model-GAP_itB_1_b-test-bulk_In2O3_Ia3-E_vs_V_-02-relaxed_0.xyz\n",
      "/data/lls34/Data/In2O3/In2O3_LS_1/04_QE2/02_Ameliorate_GAP/02_Itterative/03_Bulk/Volume_Curves/It2/Training/Data_b_GAP/QE_In2O3-model-GAP_itB_1_b-test-bulk_In2O3_Ia3-E_vs_V_-10-relaxed_0.xyz\n",
      "/data/lls34/Data/In2O3/In2O3_LS_1/04_QE2/02_Ameliorate_GAP/02_Itterative/03_Bulk/Volume_Curves/It2/Training/Data_b_GAP/QE_In2O3-model-GAP_itB_1_b-test-bulk_In2O3_Ia3-E_vs_V_-04-relaxed_0.xyz\n",
      "/data/lls34/Data/In2O3/In2O3_LS_1/04_QE2/02_Ameliorate_GAP/02_Itterative/03_Bulk/Volume_Curves/It2/Training/Data_b_GAP/QE_In2O3-model-GAP_itB_1_b-test-bulk_In2O3_Ia3-E_vs_V_-06-relaxed_0.xyz\n",
      "To: /data/lls34/Data/In2O3/In2O3_LS_1/04_QE2/02_Ameliorate_GAP/02_Itterative/03_Bulk/Volume_Curves/It2/Training/Data_b_GAP_train.xyz\n",
      "/data/lls34/Data/In2O3/In2O3_LS_1/04_QE2/02_Ameliorate_GAP/02_Itterative/03_Bulk/Volume_Curves/It1_2/Train/Data_b_GAP/QE_In2O3-model-GAP_it1_50s-test-bulk_In2O3_Ia3-E_vs_V_04-relaxed_0.xyz\n",
      "/data/lls34/Data/In2O3/In2O3_LS_1/04_QE2/02_Ameliorate_GAP/02_Itterative/03_Bulk/Volume_Curves/It1_2/Train/Data_b_GAP/QE_In2O3-model-GAP_it1_50s-test-bulk_In2O3_Ia3-E_vs_V_10-relaxed_0.xyz\n",
      "/data/lls34/Data/In2O3/In2O3_LS_1/04_QE2/02_Ameliorate_GAP/02_Itterative/03_Bulk/Volume_Curves/It1_2/Train/Data_b_GAP/QE_In2O3-model-GAP_it1_50s-test-bulk_In2O3_Ia3-E_vs_V_-08-relaxed_0.xyz\n",
      "/data/lls34/Data/In2O3/In2O3_LS_1/04_QE2/02_Ameliorate_GAP/02_Itterative/03_Bulk/Volume_Curves/It1_2/Train/Data_b_GAP/QE_In2O3-model-GAP_it1_50s-test-bulk_In2O3_Ia3-E_vs_V_-02-relaxed_0.xyz\n",
      "/data/lls34/Data/In2O3/In2O3_LS_1/04_QE2/02_Ameliorate_GAP/02_Itterative/03_Bulk/Volume_Curves/It1_2/Train/Data_b_GAP/QE_In2O3-model-GAP_it1_50s-test-bulk_In2O3_Ia3-E_vs_V_06-relaxed_0.xyz\n",
      "/data/lls34/Data/In2O3/In2O3_LS_1/04_QE2/02_Ameliorate_GAP/02_Itterative/03_Bulk/Volume_Curves/It1_2/Train/Data_b_GAP/QE_In2O3-model-GAP_it1_50s-test-bulk_In2O3_Ia3-E_vs_V_02-relaxed_0.xyz\n",
      "/data/lls34/Data/In2O3/In2O3_LS_1/04_QE2/02_Ameliorate_GAP/02_Itterative/03_Bulk/Volume_Curves/It1_2/Train/Data_b_GAP/QE_In2O3-model-GAP_it1_50s-test-bulk_In2O3_Ia3-E_vs_V_-10-relaxed_0.xyz\n",
      "/data/lls34/Data/In2O3/In2O3_LS_1/04_QE2/02_Ameliorate_GAP/02_Itterative/03_Bulk/Volume_Curves/It1_2/Train/Data_b_GAP/QE_In2O3-model-GAP_it1_50s-test-bulk_In2O3_Ia3-E_vs_V_-04-relaxed_0.xyz\n",
      "/data/lls34/Data/In2O3/In2O3_LS_1/04_QE2/02_Ameliorate_GAP/02_Itterative/03_Bulk/Volume_Curves/It1_2/Train/Data_b_GAP/QE_In2O3-model-GAP_it1_50s-test-bulk_In2O3_Ia3-E_vs_V_08-relaxed_0.xyz\n",
      "/data/lls34/Data/In2O3/In2O3_LS_1/04_QE2/02_Ameliorate_GAP/02_Itterative/03_Bulk/Volume_Curves/It1_2/Train/Data_b_GAP/QE_In2O3-model-GAP_it1_50s-test-bulk_In2O3_Ia3-E_vs_V_-06-relaxed_0.xyz\n",
      "To: /data/lls34/Data/In2O3/In2O3_LS_1/04_QE2/02_Ameliorate_GAP/02_Itterative/03_Bulk/Volume_Curves/It1_2/Train/Data_b_GAP_train.xyz\n"
     ]
    }
   ],
   "source": [
    "import os\n",
    "dirs = [\n",
    "#     '/data/lls34/Data/In2O3/In2O3_LS_1/04_QE2/02_Ameliorate_GAP/02_Itterative/03_Bulk/Volume_Curves/It2/Training/Data_b_GAP',\n",
    "#     '/data/lls34/Data/In2O3/In2O3_LS_1/04_QE2/02_Ameliorate_GAP/02_Itterative/03_Bulk/Volume_Curves/It1_2/Train/Data_b_GAP',\n",
    "#     \"/data/lls34/Data/In2O3/In2O3_LS_1/04_QE2/02_Ameliorate_GAP/02_Itterative/03_Bulk/Volume_Curves/It1_2/Train/Data_a_unrelaxed\",\n",
    "#     \"/data/lls34/Data/In2O3/In2O3_LS_1/04_QE2/02_Ameliorate_GAP/02_Itterative/03_Bulk/Volume_Curves/It1_2/Train/Data_b_GAP\",\n",
    "#     \"/data/lls34/Data/In2O3/In2O3_LS_1/04_QE2/02_Ameliorate_GAP/02_Itterative/03_Bulk/Volume_Curves/It1_2/Train/Data_c_DFT\",\n",
    "]\n",
    "for direct in  dirs:\n",
    "    atoms=[]\n",
    "    for file in os.listdir(direct):\n",
    "        if file.endswith(\".xyz\"):\n",
    "            print(os.path.join(direct, file))\n",
    "            ats = ase.io.read(os.path.join(direct, file))\n",
    "            ats.info['type'] = 'bulk'\n",
    "            ats.info['origin'] = 'itB_1'\n",
    "            ats.info['uid'] = uuid.uuid4().hex\n",
    "            atoms.append(ats)\n",
    "\n",
    "    #print(direct+'.xyz')\n",
    "    #ase.io.write(direct+'.xyz', atoms)\n",
    "    \n",
    "    print('To:', direct+'_train.xyz')\n",
    "    atoms = [*ase.io.read('/data/lls34/Data/In2O3/In2O3_LS_1/04_QE2/02_Ameliorate_GAP/02_Itterative/01_HighT_MD/MD_itteration_1/Train/join1_highTmd_itt_1.xyz',':'), *atoms]\n",
    "    ase.io.write(direct+'_train.xyz', atoms)"
   ]
  },
  {
   "cell_type": "markdown",
   "id": "separated-regular",
   "metadata": {},
   "source": [
    "import os\n",
    "for file in os.listdir(\"/mydir\"):\n",
    "    if file.endswith(\".txt\"):\n",
    "        print(os.path.join(\"/mydir\", file))"
   ]
  },
  {
   "cell_type": "code",
   "execution_count": 25,
   "id": "balanced-colombia",
   "metadata": {},
   "outputs": [
    {
     "data": {
      "text/plain": [
       "'/data/lls34/Data/In2O3/In2O3_LS_1/04_QE2/02_Ameliorate_GAP/02_Itterative/03_Bulk/Volume_Curves/It1'"
      ]
     },
     "execution_count": 25,
     "metadata": {},
     "output_type": "execute_result"
    }
   ],
   "source": [
    "os.path.split(direct)[0]"
   ]
  },
  {
   "cell_type": "markdown",
   "id": "spanish-pricing",
   "metadata": {},
   "source": [
    "# Creating Dataframe for storing"
   ]
  },
  {
   "cell_type": "code",
   "execution_count": 70,
   "id": "suburban-rendering",
   "metadata": {},
   "outputs": [],
   "source": [
    "import hashlib"
   ]
  },
  {
   "cell_type": "code",
   "execution_count": 71,
   "id": "freelance-essex",
   "metadata": {},
   "outputs": [],
   "source": [
    "at = ase.io.read('/data/lls34/Data/In2O3/In2O3_LS_1/04_QE2/02_Ameliorate_GAP/02_Itterative/03_Bulk/Volume_Curves/It2/Training/Data_b_GAP/QE_In2O3-model-GAP_itB_1_b-test-bulk_In2O3_Ia3-E_vs_V_-08-relaxed_0.xyz')"
   ]
  },
  {
   "cell_type": "code",
   "execution_count": 99,
   "id": "exposed-canberra",
   "metadata": {},
   "outputs": [],
   "source": [
    "\n",
    "\n",
    "def hash_array(v):\n",
    "    \n",
    "    # Firstly convert array to string\n",
    "    v_str = np.array2string(v, precision=8, sign='+', floatmode='fixed').encode()\n",
    "    \n",
    "    # Convert string to hash\n",
    "    # Note there are alternative has algorithms: SHA256, RSA’s MD5, ...\n",
    "    v_hash =  hashlib.sha256(v_str).hexdigest()\n",
    "    #print(v_str)\n",
    "    \n",
    "    return v_hash\n",
    "\n",
    "def hash_atoms(at):\n",
    "    '''\n",
    "    Takes atom object and returns unique hash of legnth 64\n",
    "    '''\n",
    "    # Create array\n",
    "    \n",
    "    # Atomic numbers + positions\n",
    "    v = np.concatenate((at.numbers.reshape(-1,1), at.positions),axis=1).flatten() \n",
    "    # Cell\n",
    "    v = np.concatenate((v.flatten(), at.get_cell().flatten()))\n",
    "    \n",
    "    v_hash = hash_array(v)\n",
    "    \n",
    "    return v_hash"
   ]
  },
  {
   "cell_type": "code",
   "execution_count": null,
   "id": "peaceful-consultancy",
   "metadata": {},
   "outputs": [],
   "source": []
  },
  {
   "cell_type": "code",
   "execution_count": 123,
   "id": "stuck-wagner",
   "metadata": {},
   "outputs": [
    {
     "data": {
      "text/plain": [
       "64"
      ]
     },
     "execution_count": 123,
     "metadata": {},
     "output_type": "execute_result"
    }
   ],
   "source": [
    "a = np.array(['tst', 1.000001, 3])\n",
    "\n",
    "len(hash_array(a))"
   ]
  },
  {
   "cell_type": "code",
   "execution_count": 106,
   "id": "favorite-motel",
   "metadata": {},
   "outputs": [
    {
     "data": {
      "text/plain": [
       "'7bc2410f60c7966af598b9c1b8cefb08'"
      ]
     },
     "execution_count": 106,
     "metadata": {},
     "output_type": "execute_result"
    }
   ],
   "source": [
    "s = np.array2string(a, precision=10, sign='+', floatmode='fixed').encode()\n",
    "h= hashlib.md5(s)\n",
    "h. hexdigest()"
   ]
  },
  {
   "cell_type": "code",
   "execution_count": null,
   "id": "outside-blake",
   "metadata": {},
   "outputs": [],
   "source": [
    "has_atom = "
   ]
  },
  {
   "cell_type": "code",
   "execution_count": 118,
   "id": "ready-statistics",
   "metadata": {},
   "outputs": [
    {
     "ename": "TypeError",
     "evalue": "only integer scalar arrays can be converted to a scalar index",
     "output_type": "error",
     "traceback": [
      "\u001b[0;31m---------------------------------------------------------------------------\u001b[0m",
      "\u001b[0;31mTypeError\u001b[0m                                 Traceback (most recent call last)",
      "\u001b[0;32m<ipython-input-118-036bd3f4da5e>\u001b[0m in \u001b[0;36m<module>\u001b[0;34m\u001b[0m\n\u001b[1;32m      1\u001b[0m \u001b[0ma\u001b[0m \u001b[0;34m=\u001b[0m \u001b[0mnp\u001b[0m\u001b[0;34m.\u001b[0m\u001b[0mconcatenate\u001b[0m\u001b[0;34m(\u001b[0m\u001b[0;34m(\u001b[0m\u001b[0mat\u001b[0m\u001b[0;34m.\u001b[0m\u001b[0mnumbers\u001b[0m\u001b[0;34m.\u001b[0m\u001b[0mreshape\u001b[0m\u001b[0;34m(\u001b[0m\u001b[0;34m-\u001b[0m\u001b[0;36m1\u001b[0m\u001b[0;34m,\u001b[0m\u001b[0;36m1\u001b[0m\u001b[0;34m)\u001b[0m\u001b[0;34m,\u001b[0m \u001b[0mat\u001b[0m\u001b[0;34m.\u001b[0m\u001b[0mpositions\u001b[0m\u001b[0;34m)\u001b[0m\u001b[0;34m,\u001b[0m\u001b[0maxis\u001b[0m\u001b[0;34m=\u001b[0m\u001b[0;36m1\u001b[0m\u001b[0;34m)\u001b[0m\u001b[0;34m\u001b[0m\u001b[0;34m\u001b[0m\u001b[0m\n\u001b[0;32m----> 2\u001b[0;31m \u001b[0ma\u001b[0m \u001b[0;34m=\u001b[0m \u001b[0mnp\u001b[0m\u001b[0;34m.\u001b[0m\u001b[0mconcatenate\u001b[0m\u001b[0;34m(\u001b[0m\u001b[0ma\u001b[0m\u001b[0;34m.\u001b[0m\u001b[0mflatten\u001b[0m\u001b[0;34m(\u001b[0m\u001b[0;34m)\u001b[0m\u001b[0;34m,\u001b[0m \u001b[0mat\u001b[0m\u001b[0;34m.\u001b[0m\u001b[0mget_cell\u001b[0m\u001b[0;34m(\u001b[0m\u001b[0;34m)\u001b[0m\u001b[0;34m.\u001b[0m\u001b[0mflatten\u001b[0m\u001b[0;34m(\u001b[0m\u001b[0;34m)\u001b[0m\u001b[0;34m)\u001b[0m\u001b[0;34m\u001b[0m\u001b[0;34m\u001b[0m\u001b[0m\n\u001b[0m\u001b[1;32m      3\u001b[0m \u001b[0;31m#np.array2string(a.flatten(), precision=10, sign='+', floatmode='fixed')\u001b[0m\u001b[0;34m\u001b[0m\u001b[0;34m\u001b[0m\u001b[0;34m\u001b[0m\u001b[0m\n",
      "\u001b[0;32m<__array_function__ internals>\u001b[0m in \u001b[0;36mconcatenate\u001b[0;34m(*args, **kwargs)\u001b[0m\n",
      "\u001b[0;31mTypeError\u001b[0m: only integer scalar arrays can be converted to a scalar index"
     ]
    }
   ],
   "source": [
    "a = np.concatenate((at.numbers.reshape(-1,1), at.positions),axis=1)\n",
    "a = np.concatenate(a.flatten(), at.get_cell().flatten())\n",
    "#np.array2string(a.flatten(), precision=10, sign='+', floatmode='fixed')"
   ]
  },
  {
   "cell_type": "code",
   "execution_count": 113,
   "id": "activated-indonesia",
   "metadata": {},
   "outputs": [
    {
     "ename": "TypeError",
     "evalue": "'Cell' object is not callable",
     "output_type": "error",
     "traceback": [
      "\u001b[0;31m---------------------------------------------------------------------------\u001b[0m",
      "\u001b[0;31mTypeError\u001b[0m                                 Traceback (most recent call last)",
      "\u001b[0;32m<ipython-input-113-85161fce4ec1>\u001b[0m in \u001b[0;36m<module>\u001b[0;34m\u001b[0m\n\u001b[0;32m----> 1\u001b[0;31m \u001b[0mnp\u001b[0m\u001b[0;34m.\u001b[0m\u001b[0mconcatenate\u001b[0m\u001b[0;34m(\u001b[0m\u001b[0ma\u001b[0m\u001b[0;34m.\u001b[0m\u001b[0mflatten\u001b[0m\u001b[0;34m(\u001b[0m\u001b[0;34m)\u001b[0m\u001b[0;34m,\u001b[0m \u001b[0mat\u001b[0m\u001b[0;34m.\u001b[0m\u001b[0mcell\u001b[0m\u001b[0;34m(\u001b[0m\u001b[0;34m)\u001b[0m\u001b[0;34m.\u001b[0m\u001b[0mflatten\u001b[0m\u001b[0;34m(\u001b[0m\u001b[0;34m)\u001b[0m\u001b[0;34m)\u001b[0m\u001b[0;34m\u001b[0m\u001b[0;34m\u001b[0m\u001b[0m\n\u001b[0m",
      "\u001b[0;31mTypeError\u001b[0m: 'Cell' object is not callable"
     ]
    }
   ],
   "source": [
    "np.concatenate(a.flatten(), at.cell().flatten())"
   ]
  },
  {
   "cell_type": "code",
   "execution_count": 117,
   "id": "suited-machine",
   "metadata": {},
   "outputs": [
    {
     "data": {
      "text/plain": [
       "array([ 8.28142705e+00,  6.49078230e-10,  7.36214989e-16, -2.76047568e+00,\n",
       "        7.80780430e+00, -1.12424517e-09, -2.76047568e+00, -3.90390215e+00,\n",
       "        6.76175687e+00])"
      ]
     },
     "execution_count": 117,
     "metadata": {},
     "output_type": "execute_result"
    }
   ],
   "source": [
    "at.get_cell().flatten()"
   ]
  },
  {
   "cell_type": "code",
   "execution_count": 122,
   "id": "chicken-worthy",
   "metadata": {},
   "outputs": [
    {
     "data": {
      "text/plain": [
       "array([ 8.28142705e+00,  6.49078230e-10,  7.36214989e-16, -2.76047568e+00,\n",
       "        7.80780430e+00, -1.12424517e-09, -2.76047568e+00, -3.90390215e+00,\n",
       "        6.76175687e+00,  4.90000000e+01, -4.08019009e+00,  2.88513009e+00,\n",
       "        5.14544342e+00,  4.90000000e+01,  6.84066578e+00,  1.01877207e+00,\n",
       "        1.61631345e+00,  4.90000000e+01,  1.31971441e+00, -9.33179010e-01,\n",
       "        4.99719189e+00,  4.90000000e+01, -1.38023784e+00, -1.95195107e+00,\n",
       "        3.38087843e+00,  4.90000000e+01, -1.31971441e+00,  3.86110562e+00,\n",
       "        3.30675267e+00,  4.90000000e+01,  4.20123696e+00, -2.84233355e+00,\n",
       "        5.07131765e+00,  4.90000000e+01, -1.31971441e+00,  1.06156860e+00,\n",
       "        5.07131765e+00,  4.90000000e+01, -1.44076128e+00,  6.74623571e+00,\n",
       "        1.69043922e+00,  4.90000000e+01,  4.08019009e+00,  4.27965300e-02,\n",
       "        3.45500420e+00,  4.90000000e+01, -1.38023784e+00,  3.90390215e+00,\n",
       "       -0.00000000e+00,  4.90000000e+01,  4.08019009e+00,  5.89864976e+00,\n",
       "        7.41257600e-02,  4.90000000e+01, -1.31971441e+00, -1.99474760e+00,\n",
       "        6.68763111e+00,  4.90000000e+01,  4.08019009e+00,  2.84233356e+00,\n",
       "        1.69043922e+00,  4.90000000e+01,  1.44076127e+00,  4.83708116e+00,\n",
       "        1.76456498e+00,  4.90000000e+01,  4.14071352e+00,  0.00000000e+00,\n",
       "       -0.00000000e+00,  4.90000000e+01,  1.38023784e+00,  1.95195108e+00,\n",
       "        3.38087843e+00,  8.00000000e+00,  7.16298950e-01,  3.87985814e+00,\n",
       "        3.57830961e+00,  8.00000000e+00, -2.04417674e+00,  3.11092904e+00,\n",
       "        4.99342479e+00,  8.00000000e+00, -5.31524820e-01,  2.04132261e+00,\n",
       "        8.42805900e-02,  8.00000000e+00, -7.16298950e-01, -8.17017130e-01,\n",
       "        1.80997753e+00,  8.00000000e+00,  3.61440427e+00,  4.76957870e+00,\n",
       "        1.72569694e+00,  8.00000000e+00,  1.90654710e+00,  2.84224304e+00,\n",
       "        1.61254635e+00,  8.00000000e+00,  1.90654710e+00,  5.83123782e+00,\n",
       "        1.13150580e-01,  8.00000000e+00, -2.10175236e+00,  5.67653876e+00,\n",
       "        3.46515903e+00,  8.00000000e+00,  3.29200050e+00,  1.86257954e+00,\n",
       "        6.67747628e+00,  8.00000000e+00,  4.86222804e+00, -1.77263661e+00,\n",
       "        3.29659784e+00,  8.00000000e+00,  6.05247618e+00,  3.04560152e+00,\n",
       "        1.65518149e+00,  8.00000000e+00,  3.41919901e+00,  2.11459745e+00,\n",
       "        3.49402902e+00,  8.00000000e+00,  6.58723330e-01,  3.92057025e+00,\n",
       "        6.56432569e+00,  8.00000000e+00,  2.10175235e+00, -1.66680900e-02,\n",
       "        1.97431180e-01,  8.00000000e+00, -3.29200050e+00,  8.58300640e-01,\n",
       "        5.10657538e+00,  8.00000000e+00,  4.80465242e+00,  7.92973110e-01,\n",
       "        1.76833208e+00,  8.00000000e+00,  8.53928580e-01,  1.06165912e+00,\n",
       "        5.14921052e+00,  8.00000000e+00,  3.29200050e+00, -1.00427890e+00,\n",
       "        5.19085597e+00,  8.00000000e+00,  2.04417673e+00,  2.40440200e-02,\n",
       "        3.18344725e+00,  8.00000000e+00,  8.53928580e-01, -1.92733566e+00,\n",
       "        6.64860629e+00,  8.00000000e+00, -6.58723330e-01,  1.78930471e+00,\n",
       "        3.26772785e+00,  8.00000000e+00, -8.53928590e-01, -8.65676550e-01,\n",
       "        5.03605993e+00,  8.00000000e+00, -5.31524820e-01,  4.90818106e+00,\n",
       "        1.57090090e+00,  8.00000000e+00,  3.47677463e+00,  4.72091928e+00,\n",
       "        4.95177933e+00])"
      ]
     },
     "execution_count": 122,
     "metadata": {},
     "output_type": "execute_result"
    }
   ],
   "source": [
    "np.concatenate((at.get_cell().flatten(), a.flatten()))\n"
   ]
  },
  {
   "cell_type": "code",
   "execution_count": null,
   "id": "circular-tourist",
   "metadata": {},
   "outputs": [],
   "source": [
    "pd.DataFrame({\n",
    "    'uid': ,\n",
    "    'type': ,\n",
    "    'origin': ,\n",
    "    \n",
    "})"
   ]
  },
  {
   "cell_type": "code",
   "execution_count": null,
   "id": "material-hostel",
   "metadata": {},
   "outputs": [],
   "source": [
    "pd.DataFrame(columns=['uid', 'hash', 'origin', 'type', 'symbols', 'volume'])"
   ]
  },
  {
   "cell_type": "code",
   "execution_count": 137,
   "id": "exotic-installation",
   "metadata": {},
   "outputs": [
    {
     "data": {
      "text/plain": [
       "'In16O24'"
      ]
     },
     "execution_count": 137,
     "metadata": {},
     "output_type": "execute_result"
    }
   ],
   "source": [
    "str(at.symbols)"
   ]
  },
  {
   "cell_type": "code",
   "execution_count": 124,
   "id": "ongoing-sarah",
   "metadata": {},
   "outputs": [],
   "source": [
    "import json"
   ]
  },
  {
   "cell_type": "code",
   "execution_count": 126,
   "id": "alien-retailer",
   "metadata": {},
   "outputs": [
    {
     "data": {
      "text/plain": [
       "{'test': 12, 'y': 40, 'yum': 'it'}"
      ]
     },
     "execution_count": 126,
     "metadata": {},
     "output_type": "execute_result"
    }
   ],
   "source": [
    "d = {'test': 12, 'y':40, 'yum':'it'}\n",
    "d"
   ]
  },
  {
   "cell_type": "code",
   "execution_count": 127,
   "id": "altered-supervision",
   "metadata": {},
   "outputs": [],
   "source": [
    "json_file = open('test.yml', 'w')\n",
    "json.dump(d, json_file)\n",
    "json_file.close()"
   ]
  },
  {
   "cell_type": "code",
   "execution_count": 130,
   "id": "ceramic-fields",
   "metadata": {},
   "outputs": [
    {
     "data": {
      "text/plain": [
       "{'test': 12, 'y': 40, 'yum': 'it'}"
      ]
     },
     "execution_count": 130,
     "metadata": {},
     "output_type": "execute_result"
    }
   ],
   "source": [
    "json_file = open('test.yml', 'r')\n",
    "out = json.load(json_file)\n",
    "json_file.close()\n",
    "out"
   ]
  },
  {
   "cell_type": "code",
   "execution_count": null,
   "id": "infrared-cleveland",
   "metadata": {},
   "outputs": [],
   "source": [
    "json_file = open(json_file_name, 'w')\n",
    "json.dump(test.properties, json_file)\n",
    "json_file.close()\n",
    "\n",
    "json_data = json.load(model_data_file)"
   ]
  }
 ],
 "metadata": {
  "kernelspec": {
   "display_name": "Python 3",
   "language": "python",
   "name": "python3"
  },
  "language_info": {
   "codemirror_mode": {
    "name": "ipython",
    "version": 3
   },
   "file_extension": ".py",
   "mimetype": "text/x-python",
   "name": "python",
   "nbconvert_exporter": "python",
   "pygments_lexer": "ipython3",
   "version": "3.8.5"
  }
 },
 "nbformat": 4,
 "nbformat_minor": 5
}
