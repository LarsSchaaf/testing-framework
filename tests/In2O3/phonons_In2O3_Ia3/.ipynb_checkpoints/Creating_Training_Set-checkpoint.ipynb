{
 "cells": [
  {
   "cell_type": "markdown",
   "id": "blank-clone",
   "metadata": {},
   "source": [
    "# Originally I copied it manually\n",
    "\n",
    "This notebook is to codify this process\n",
    "\n",
    "Example path: `/home/lls34/GitHub/01_PhD/PhD_Code/submodules/testing-framework/testing-framework/example_models/In2O3/run_dir/run_In2O3-model-DFT_QE-test-bulk_In2O3_Ia3/In2O3-model-DFT_QE-test-bulk_In2O3_Ia3-E_vs_V_-01-relaxed.xyz`"
   ]
  },
  {
   "cell_type": "code",
   "execution_count": 9,
   "id": "isolated-secondary",
   "metadata": {
    "id": "nn9ukbPtBHha"
   },
   "outputs": [],
   "source": [
    "import itertools\n",
    "import json\n",
    "import os\n",
    "\n",
    "import numpy as np\n",
    "import pandas as pd\n",
    "import matplotlib.pyplot as plt\n",
    "import seaborn as sns\n",
    "import nglview\n",
    "import matplotlib.pyplot as plt\n",
    "import seaborn as sns\n",
    "\n",
    "from ase.io import read\n",
    "\n",
    "sns.set_context('talk')\n",
    "\n",
    "from shutil import copy2"
   ]
  },
  {
   "cell_type": "code",
   "execution_count": 7,
   "id": "combined-salvation",
   "metadata": {},
   "outputs": [],
   "source": [
    "RUN_DIR = '/home/lls34/GitHub/01_PhD/PhD_Code/submodules/testing-framework/testing-framework/example_models/In2O3/run_dir'\n",
    "FNAME = os.path.join(RUN_DIR,'run_In2O3-model-{}-test-bulk_In2O3_Ia3/'\n",
    "         'In2O3-model-{}-test-bulk_In2O3_Ia3-E_vs_V_{}{}-{}.xyz')\n",
    "ITS = ['Data_a_unrelaxed', 'Data_b_GAP', 'Data_c_QE']\n",
    "TO_DIRS = [os.path.join('/data/lls34/Data/In2O3/In2O3_LS_1/04_QE2/02_Ameliorate_GAP/02_Itterative/'\n",
    "                        '03_Bulk/Volume_Curves/It1_2/Train', i) for i in ITS]\n",
    "                        "
   ]
  },
  {
   "cell_type": "code",
   "execution_count": 5,
   "id": "usual-viking",
   "metadata": {},
   "outputs": [],
   "source": [
    "def get_EvsV_fname(model, number, higherV, relaxed=\"relaxed\"):\n",
    "    \"\"\"\n",
    "    Returns filname of .xyz file corresponding to cetain setting\n",
    "\n",
    "    Args:\n",
    "        model (str): model name eg. DFT_QE\n",
    "        number (int): number of EvsV to return\n",
    "        higherV (bool): should be higher or lower volume than equilibirum\n",
    "        relaxed (str, optional): can be 'unrelaxed', 'relaxed' or 'traj'.\n",
    "                Defaults to 'relaxed'.\n",
    "    \"\"\"\n",
    "    FNAME = os.path.join(RUN_DIR,'run_In2O3-model-{}-test-bulk_In2O3_Ia3/'\n",
    "         'In2O3-model-{}-test-bulk_In2O3_Ia3-E_vs_V_{}{:02d}-{}.xyz')\n",
    "    \n",
    "    if higherV:\n",
    "        higherV=''\n",
    "    else:\n",
    "        higherV='-'\n",
    "    \n",
    "    return FNAME.format(\n",
    "        model,\n",
    "        model,\n",
    "        higherV,\n",
    "        number,\n",
    "        relaxed\n",
    "    )"
   ]
  },
  {
   "cell_type": "code",
   "execution_count": 6,
   "id": "upper-sheet",
   "metadata": {},
   "outputs": [
    {
     "data": {
      "text/plain": [
       "True"
      ]
     },
     "execution_count": 6,
     "metadata": {},
     "output_type": "execute_result"
    }
   ],
   "source": [
    "os.path.exists(get_EvsV_fname('DFT_QE', 1, True))"
   ]
  },
  {
   "cell_type": "code",
   "execution_count": 8,
   "id": "unlimited-sewing",
   "metadata": {},
   "outputs": [
    {
     "data": {
      "text/plain": [
       "['/data/lls34/Data/In2O3/In2O3_LS_1/04_QE2/02_Ameliorate_GAP/02_Itterative/03_Bulk/Volume_Curves/It1_2/Train/Data_a_unrelaxed/Data_a_unrelaxed',\n",
       " '/data/lls34/Data/In2O3/In2O3_LS_1/04_QE2/02_Ameliorate_GAP/02_Itterative/03_Bulk/Volume_Curves/It1_2/Train/Data_a_unrelaxed/Data_b_GAP',\n",
       " '/data/lls34/Data/In2O3/In2O3_LS_1/04_QE2/02_Ameliorate_GAP/02_Itterative/03_Bulk/Volume_Curves/It1_2/Train/Data_a_unrelaxed/Data_c_QE']"
      ]
     },
     "execution_count": 8,
     "metadata": {},
     "output_type": "execute_result"
    }
   ],
   "source": [
    "TO_DIRS"
   ]
  },
  {
   "cell_type": "code",
   "execution_count": 17,
   "id": "characteristic-return",
   "metadata": {},
   "outputs": [
    {
     "name": "stdout",
     "output_type": "stream",
     "text": [
      "/home/lls34/GitHub/01_PhD/PhD_Code/submodules/testing-framework/testing-framework/example_models/In2O3/run_dir/run_In2O3-model-DFT_QE-test-bulk_In2O3_Ia3/In2O3-model-DFT_QE-test-bulk_In2O3_Ia3-E_vs_V_02-unrelaxed.xyz /data/lls34/Data/In2O3/In2O3_LS_1/04_QE2/02_Ameliorate_GAP/02_Itterative/03_Bulk/Volume_Curves/It1_2/Train/Data_a_unrelaxed/Data_a_unrelaxed\n",
      "/home/lls34/GitHub/01_PhD/PhD_Code/submodules/testing-framework/testing-framework/example_models/In2O3/run_dir/run_In2O3-model-DFT_QE-test-bulk_In2O3_Ia3/In2O3-model-DFT_QE-test-bulk_In2O3_Ia3-E_vs_V_04-unrelaxed.xyz /data/lls34/Data/In2O3/In2O3_LS_1/04_QE2/02_Ameliorate_GAP/02_Itterative/03_Bulk/Volume_Curves/It1_2/Train/Data_a_unrelaxed/Data_a_unrelaxed\n",
      "/home/lls34/GitHub/01_PhD/PhD_Code/submodules/testing-framework/testing-framework/example_models/In2O3/run_dir/run_In2O3-model-DFT_QE-test-bulk_In2O3_Ia3/In2O3-model-DFT_QE-test-bulk_In2O3_Ia3-E_vs_V_06-unrelaxed.xyz /data/lls34/Data/In2O3/In2O3_LS_1/04_QE2/02_Ameliorate_GAP/02_Itterative/03_Bulk/Volume_Curves/It1_2/Train/Data_a_unrelaxed/Data_a_unrelaxed\n",
      "/home/lls34/GitHub/01_PhD/PhD_Code/submodules/testing-framework/testing-framework/example_models/In2O3/run_dir/run_In2O3-model-DFT_QE-test-bulk_In2O3_Ia3/In2O3-model-DFT_QE-test-bulk_In2O3_Ia3-E_vs_V_08-unrelaxed.xyz /data/lls34/Data/In2O3/In2O3_LS_1/04_QE2/02_Ameliorate_GAP/02_Itterative/03_Bulk/Volume_Curves/It1_2/Train/Data_a_unrelaxed/Data_a_unrelaxed\n",
      "/home/lls34/GitHub/01_PhD/PhD_Code/submodules/testing-framework/testing-framework/example_models/In2O3/run_dir/run_In2O3-model-DFT_QE-test-bulk_In2O3_Ia3/In2O3-model-DFT_QE-test-bulk_In2O3_Ia3-E_vs_V_10-unrelaxed.xyz /data/lls34/Data/In2O3/In2O3_LS_1/04_QE2/02_Ameliorate_GAP/02_Itterative/03_Bulk/Volume_Curves/It1_2/Train/Data_a_unrelaxed/Data_a_unrelaxed\n"
     ]
    }
   ],
   "source": [
    "for i in range(1,11):\n",
    "    \n",
    "    if i%2 == 1:\n",
    "        continue\n",
    "    \n",
    "    fname_i, to_dir_i = get_EvsV_fname('DFT_QE', i, higherV=True, relaxed='unrelaxed'), TO_DIRS[0]\n",
    "    \n",
    "    print(fname_i, to_dir_i)  \n",
    "    copy2(fname_i, to_dir_i)"
   ]
  },
  {
   "cell_type": "code",
   "execution_count": null,
   "id": "cubic-nightmare",
   "metadata": {},
   "outputs": [],
   "source": []
  },
  {
   "cell_type": "code",
   "execution_count": null,
   "id": "dominican-regression",
   "metadata": {},
   "outputs": [],
   "source": []
  }
 ],
 "metadata": {
  "kernelspec": {
   "display_name": "Python 3",
   "language": "python",
   "name": "python3"
  },
  "language_info": {
   "codemirror_mode": {
    "name": "ipython",
    "version": 3
   },
   "file_extension": ".py",
   "mimetype": "text/x-python",
   "name": "python",
   "nbconvert_exporter": "python",
   "pygments_lexer": "ipython3",
   "version": "3.8.5"
  }
 },
 "nbformat": 4,
 "nbformat_minor": 5
}
